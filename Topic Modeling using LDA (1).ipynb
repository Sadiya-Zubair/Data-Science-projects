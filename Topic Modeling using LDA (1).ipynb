{
 "cells": [
  {
   "cell_type": "markdown",
   "id": "17acab34",
   "metadata": {},
   "source": [
    "# Topic Modelling Using LDA"
   ]
  },
  {
   "cell_type": "markdown",
   "id": "fa1ee791",
   "metadata": {},
   "source": [
    "We have Reviews of Groww app,which is an online investment platform based in India. It allows users to invest in a variety of financial products such as mutual funds, stocks, exchange-traded funds (ETFs), and more. Groww provides a user-friendly interface and mobile app, making it convenient for people to start investing and managing their portfolios.\n",
    "\n",
    "### Source: \n",
    "The data is of the year 2022 scraped from Google Play Store.\n",
    "\n",
    "### Objective\n",
    "Identify Dominant Topics: Using topic modeling, we aim to identify Major themes, sentiments, and user preferences.\n"
   ]
  },
  {
   "cell_type": "code",
   "execution_count": 1,
   "id": "4e54733e",
   "metadata": {},
   "outputs": [],
   "source": [
    "import pandas as pd\n",
    "import numpy as np"
   ]
  },
  {
   "cell_type": "code",
   "execution_count": 2,
   "id": "58f17b64",
   "metadata": {},
   "outputs": [],
   "source": [
    "d=pd.read_csv(\"Groww(2022)\")"
   ]
  },
  {
   "cell_type": "code",
   "execution_count": 3,
   "id": "2d0012b9",
   "metadata": {},
   "outputs": [
    {
     "name": "stderr",
     "output_type": "stream",
     "text": [
      "C:\\Users\\SADIYA\\anaconda3\\lib\\site-packages\\scipy\\__init__.py:146: UserWarning: A NumPy version >=1.16.5 and <1.23.0 is required for this version of SciPy (detected version 1.25.0\n",
      "  warnings.warn(f\"A NumPy version >={np_minversion} and <{np_maxversion}\"\n",
      "[nltk_data] Downloading package words to\n",
      "[nltk_data]     C:\\Users\\SADIYA\\AppData\\Roaming\\nltk_data...\n",
      "[nltk_data]   Package words is already up-to-date!\n"
     ]
    },
    {
     "data": {
      "text/plain": [
       "True"
      ]
     },
     "execution_count": 3,
     "metadata": {},
     "output_type": "execute_result"
    }
   ],
   "source": [
    "import nltk\n",
    "nltk.download('words')"
   ]
  },
  {
   "cell_type": "code",
   "execution_count": 4,
   "id": "c0b5c230",
   "metadata": {},
   "outputs": [],
   "source": [
    "d1=d.copy()"
   ]
  },
  {
   "cell_type": "markdown",
   "id": "e994a892",
   "metadata": {},
   "source": [
    "# Preprocessing"
   ]
  },
  {
   "cell_type": "markdown",
   "id": "ff39e7ca",
   "metadata": {},
   "source": [
    "## 1.Converting to LOWER case"
   ]
  },
  {
   "cell_type": "code",
   "execution_count": 5,
   "id": "f89508df",
   "metadata": {},
   "outputs": [
    {
     "data": {
      "text/html": [
       "<div>\n",
       "<style scoped>\n",
       "    .dataframe tbody tr th:only-of-type {\n",
       "        vertical-align: middle;\n",
       "    }\n",
       "\n",
       "    .dataframe tbody tr th {\n",
       "        vertical-align: top;\n",
       "    }\n",
       "\n",
       "    .dataframe thead th {\n",
       "        text-align: right;\n",
       "    }\n",
       "</style>\n",
       "<table border=\"1\" class=\"dataframe\">\n",
       "  <thead>\n",
       "    <tr style=\"text-align: right;\">\n",
       "      <th></th>\n",
       "      <th>Unnamed: 0</th>\n",
       "      <th>Reviews</th>\n",
       "      <th>score</th>\n",
       "      <th>Year</th>\n",
       "      <th>clean_reviews</th>\n",
       "    </tr>\n",
       "  </thead>\n",
       "  <tbody>\n",
       "    <tr>\n",
       "      <th>0</th>\n",
       "      <td>24494</td>\n",
       "      <td>💯</td>\n",
       "      <td>5</td>\n",
       "      <td>2022</td>\n",
       "      <td>💯</td>\n",
       "    </tr>\n",
       "    <tr>\n",
       "      <th>1</th>\n",
       "      <td>24495</td>\n",
       "      <td>I love this app</td>\n",
       "      <td>5</td>\n",
       "      <td>2022</td>\n",
       "      <td>i love this app</td>\n",
       "    </tr>\n",
       "    <tr>\n",
       "      <th>2</th>\n",
       "      <td>24496</td>\n",
       "      <td>Please add some more options / features like T...</td>\n",
       "      <td>4</td>\n",
       "      <td>2022</td>\n",
       "      <td>please add some more options / features like t...</td>\n",
       "    </tr>\n",
       "    <tr>\n",
       "      <th>3</th>\n",
       "      <td>24497</td>\n",
       "      <td>Complicated, misleading and confusing, waste o...</td>\n",
       "      <td>1</td>\n",
       "      <td>2022</td>\n",
       "      <td>complicated, misleading and confusing, waste o...</td>\n",
       "    </tr>\n",
       "    <tr>\n",
       "      <th>4</th>\n",
       "      <td>24498</td>\n",
       "      <td>Everything under one single click!!!... Kudos ...</td>\n",
       "      <td>5</td>\n",
       "      <td>2022</td>\n",
       "      <td>everything under one single click!!!... kudos ...</td>\n",
       "    </tr>\n",
       "  </tbody>\n",
       "</table>\n",
       "</div>"
      ],
      "text/plain": [
       "   Unnamed: 0                                            Reviews  score  Year  \\\n",
       "0       24494                                                  💯      5  2022   \n",
       "1       24495                                    I love this app      5  2022   \n",
       "2       24496  Please add some more options / features like T...      4  2022   \n",
       "3       24497  Complicated, misleading and confusing, waste o...      1  2022   \n",
       "4       24498  Everything under one single click!!!... Kudos ...      5  2022   \n",
       "\n",
       "                                       clean_reviews  \n",
       "0                                                  💯  \n",
       "1                                    i love this app  \n",
       "2  please add some more options / features like t...  \n",
       "3  complicated, misleading and confusing, waste o...  \n",
       "4  everything under one single click!!!... kudos ...  "
      ]
     },
     "execution_count": 5,
     "metadata": {},
     "output_type": "execute_result"
    }
   ],
   "source": [
    "\n",
    "d1['clean_reviews'] = d1['Reviews'].apply(lambda x: str(x).lower())\n",
    "d1.head()"
   ]
  },
  {
   "cell_type": "markdown",
   "id": "9dea7b5b",
   "metadata": {},
   "source": [
    "## 2. Removing Non-Alpha Data(digits,puntuation.diacritics)\n",
    "diacritics are symbols or marks that are added to letters in some languages to indicate a change in pronunciation, stress, or meaning. "
   ]
  },
  {
   "cell_type": "code",
   "execution_count": 6,
   "id": "654de771",
   "metadata": {},
   "outputs": [
    {
     "data": {
      "text/html": [
       "<div>\n",
       "<style scoped>\n",
       "    .dataframe tbody tr th:only-of-type {\n",
       "        vertical-align: middle;\n",
       "    }\n",
       "\n",
       "    .dataframe tbody tr th {\n",
       "        vertical-align: top;\n",
       "    }\n",
       "\n",
       "    .dataframe thead th {\n",
       "        text-align: right;\n",
       "    }\n",
       "</style>\n",
       "<table border=\"1\" class=\"dataframe\">\n",
       "  <thead>\n",
       "    <tr style=\"text-align: right;\">\n",
       "      <th></th>\n",
       "      <th>Unnamed: 0</th>\n",
       "      <th>Reviews</th>\n",
       "      <th>score</th>\n",
       "      <th>Year</th>\n",
       "      <th>clean_reviews</th>\n",
       "    </tr>\n",
       "  </thead>\n",
       "  <tbody>\n",
       "    <tr>\n",
       "      <th>0</th>\n",
       "      <td>24494</td>\n",
       "      <td>💯</td>\n",
       "      <td>5</td>\n",
       "      <td>2022</td>\n",
       "      <td></td>\n",
       "    </tr>\n",
       "    <tr>\n",
       "      <th>1</th>\n",
       "      <td>24495</td>\n",
       "      <td>I love this app</td>\n",
       "      <td>5</td>\n",
       "      <td>2022</td>\n",
       "      <td>i love this app</td>\n",
       "    </tr>\n",
       "    <tr>\n",
       "      <th>2</th>\n",
       "      <td>24496</td>\n",
       "      <td>Please add some more options / features like T...</td>\n",
       "      <td>4</td>\n",
       "      <td>2022</td>\n",
       "      <td>please add some more options   features like t...</td>\n",
       "    </tr>\n",
       "    <tr>\n",
       "      <th>3</th>\n",
       "      <td>24497</td>\n",
       "      <td>Complicated, misleading and confusing, waste o...</td>\n",
       "      <td>1</td>\n",
       "      <td>2022</td>\n",
       "      <td>complicated  misleading and confusing  waste o...</td>\n",
       "    </tr>\n",
       "    <tr>\n",
       "      <th>4</th>\n",
       "      <td>24498</td>\n",
       "      <td>Everything under one single click!!!... Kudos ...</td>\n",
       "      <td>5</td>\n",
       "      <td>2022</td>\n",
       "      <td>everything under one single click       kudos ...</td>\n",
       "    </tr>\n",
       "  </tbody>\n",
       "</table>\n",
       "</div>"
      ],
      "text/plain": [
       "   Unnamed: 0                                            Reviews  score  Year  \\\n",
       "0       24494                                                  💯      5  2022   \n",
       "1       24495                                    I love this app      5  2022   \n",
       "2       24496  Please add some more options / features like T...      4  2022   \n",
       "3       24497  Complicated, misleading and confusing, waste o...      1  2022   \n",
       "4       24498  Everything under one single click!!!... Kudos ...      5  2022   \n",
       "\n",
       "                                       clean_reviews  \n",
       "0                                                     \n",
       "1                                    i love this app  \n",
       "2  please add some more options   features like t...  \n",
       "3  complicated  misleading and confusing  waste o...  \n",
       "4  everything under one single click       kudos ...  "
      ]
     },
     "execution_count": 6,
     "metadata": {},
     "output_type": "execute_result"
    }
   ],
   "source": [
    "#3. REMOVE NON-ALPHA DATA(DIGITS,PUNCTUATIONS,DIACRITICS\n",
    "d1['clean_reviews'] = d1['clean_reviews'].str.replace(r'[^a-zA-Z\\s]', ' ',regex=True) \n",
    "d1.head()"
   ]
  },
  {
   "cell_type": "markdown",
   "id": "85802bd5",
   "metadata": {},
   "source": [
    "## 3. Removing White Space"
   ]
  },
  {
   "cell_type": "code",
   "execution_count": 7,
   "id": "df900df6",
   "metadata": {},
   "outputs": [
    {
     "data": {
      "text/html": [
       "<div>\n",
       "<style scoped>\n",
       "    .dataframe tbody tr th:only-of-type {\n",
       "        vertical-align: middle;\n",
       "    }\n",
       "\n",
       "    .dataframe tbody tr th {\n",
       "        vertical-align: top;\n",
       "    }\n",
       "\n",
       "    .dataframe thead th {\n",
       "        text-align: right;\n",
       "    }\n",
       "</style>\n",
       "<table border=\"1\" class=\"dataframe\">\n",
       "  <thead>\n",
       "    <tr style=\"text-align: right;\">\n",
       "      <th></th>\n",
       "      <th>Unnamed: 0</th>\n",
       "      <th>Reviews</th>\n",
       "      <th>score</th>\n",
       "      <th>Year</th>\n",
       "      <th>clean_reviews</th>\n",
       "    </tr>\n",
       "  </thead>\n",
       "  <tbody>\n",
       "    <tr>\n",
       "      <th>0</th>\n",
       "      <td>24494</td>\n",
       "      <td>💯</td>\n",
       "      <td>5</td>\n",
       "      <td>2022</td>\n",
       "      <td></td>\n",
       "    </tr>\n",
       "    <tr>\n",
       "      <th>1</th>\n",
       "      <td>24495</td>\n",
       "      <td>I love this app</td>\n",
       "      <td>5</td>\n",
       "      <td>2022</td>\n",
       "      <td>i love this app</td>\n",
       "    </tr>\n",
       "    <tr>\n",
       "      <th>2</th>\n",
       "      <td>24496</td>\n",
       "      <td>Please add some more options / features like T...</td>\n",
       "      <td>4</td>\n",
       "      <td>2022</td>\n",
       "      <td>please add some more options features like tar...</td>\n",
       "    </tr>\n",
       "    <tr>\n",
       "      <th>3</th>\n",
       "      <td>24497</td>\n",
       "      <td>Complicated, misleading and confusing, waste o...</td>\n",
       "      <td>1</td>\n",
       "      <td>2022</td>\n",
       "      <td>complicated misleading and confusing waste of ...</td>\n",
       "    </tr>\n",
       "    <tr>\n",
       "      <th>4</th>\n",
       "      <td>24498</td>\n",
       "      <td>Everything under one single click!!!... Kudos ...</td>\n",
       "      <td>5</td>\n",
       "      <td>2022</td>\n",
       "      <td>everything under one single click kudos to gro...</td>\n",
       "    </tr>\n",
       "  </tbody>\n",
       "</table>\n",
       "</div>"
      ],
      "text/plain": [
       "   Unnamed: 0                                            Reviews  score  Year  \\\n",
       "0       24494                                                  💯      5  2022   \n",
       "1       24495                                    I love this app      5  2022   \n",
       "2       24496  Please add some more options / features like T...      4  2022   \n",
       "3       24497  Complicated, misleading and confusing, waste o...      1  2022   \n",
       "4       24498  Everything under one single click!!!... Kudos ...      5  2022   \n",
       "\n",
       "                                       clean_reviews  \n",
       "0                                                     \n",
       "1                                    i love this app  \n",
       "2  please add some more options features like tar...  \n",
       "3  complicated misleading and confusing waste of ...  \n",
       "4  everything under one single click kudos to gro...  "
      ]
     },
     "execution_count": 7,
     "metadata": {},
     "output_type": "execute_result"
    }
   ],
   "source": [
    "d1['clean_reviews'] = d1['clean_reviews'].str.replace(r'\\s{2,}', ' ',regex=True)\n",
    "d1.head()"
   ]
  },
  {
   "cell_type": "markdown",
   "id": "a02122be",
   "metadata": {},
   "source": [
    "## 4. Word Tokenization"
   ]
  },
  {
   "cell_type": "code",
   "execution_count": 8,
   "id": "d8362cfd",
   "metadata": {},
   "outputs": [
    {
     "name": "stderr",
     "output_type": "stream",
     "text": [
      "[nltk_data] Downloading package punkt to\n",
      "[nltk_data]     C:\\Users\\SADIYA\\AppData\\Roaming\\nltk_data...\n",
      "[nltk_data]   Package punkt is already up-to-date!\n"
     ]
    },
    {
     "data": {
      "text/plain": [
       "True"
      ]
     },
     "execution_count": 8,
     "metadata": {},
     "output_type": "execute_result"
    }
   ],
   "source": [
    "import nltk\n",
    "from nltk.tokenize import word_tokenize\n",
    "nltk.download('punkt')"
   ]
  },
  {
   "cell_type": "code",
   "execution_count": 9,
   "id": "5bfaf338",
   "metadata": {},
   "outputs": [
    {
     "data": {
      "text/html": [
       "<div>\n",
       "<style scoped>\n",
       "    .dataframe tbody tr th:only-of-type {\n",
       "        vertical-align: middle;\n",
       "    }\n",
       "\n",
       "    .dataframe tbody tr th {\n",
       "        vertical-align: top;\n",
       "    }\n",
       "\n",
       "    .dataframe thead th {\n",
       "        text-align: right;\n",
       "    }\n",
       "</style>\n",
       "<table border=\"1\" class=\"dataframe\">\n",
       "  <thead>\n",
       "    <tr style=\"text-align: right;\">\n",
       "      <th></th>\n",
       "      <th>Unnamed: 0</th>\n",
       "      <th>Reviews</th>\n",
       "      <th>score</th>\n",
       "      <th>Year</th>\n",
       "      <th>clean_reviews</th>\n",
       "    </tr>\n",
       "  </thead>\n",
       "  <tbody>\n",
       "    <tr>\n",
       "      <th>0</th>\n",
       "      <td>24494</td>\n",
       "      <td>💯</td>\n",
       "      <td>5</td>\n",
       "      <td>2022</td>\n",
       "      <td>[]</td>\n",
       "    </tr>\n",
       "    <tr>\n",
       "      <th>1</th>\n",
       "      <td>24495</td>\n",
       "      <td>I love this app</td>\n",
       "      <td>5</td>\n",
       "      <td>2022</td>\n",
       "      <td>[i, love, this, app]</td>\n",
       "    </tr>\n",
       "    <tr>\n",
       "      <th>2</th>\n",
       "      <td>24496</td>\n",
       "      <td>Please add some more options / features like T...</td>\n",
       "      <td>4</td>\n",
       "      <td>2022</td>\n",
       "      <td>[please, add, some, more, options, features, l...</td>\n",
       "    </tr>\n",
       "    <tr>\n",
       "      <th>3</th>\n",
       "      <td>24497</td>\n",
       "      <td>Complicated, misleading and confusing, waste o...</td>\n",
       "      <td>1</td>\n",
       "      <td>2022</td>\n",
       "      <td>[complicated, misleading, and, confusing, wast...</td>\n",
       "    </tr>\n",
       "    <tr>\n",
       "      <th>4</th>\n",
       "      <td>24498</td>\n",
       "      <td>Everything under one single click!!!... Kudos ...</td>\n",
       "      <td>5</td>\n",
       "      <td>2022</td>\n",
       "      <td>[everything, under, one, single, click, kudos,...</td>\n",
       "    </tr>\n",
       "  </tbody>\n",
       "</table>\n",
       "</div>"
      ],
      "text/plain": [
       "   Unnamed: 0                                            Reviews  score  Year  \\\n",
       "0       24494                                                  💯      5  2022   \n",
       "1       24495                                    I love this app      5  2022   \n",
       "2       24496  Please add some more options / features like T...      4  2022   \n",
       "3       24497  Complicated, misleading and confusing, waste o...      1  2022   \n",
       "4       24498  Everything under one single click!!!... Kudos ...      5  2022   \n",
       "\n",
       "                                       clean_reviews  \n",
       "0                                                 []  \n",
       "1                               [i, love, this, app]  \n",
       "2  [please, add, some, more, options, features, l...  \n",
       "3  [complicated, misleading, and, confusing, wast...  \n",
       "4  [everything, under, one, single, click, kudos,...  "
      ]
     },
     "execution_count": 9,
     "metadata": {},
     "output_type": "execute_result"
    }
   ],
   "source": [
    "d1['clean_reviews'] = d1['clean_reviews'].apply(lambda x: word_tokenize(x))\n",
    "d1.head()"
   ]
  },
  {
   "cell_type": "markdown",
   "id": "0fe19143",
   "metadata": {},
   "source": [
    "## 5. Removing Stop Words\n",
    "Stop Words are frequently occuring words that do not carry significant meaning on their own.Examples of stop words in English include \"the,\" \"and,\" \"in,\" \"of,\" \"a,\" \"an,\" \"is,\" \"for,\" and \"to,\""
   ]
  },
  {
   "cell_type": "code",
   "execution_count": 10,
   "id": "c0ba92a0",
   "metadata": {},
   "outputs": [
    {
     "name": "stderr",
     "output_type": "stream",
     "text": [
      "[nltk_data] Downloading package stopwords to\n",
      "[nltk_data]     C:\\Users\\SADIYA\\AppData\\Roaming\\nltk_data...\n",
      "[nltk_data]   Package stopwords is already up-to-date!\n"
     ]
    },
    {
     "data": {
      "text/plain": [
       "True"
      ]
     },
     "execution_count": 10,
     "metadata": {},
     "output_type": "execute_result"
    }
   ],
   "source": [
    "from nltk.corpus import stopwords\n",
    "nltk.download('stopwords')"
   ]
  },
  {
   "cell_type": "code",
   "execution_count": 11,
   "id": "ebea6ea5",
   "metadata": {},
   "outputs": [
    {
     "data": {
      "text/html": [
       "<div>\n",
       "<style scoped>\n",
       "    .dataframe tbody tr th:only-of-type {\n",
       "        vertical-align: middle;\n",
       "    }\n",
       "\n",
       "    .dataframe tbody tr th {\n",
       "        vertical-align: top;\n",
       "    }\n",
       "\n",
       "    .dataframe thead th {\n",
       "        text-align: right;\n",
       "    }\n",
       "</style>\n",
       "<table border=\"1\" class=\"dataframe\">\n",
       "  <thead>\n",
       "    <tr style=\"text-align: right;\">\n",
       "      <th></th>\n",
       "      <th>Unnamed: 0</th>\n",
       "      <th>Reviews</th>\n",
       "      <th>score</th>\n",
       "      <th>Year</th>\n",
       "      <th>clean_reviews</th>\n",
       "    </tr>\n",
       "  </thead>\n",
       "  <tbody>\n",
       "    <tr>\n",
       "      <th>0</th>\n",
       "      <td>24494</td>\n",
       "      <td>💯</td>\n",
       "      <td>5</td>\n",
       "      <td>2022</td>\n",
       "      <td>[]</td>\n",
       "    </tr>\n",
       "    <tr>\n",
       "      <th>1</th>\n",
       "      <td>24495</td>\n",
       "      <td>I love this app</td>\n",
       "      <td>5</td>\n",
       "      <td>2022</td>\n",
       "      <td>[love]</td>\n",
       "    </tr>\n",
       "    <tr>\n",
       "      <th>2</th>\n",
       "      <td>24496</td>\n",
       "      <td>Please add some more options / features like T...</td>\n",
       "      <td>4</td>\n",
       "      <td>2022</td>\n",
       "      <td>[please, options, features, like, target, order]</td>\n",
       "    </tr>\n",
       "    <tr>\n",
       "      <th>3</th>\n",
       "      <td>24497</td>\n",
       "      <td>Complicated, misleading and confusing, waste o...</td>\n",
       "      <td>1</td>\n",
       "      <td>2022</td>\n",
       "      <td>[complicated, misleading, confusing, waste, ti...</td>\n",
       "    </tr>\n",
       "    <tr>\n",
       "      <th>4</th>\n",
       "      <td>24498</td>\n",
       "      <td>Everything under one single click!!!... Kudos ...</td>\n",
       "      <td>5</td>\n",
       "      <td>2022</td>\n",
       "      <td>[everything, single, click, kudos, groww, team]</td>\n",
       "    </tr>\n",
       "  </tbody>\n",
       "</table>\n",
       "</div>"
      ],
      "text/plain": [
       "   Unnamed: 0                                            Reviews  score  Year  \\\n",
       "0       24494                                                  💯      5  2022   \n",
       "1       24495                                    I love this app      5  2022   \n",
       "2       24496  Please add some more options / features like T...      4  2022   \n",
       "3       24497  Complicated, misleading and confusing, waste o...      1  2022   \n",
       "4       24498  Everything under one single click!!!... Kudos ...      5  2022   \n",
       "\n",
       "                                       clean_reviews  \n",
       "0                                                 []  \n",
       "1                                             [love]  \n",
       "2   [please, options, features, like, target, order]  \n",
       "3  [complicated, misleading, confusing, waste, ti...  \n",
       "4    [everything, single, click, kudos, groww, team]  "
      ]
     },
     "execution_count": 11,
     "metadata": {},
     "output_type": "execute_result"
    }
   ],
   "source": [
    "d1['clean_reviews'] = d1['clean_reviews'].apply\\\n",
    "(lambda x:[word for word in x if word not in stopwords.words(\"english\") and len(word) > 3 and word.isalpha()])\n",
    "d1.head()"
   ]
  },
  {
   "cell_type": "code",
   "execution_count": 12,
   "id": "172cbf51",
   "metadata": {},
   "outputs": [],
   "source": [
    "d1 = d1[d1['clean_reviews'].map(lambda x: len(x)) > 1].reset_index(drop=True)\n",
    "# Keeping records with more than single words\n"
   ]
  },
  {
   "cell_type": "markdown",
   "id": "fdaeb291",
   "metadata": {},
   "source": [
    "## 6. LEMMATIZATION"
   ]
  },
  {
   "cell_type": "code",
   "execution_count": 13,
   "id": "fd4e64d7",
   "metadata": {},
   "outputs": [
    {
     "name": "stderr",
     "output_type": "stream",
     "text": [
      "[nltk_data] Downloading package wordnet to\n",
      "[nltk_data]     C:\\Users\\SADIYA\\AppData\\Roaming\\nltk_data...\n",
      "[nltk_data]   Package wordnet is already up-to-date!\n"
     ]
    },
    {
     "data": {
      "text/plain": [
       "True"
      ]
     },
     "execution_count": 13,
     "metadata": {},
     "output_type": "execute_result"
    }
   ],
   "source": [
    "from nltk.stem import WordNetLemmatizer\n",
    "nltk.download('wordnet')"
   ]
  },
  {
   "cell_type": "code",
   "execution_count": 14,
   "id": "fd078641",
   "metadata": {},
   "outputs": [
    {
     "data": {
      "text/html": [
       "<div>\n",
       "<style scoped>\n",
       "    .dataframe tbody tr th:only-of-type {\n",
       "        vertical-align: middle;\n",
       "    }\n",
       "\n",
       "    .dataframe tbody tr th {\n",
       "        vertical-align: top;\n",
       "    }\n",
       "\n",
       "    .dataframe thead th {\n",
       "        text-align: right;\n",
       "    }\n",
       "</style>\n",
       "<table border=\"1\" class=\"dataframe\">\n",
       "  <thead>\n",
       "    <tr style=\"text-align: right;\">\n",
       "      <th></th>\n",
       "      <th>Unnamed: 0</th>\n",
       "      <th>Reviews</th>\n",
       "      <th>score</th>\n",
       "      <th>Year</th>\n",
       "      <th>clean_reviews</th>\n",
       "    </tr>\n",
       "  </thead>\n",
       "  <tbody>\n",
       "    <tr>\n",
       "      <th>0</th>\n",
       "      <td>24496</td>\n",
       "      <td>Please add some more options / features like T...</td>\n",
       "      <td>4</td>\n",
       "      <td>2022</td>\n",
       "      <td>[please, option, feature, like, target, order]</td>\n",
       "    </tr>\n",
       "    <tr>\n",
       "      <th>1</th>\n",
       "      <td>24497</td>\n",
       "      <td>Complicated, misleading and confusing, waste o...</td>\n",
       "      <td>1</td>\n",
       "      <td>2022</td>\n",
       "      <td>[complicated, misleading, confusing, waste, ti...</td>\n",
       "    </tr>\n",
       "    <tr>\n",
       "      <th>2</th>\n",
       "      <td>24498</td>\n",
       "      <td>Everything under one single click!!!... Kudos ...</td>\n",
       "      <td>5</td>\n",
       "      <td>2022</td>\n",
       "      <td>[everything, single, click, kudos, groww, team]</td>\n",
       "    </tr>\n",
       "    <tr>\n",
       "      <th>3</th>\n",
       "      <td>24500</td>\n",
       "      <td>I want buy yes Bank shere but this can not buy</td>\n",
       "      <td>1</td>\n",
       "      <td>2022</td>\n",
       "      <td>[want, bank, shere]</td>\n",
       "    </tr>\n",
       "    <tr>\n",
       "      <th>4</th>\n",
       "      <td>24501</td>\n",
       "      <td>Jabse grow app jindagi mai aaya hai ..jindagi ...</td>\n",
       "      <td>5</td>\n",
       "      <td>2022</td>\n",
       "      <td>[jabse, grow, jindagi, aaya, jindagi, grow, ga...</td>\n",
       "    </tr>\n",
       "  </tbody>\n",
       "</table>\n",
       "</div>"
      ],
      "text/plain": [
       "   Unnamed: 0                                            Reviews  score  Year  \\\n",
       "0       24496  Please add some more options / features like T...      4  2022   \n",
       "1       24497  Complicated, misleading and confusing, waste o...      1  2022   \n",
       "2       24498  Everything under one single click!!!... Kudos ...      5  2022   \n",
       "3       24500     I want buy yes Bank shere but this can not buy      1  2022   \n",
       "4       24501  Jabse grow app jindagi mai aaya hai ..jindagi ...      5  2022   \n",
       "\n",
       "                                       clean_reviews  \n",
       "0     [please, option, feature, like, target, order]  \n",
       "1  [complicated, misleading, confusing, waste, ti...  \n",
       "2    [everything, single, click, kudos, groww, team]  \n",
       "3                                [want, bank, shere]  \n",
       "4  [jabse, grow, jindagi, aaya, jindagi, grow, ga...  "
      ]
     },
     "execution_count": 14,
     "metadata": {},
     "output_type": "execute_result"
    }
   ],
   "source": [
    "d1['clean_reviews'] = d1['clean_reviews'].apply\\\n",
    "(lambda x: [WordNetLemmatizer().lemmatize(word) for word in x])\n",
    "d1.head()"
   ]
  },
  {
   "cell_type": "markdown",
   "id": "0a3546d6",
   "metadata": {},
   "source": [
    "## 7. Extracting only NOUN"
   ]
  },
  {
   "cell_type": "code",
   "execution_count": 15,
   "id": "851dae0d",
   "metadata": {},
   "outputs": [
    {
     "name": "stderr",
     "output_type": "stream",
     "text": [
      "[nltk_data] Downloading package averaged_perceptron_tagger to\n",
      "[nltk_data]     C:\\Users\\SADIYA\\AppData\\Roaming\\nltk_data...\n",
      "[nltk_data]   Package averaged_perceptron_tagger is already up-to-\n",
      "[nltk_data]       date!\n"
     ]
    },
    {
     "data": {
      "text/plain": [
       "True"
      ]
     },
     "execution_count": 15,
     "metadata": {},
     "output_type": "execute_result"
    }
   ],
   "source": [
    "nltk.download('averaged_perceptron_tagger')"
   ]
  },
  {
   "cell_type": "code",
   "execution_count": 16,
   "id": "d47928b8",
   "metadata": {},
   "outputs": [],
   "source": [
    "def filter_nouns(words):\n",
    "    tagged_words = nltk.pos_tag(words)\n",
    "    nouns = [word for word, pos in tagged_words if pos in [\"NN\", \"NNS\"]]\n",
    "    return nouns\n",
    "d1['clean_reviews'] = d1['clean_reviews'].apply(filter_nouns)\n",
    "\n"
   ]
  },
  {
   "cell_type": "markdown",
   "id": "c11b06bb",
   "metadata": {},
   "source": [
    "By including both \"NN\" and \"NNS\" in the list of accepted part-of-speech tags, We ensure that the code captures both singular and plural nouns, providing a more comprehensive analysis of the text data."
   ]
  },
  {
   "cell_type": "code",
   "execution_count": 17,
   "id": "0f23201f",
   "metadata": {},
   "outputs": [
    {
     "data": {
      "text/html": [
       "<div>\n",
       "<style scoped>\n",
       "    .dataframe tbody tr th:only-of-type {\n",
       "        vertical-align: middle;\n",
       "    }\n",
       "\n",
       "    .dataframe tbody tr th {\n",
       "        vertical-align: top;\n",
       "    }\n",
       "\n",
       "    .dataframe thead th {\n",
       "        text-align: right;\n",
       "    }\n",
       "</style>\n",
       "<table border=\"1\" class=\"dataframe\">\n",
       "  <thead>\n",
       "    <tr style=\"text-align: right;\">\n",
       "      <th></th>\n",
       "      <th>Unnamed: 0</th>\n",
       "      <th>Reviews</th>\n",
       "      <th>score</th>\n",
       "      <th>Year</th>\n",
       "      <th>clean_reviews</th>\n",
       "    </tr>\n",
       "  </thead>\n",
       "  <tbody>\n",
       "    <tr>\n",
       "      <th>0</th>\n",
       "      <td>24496</td>\n",
       "      <td>Please add some more options / features like T...</td>\n",
       "      <td>4</td>\n",
       "      <td>2022</td>\n",
       "      <td>[please, option, feature, target, order]</td>\n",
       "    </tr>\n",
       "    <tr>\n",
       "      <th>1</th>\n",
       "      <td>24497</td>\n",
       "      <td>Complicated, misleading and confusing, waste o...</td>\n",
       "      <td>1</td>\n",
       "      <td>2022</td>\n",
       "      <td>[waste, time, effort]</td>\n",
       "    </tr>\n",
       "    <tr>\n",
       "      <th>2</th>\n",
       "      <td>24498</td>\n",
       "      <td>Everything under one single click!!!... Kudos ...</td>\n",
       "      <td>5</td>\n",
       "      <td>2022</td>\n",
       "      <td>[everything, click, kudos, groww, team]</td>\n",
       "    </tr>\n",
       "    <tr>\n",
       "      <th>3</th>\n",
       "      <td>24500</td>\n",
       "      <td>I want buy yes Bank shere but this can not buy</td>\n",
       "      <td>1</td>\n",
       "      <td>2022</td>\n",
       "      <td>[bank]</td>\n",
       "    </tr>\n",
       "    <tr>\n",
       "      <th>4</th>\n",
       "      <td>24501</td>\n",
       "      <td>Jabse grow app jindagi mai aaya hai ..jindagi ...</td>\n",
       "      <td>5</td>\n",
       "      <td>2022</td>\n",
       "      <td>[jabse, grow, jindagi, aaya, jindagi, grow, ga...</td>\n",
       "    </tr>\n",
       "  </tbody>\n",
       "</table>\n",
       "</div>"
      ],
      "text/plain": [
       "   Unnamed: 0                                            Reviews  score  Year  \\\n",
       "0       24496  Please add some more options / features like T...      4  2022   \n",
       "1       24497  Complicated, misleading and confusing, waste o...      1  2022   \n",
       "2       24498  Everything under one single click!!!... Kudos ...      5  2022   \n",
       "3       24500     I want buy yes Bank shere but this can not buy      1  2022   \n",
       "4       24501  Jabse grow app jindagi mai aaya hai ..jindagi ...      5  2022   \n",
       "\n",
       "                                       clean_reviews  \n",
       "0           [please, option, feature, target, order]  \n",
       "1                              [waste, time, effort]  \n",
       "2            [everything, click, kudos, groww, team]  \n",
       "3                                             [bank]  \n",
       "4  [jabse, grow, jindagi, aaya, jindagi, grow, ga...  "
      ]
     },
     "execution_count": 17,
     "metadata": {},
     "output_type": "execute_result"
    }
   ],
   "source": [
    "d1.head()"
   ]
  },
  {
   "cell_type": "code",
   "execution_count": 18,
   "id": "80148e7f",
   "metadata": {},
   "outputs": [],
   "source": [
    "d1 = d1[d1['clean_reviews'].map(lambda x: len(x)) > 1].reset_index(drop=True)\n",
    "# Keeping records with more than single words"
   ]
  },
  {
   "cell_type": "markdown",
   "id": "b542b68a",
   "metadata": {},
   "source": [
    "Our data consists of English as well as non-english words, we try to filter out the non-english nouns or non- standard nouns."
   ]
  },
  {
   "cell_type": "markdown",
   "id": "887fd2c6",
   "metadata": {},
   "source": [
    "## Filtering out non-English nouns (both singular and plural)"
   ]
  },
  {
   "cell_type": "code",
   "execution_count": 19,
   "id": "0b1d055a",
   "metadata": {},
   "outputs": [],
   "source": [
    "\n",
    "from nltk.corpus import words, wordnet\n",
    "english_words = set(words.words())\n",
    "def filter_english_nouns(noun_tokens):\n",
    "    english_nouns = []\n",
    "    for noun in noun_tokens:\n",
    "        # Check if the noun is in WordNet\n",
    "        if wordnet.synsets(noun):\n",
    "            english_nouns.append(noun)\n",
    "        # Check if the noun's singular form is in WordNet\n",
    "        elif wordnet.synsets(noun[:-1]):\n",
    "            english_nouns.append(noun)\n",
    "        else:\n",
    "        # Split compound nouns and check each part\n",
    "            parts = noun.split(\"-\")  \n",
    "            if all(part.lower() in english_words for part in parts):\n",
    "                english_nouns.append(noun)\n",
    "    return english_nouns\n",
    "\n",
    "# Apply the filter_english_nouns function to the 'nouns' column\n",
    "d1['english_nouns'] = d1['clean_reviews'].apply(filter_english_nouns)\n"
   ]
  },
  {
   "cell_type": "markdown",
   "id": "dedf809a",
   "metadata": {},
   "source": [
    "## Document Term Matrix"
   ]
  },
  {
   "cell_type": "code",
   "execution_count": 20,
   "id": "1e03f602",
   "metadata": {},
   "outputs": [],
   "source": [
    "import gensim"
   ]
  },
  {
   "cell_type": "code",
   "execution_count": 21,
   "id": "bbeae064",
   "metadata": {},
   "outputs": [],
   "source": [
    "from gensim import corpora"
   ]
  },
  {
   "cell_type": "code",
   "execution_count": 22,
   "id": "4a936ca0",
   "metadata": {},
   "outputs": [
    {
     "name": "stdout",
     "output_type": "stream",
     "text": [
      "Dictionary<4095 unique tokens: ['feature', 'option', 'order', 'please', 'target']...>\n"
     ]
    }
   ],
   "source": [
    "dictionary = corpora.Dictionary(d1['english_nouns'])\n",
    "print(dictionary)"
   ]
  },
  {
   "cell_type": "code",
   "execution_count": 23,
   "id": "ddc1930c",
   "metadata": {},
   "outputs": [
    {
     "data": {
      "text/plain": [
       "0             [(0, 1), (1, 1), (2, 1), (3, 1), (4, 1)]\n",
       "1                             [(5, 1), (6, 1), (7, 1)]\n",
       "2          [(8, 1), (9, 1), (10, 1), (11, 1), (12, 1)]\n",
       "3        [(13, 1), (14, 2), (15, 1), (16, 2), (17, 1)]\n",
       "4                  [(1, 1), (10, 2), (18, 2), (19, 1)]\n",
       "5    [(1, 1), (20, 1), (21, 1), (22, 1), (23, 1), (...\n",
       "6                          [(10, 1), (29, 1), (30, 1)]\n",
       "7    [(8, 1), (10, 3), (12, 1), (14, 1), (31, 1), (...\n",
       "8                                    [(1, 1), (42, 1)]\n",
       "9    [(6, 1), (31, 1), (43, 1), (44, 3), (45, 1), (...\n",
       "Name: english_nouns, dtype: object"
      ]
     },
     "execution_count": 23,
     "metadata": {},
     "output_type": "execute_result"
    }
   ],
   "source": [
    "doc_term_matrix = d1['english_nouns'].apply(lambda x: dictionary.doc2bow(x))\n",
    "doc_term_matrix[:10]\n",
    "\n",
    "# Each tokenized words has been assigned index value and their count in corpus"
   ]
  },
  {
   "cell_type": "markdown",
   "id": "22f2dfcc",
   "metadata": {},
   "source": [
    "## LDA"
   ]
  },
  {
   "cell_type": "code",
   "execution_count": 24,
   "id": "f34c61da",
   "metadata": {},
   "outputs": [],
   "source": [
    "from IPython.display import clear_output"
   ]
  },
  {
   "cell_type": "code",
   "execution_count": 25,
   "id": "4753f847",
   "metadata": {},
   "outputs": [],
   "source": [
    "Lda = gensim.models.ldamodel.LdaModel\n",
    "ldamodel = Lda(corpus=doc_term_matrix, num_topics=5, id2word=dictionary, passes=10,random_state=45)\n",
    "clear_output()"
   ]
  },
  {
   "cell_type": "markdown",
   "id": "16cd8bf0",
   "metadata": {},
   "source": [
    "* corpus: This should be your document-term matrix.\n",
    "\n",
    "* num_topics: Specifies the number of topics you want the model to discover.\n",
    "\n",
    "* id2word: This is a mapping that connects the term IDs in your document-term matrix to the actual terms (words) in your vocabulary. \n",
    "\n",
    "* passes: Controls the number of passes the algorithm makes over the entire corpus during training.\n",
    "\n",
    "* random_state: Specifies a random seed for reproducibility. Setting a fixed random seed ensures that the results are consistent across different runs"
   ]
  },
  {
   "cell_type": "code",
   "execution_count": 26,
   "id": "a0105bfa",
   "metadata": {},
   "outputs": [
    {
     "data": {
      "text/plain": [
       "[(0,\n",
       "  '0.147*\"stock\" + 0.085*\"application\" + 0.059*\"fund\" + 0.059*\"market\" + 0.058*\"investment\" + 0.048*\"share\" + 0.035*\"trading\" + 0.029*\"platform\" + 0.026*\"sell\" + 0.017*\"crash\"'),\n",
       " (1,\n",
       "  '0.068*\"session\" + 0.051*\"customer\" + 0.049*\"time\" + 0.048*\"order\" + 0.046*\"service\" + 0.043*\"loss\" + 0.036*\"issue\" + 0.029*\"support\" + 0.027*\"glitch\" + 0.019*\"money\"'),\n",
       " (2,\n",
       "  '0.135*\"time\" + 0.082*\"login\" + 0.079*\"issue\" + 0.051*\"problem\" + 0.036*\"please\" + 0.026*\"today\" + 0.024*\"market\" + 0.024*\"morning\" + 0.024*\"show\" + 0.017*\"option\"'),\n",
       " (3,\n",
       "  '0.112*\"money\" + 0.094*\"account\" + 0.084*\"groww\" + 0.031*\"grow\" + 0.029*\"amount\" + 0.026*\"bank\" + 0.025*\"day\" + 0.022*\"experience\" + 0.020*\"team\" + 0.018*\"help\"'),\n",
       " (4,\n",
       "  '0.062*\"option\" + 0.053*\"charge\" + 0.038*\"price\" + 0.033*\"feature\" + 0.032*\"groww\" + 0.029*\"loss\" + 0.028*\"trading\" + 0.028*\"profit\" + 0.022*\"trade\" + 0.021*\"interface\"')]"
      ]
     },
     "execution_count": 26,
     "metadata": {},
     "output_type": "execute_result"
    }
   ],
   "source": [
    "ldamodel.print_topics()  "
   ]
  },
  {
   "cell_type": "markdown",
   "id": "a688d0eb",
   "metadata": {},
   "source": [
    "Five Topics and their Keywords generated by LDA"
   ]
  },
  {
   "cell_type": "markdown",
   "id": "4b56038e",
   "metadata": {},
   "source": [
    "## Visualization"
   ]
  },
  {
   "cell_type": "code",
   "execution_count": 27,
   "id": "b3d33359",
   "metadata": {},
   "outputs": [
    {
     "name": "stderr",
     "output_type": "stream",
     "text": [
      "C:\\Users\\SADIYA\\anaconda3\\lib\\site-packages\\scipy\\sparse\\sputils.py:44: DeprecationWarning: np.find_common_type is deprecated.  Please use `np.result_type` or `np.promote_types`.\n",
      "See https://numpy.org/devdocs/release/1.25.0-notes.html and the docs for more information.  (Deprecated NumPy 1.25)\n",
      "  upcast = np.find_common_type(args, [])\n",
      "C:\\Users\\SADIYA\\anaconda3\\lib\\site-packages\\pandas\\core\\dtypes\\cast.py:1841: DeprecationWarning: np.find_common_type is deprecated.  Please use `np.result_type` or `np.promote_types`.\n",
      "See https://numpy.org/devdocs/release/1.25.0-notes.html and the docs for more information.  (Deprecated NumPy 1.25)\n",
      "  return np.find_common_type(types, [])\n"
     ]
    },
    {
     "data": {
      "text/html": [
       "\n",
       "<link rel=\"stylesheet\" type=\"text/css\" href=\"https://cdn.jsdelivr.net/gh/bmabey/pyLDAvis@3.4.0/pyLDAvis/js/ldavis.v1.0.0.css\">\n",
       "\n",
       "\n",
       "<div id=\"ldavis_el2132017033351850888767235781\" style=\"background-color:white;\"></div>\n",
       "<script type=\"text/javascript\">\n",
       "\n",
       "var ldavis_el2132017033351850888767235781_data = {\"mdsDat\": {\"x\": [0.11334755136993231, 0.20759871685585332, 0.13448286147300564, -0.11189435048750382, -0.34353477921128756], \"y\": [-0.21707545413493215, -0.11807914142966999, 0.28093270634605705, 0.1293579022987401, -0.07513601308019502], \"topics\": [1, 2, 3, 4, 5], \"cluster\": [1, 1, 1, 1, 1], \"Freq\": [21.995858209470637, 21.843014614814713, 20.63513766993802, 17.817175137050352, 17.70881436872628]}, \"tinfo\": {\"Term\": [\"stock\", \"time\", \"money\", \"account\", \"login\", \"application\", \"groww\", \"issue\", \"session\", \"fund\", \"investment\", \"customer\", \"market\", \"charge\", \"option\", \"order\", \"service\", \"loss\", \"share\", \"problem\", \"price\", \"feature\", \"support\", \"glitch\", \"platform\", \"grow\", \"amount\", \"bank\", \"morning\", \"profit\", \"login\", \"morning\", \"chart\", \"update\", \"need\", \"something\", \"page\", \"asap\", \"bug\", \"everything\", \"lot\", \"opening\", \"view\", \"connection\", \"data\", \"sign\", \"understand\", \"line\", \"improvement\", \"refresh\", \"look\", \"others\", \"internet\", \"form\", \"facing\", \"index\", \"tool\", \"indicator\", \"period\", \"season\", \"time\", \"issue\", \"problem\", \"dashboard\", \"today\", \"show\", \"work\", \"error\", \"please\", \"hour\", \"minute\", \"market\", \"change\", \"option\", \"trade\", \"day\", \"experience\", \"trading\", \"price\", \"thing\", \"session\", \"customer\", \"order\", \"service\", \"support\", \"glitch\", \"care\", \"call\", \"response\", \"place\", \"solve\", \"exit\", \"ticket\", \"class\", \"log\", \"message\", \"contact\", \"mail\", \"reply\", \"expire\", \"future\", \"solution\", \"refund\", \"baar\", \"card\", \"waste\", \"book\", \"min\", \"logging\", \"website\", \"get\", \"loss\", \"kind\", \"position\", \"issue\", \"time\", \"number\", \"guy\", \"month\", \"problem\", \"team\", \"money\", \"today\", \"experience\", \"day\", \"trading\", \"sell\", \"account\", \"bank\", \"balance\", \"process\", \"withdrawal\", \"thank\", \"payment\", \"wallet\", \"nothing\", \"rating\", \"date\", \"name\", \"purchase\", \"document\", \"list\", \"access\", \"deposit\", \"network\", \"verification\", \"transfer\", \"gold\", \"online\", \"create\", \"showing\", \"quality\", \"circuit\", \"password\", \"watch\", \"function\", \"board\", \"edit\", \"amount\", \"money\", \"detail\", \"groww\", \"grow\", \"transaction\", \"help\", \"star\", \"withdraw\", \"team\", \"day\", \"experience\", \"till\", \"please\", \"month\", \"change\", \"year\", \"work\", \"show\", \"charge\", \"feature\", \"download\", \"brokerage\", \"hota\", \"simple\", \"install\", \"bahut\", \"paisa\", \"buying\", \"target\", \"friend\", \"love\", \"jata\", \"rupee\", \"delivery\", \"mera\", \"report\", \"selling\", \"notification\", \"life\", \"karo\", \"alert\", \"google\", \"stop\", \"margin\", \"good\", \"matter\", \"baad\", \"tell\", \"profit\", \"option\", \"price\", \"interface\", \"broker\", \"trade\", \"auto\", \"loss\", \"user\", \"trading\", \"groww\", \"please\", \"share\", \"version\", \"show\", \"grow\", \"stock\", \"application\", \"fund\", \"investment\", \"platform\", \"crash\", \"portfolio\", \"fraud\", \"investor\", \"hang\", \"value\", \"invest\", \"analysis\", \"beginner\", \"return\", \"easy\", \"fast\", \"superb\", \"software\", \"deduct\", \"track\", \"recommend\", \"news\", \"lag\", \"world\", \"want\", \"knowledge\", \"super\", \"shirt\", \"sector\", \"share\", \"term\", \"market\", \"sell\", \"thanks\", \"trading\", \"information\", \"company\", \"performance\", \"experience\", \"suggestion\", \"people\", \"interface\", \"dashboard\", \"user\", \"start\", \"thing\"], \"Freq\": [3367.0, 5230.0, 3514.0, 2507.0, 2335.0, 1945.0, 2953.0, 3254.0, 1911.0, 1349.0, 1325.0, 1432.0, 2029.0, 1219.0, 1927.0, 1349.0, 1297.0, 1871.0, 1434.0, 2105.0, 1176.0, 748.0, 830.0, 762.0, 658.0, 1008.0, 810.0, 680.0, 684.0, 715.0, 2334.170237478736, 683.6142091858054, 354.14024348173126, 345.36193636872747, 333.5355212080901, 312.07876665232516, 234.75410981726858, 231.75613529945704, 211.18553974896136, 199.681294590031, 192.34299255885568, 172.80829625628542, 134.75147944973784, 130.3466096391558, 304.8362677363578, 125.3157574664802, 122.49027874240056, 117.54685648738099, 105.21600239851537, 104.78385823905585, 105.16778387444255, 88.86314757955824, 87.77131035335007, 81.886742014185, 78.57978462046397, 69.27739986509985, 68.0145460220144, 59.71535353707189, 58.51517320973215, 56.06211687960742, 3840.4101118135964, 2243.869871480888, 1450.6629736878397, 468.8625061097581, 728.1734610313156, 666.7360616863574, 440.86778985664773, 323.38049665153693, 1018.0961922698622, 290.1724479882505, 186.40988212568087, 692.1879408570431, 228.27233042652563, 476.66738278307105, 322.3327375749023, 356.3036717009502, 389.33886798322726, 380.3498838239322, 310.5498524759861, 201.71616649226152, 1911.0872233643743, 1431.7854548841553, 1348.3214917953737, 1296.9432017818262, 830.102098707438, 761.3912268715766, 538.8845906904269, 267.4181008440936, 248.70357413009248, 199.14539354165132, 195.19982742971084, 194.2366103975368, 192.86370185424454, 185.51149797324308, 173.5392150660042, 166.88164276176386, 160.57487487968208, 158.93572849543654, 145.20173799096153, 145.24952965068732, 140.4753343254823, 131.56393410350876, 124.29295243674493, 92.57645812924459, 91.0607516740164, 227.65536126123672, 82.71736922995849, 77.60676337572035, 77.03704718399172, 71.4723681017001, 103.44089652691471, 1213.9890513705589, 120.35575379980585, 177.6796856387529, 1009.9466783329141, 1385.4486341347679, 281.5281555777063, 205.7491543256241, 268.32354557629725, 514.2076740858588, 296.6603537779464, 544.0214334314053, 298.4248155597441, 347.7088236326617, 311.93826145665895, 312.8143019898765, 214.41002867380996, 2506.5928357998496, 679.5460352544972, 465.8693080842932, 408.9984801350127, 332.7791549908874, 309.55568520667316, 212.6869954965967, 197.77774506566743, 196.35773621370925, 188.00036276539447, 166.1833100897426, 153.2273802726046, 139.64352925646784, 123.28049504878814, 123.66318254037205, 122.25406442902002, 101.3520074231798, 101.30353805201794, 94.63002301945926, 90.45197437623614, 87.68293233507558, 83.39880118779115, 80.83102721918651, 77.4541232612131, 75.82601949019843, 75.08460041938783, 70.60410141332419, 65.78325127591695, 64.3980333222774, 64.7893318089936, 69.5690412135422, 760.285699195834, 2969.323083045676, 314.33130593727407, 2222.0330233639565, 816.1374313586102, 279.13550499860753, 486.8580821475879, 341.30448620900535, 102.152229059311, 520.1919257503127, 660.5638832453665, 587.4210250585453, 170.3774966051381, 432.0118168581571, 205.06621524484217, 161.1368828546722, 153.8507295907345, 145.75351970470416, 150.93108186420633, 1219.0194278774297, 748.162331715045, 445.9504170536812, 330.8005453817836, 241.2986556333934, 219.6102795666367, 219.49555489515063, 215.30598619447383, 188.22694129962272, 171.92347857110036, 162.11481870126514, 160.4906044856393, 152.47300384975298, 152.5063707138303, 191.4063680401727, 148.8676815574936, 138.8814573369193, 135.8380548595123, 133.34055738595296, 129.37681142776023, 117.69885831403786, 107.44144140210106, 102.90581585013452, 104.04564889497091, 101.44323675773535, 100.61136521215941, 100.34133859588006, 93.6679871762919, 84.63808359709712, 84.07633494922942, 642.4548225657538, 1416.135926526741, 865.0459323789581, 486.6397619441256, 296.16685305494025, 501.979918278706, 200.9489488323129, 656.9582718874408, 272.23946305737377, 650.8502636223988, 731.3440628842052, 458.9138770141446, 345.6697785497455, 178.5471487733833, 195.10372468051068, 191.71412627863887, 3366.3562349665567, 1944.6845436268568, 1348.7898071274606, 1324.2632551561678, 657.9182025266017, 398.2234053987085, 359.654655145489, 255.4416051288899, 244.60651546868556, 214.04733882417307, 191.29641295832306, 180.80984763123368, 145.435893132028, 317.360209755974, 144.88962924729486, 110.51633448905731, 85.17319376931329, 83.8057371018304, 80.64497717643033, 78.51997079154214, 75.26707701580216, 71.48499575044109, 68.7856706436447, 69.5165956453834, 67.34196032264623, 65.40737807229206, 59.97119381464853, 58.15382836361891, 52.521005056781945, 50.29478966387755, 1088.4358994265876, 93.22477254544876, 1337.0880319345147, 590.213932350129, 215.43648123750341, 795.7198624904304, 167.5640090556034, 197.20882236184354, 114.84215964809204, 336.1943252142059, 91.50804192725722, 148.15768550088652, 160.62611215109823, 148.44411385177588, 128.99356817547059, 107.27313789410326, 121.4057900323301], \"Total\": [3367.0, 5230.0, 3514.0, 2507.0, 2335.0, 1945.0, 2953.0, 3254.0, 1911.0, 1349.0, 1325.0, 1432.0, 2029.0, 1219.0, 1927.0, 1349.0, 1297.0, 1871.0, 1434.0, 2105.0, 1176.0, 748.0, 830.0, 762.0, 658.0, 1008.0, 810.0, 680.0, 684.0, 715.0, 2335.0244045219406, 684.5002879735075, 354.98306021486303, 346.2060092591039, 334.3854488257695, 312.9284614340582, 235.60228983217513, 232.60165849774293, 212.03078173063025, 200.53163797347747, 193.18918945471572, 173.6558615459558, 135.59801054579756, 131.19135180283507, 306.8887587552891, 126.16544607391106, 123.34030180634483, 118.39040357851876, 106.06147285731527, 105.62968717759854, 106.01715038350176, 89.71443814177609, 88.61371511128438, 82.75013589905157, 79.42909696636016, 70.12163555764944, 68.85732787450915, 60.55953871902668, 59.36768197012756, 56.91803799931271, 5230.232824676603, 3254.470599820922, 2105.677169177057, 617.9488507867839, 1027.2551216233903, 1020.6378659505403, 636.5136982780216, 450.85964873433636, 1929.7172925251768, 458.5529990935895, 256.34602456669893, 2029.9196240781678, 390.049941791239, 1927.6478796285576, 972.9673062458128, 1329.2477771188921, 1706.8331696756482, 2139.9477545243735, 1176.2111413426558, 507.11044831174684, 1911.9356925060101, 1432.6037278081874, 1349.1427229457952, 1297.7625761872919, 830.9207410724323, 762.2181111431826, 539.7016787255924, 268.23678913605573, 249.52193106511967, 199.96461168419813, 196.02313952296748, 195.05889093445387, 193.68195826091937, 186.33446211974334, 174.38249729392896, 167.7104239493793, 161.39241139411382, 159.75818558936976, 146.0206270773213, 146.08675861434438, 141.30317247834196, 132.38713233398317, 125.11277813306845, 93.40016711102544, 91.89259559894425, 229.78689084293586, 83.53858925385128, 78.43665113586809, 77.87724282981264, 72.30547367123391, 109.36310880049254, 1871.5391704593328, 143.2519023478116, 249.17027124733727, 3254.470599820922, 5230.232824676603, 509.3564734286286, 329.2597948215872, 550.5696999567175, 2105.677169177057, 817.4652956186643, 3514.881739523328, 1027.2551216233903, 1706.8331696756482, 1329.2477771188921, 2139.9477545243735, 805.2417479283953, 2507.396264751995, 680.34723279096, 466.67130404727425, 409.80068057740846, 333.5805848969061, 310.3611787180733, 213.48918405522411, 198.57837208543813, 197.17406487184007, 188.81219393180575, 166.98424836806691, 154.0341721222, 140.4586609593787, 124.08190024678066, 124.4690989797995, 123.06024917959637, 102.15554050511896, 102.12253790352236, 95.43079515165579, 91.2530695443412, 88.49629356474885, 84.20292869042191, 81.63617959064992, 78.26443608329222, 76.63890062278172, 75.89060579098425, 71.4144090139829, 66.58528844277288, 65.20474790046417, 65.6051772646825, 70.45137770956725, 810.3249333352741, 3514.881739523328, 349.248281516323, 2953.9664089335283, 1008.6483282485046, 332.88262173330503, 632.106295840745, 438.3512760772182, 108.10280298891783, 817.4652956186643, 1329.2477771188921, 1706.8331696756482, 252.50327540508616, 1929.7172925251768, 550.5696999567175, 390.049941791239, 360.4889331613013, 636.5136982780216, 1020.6378659505403, 1219.7990658063889, 748.9435460898445, 446.7346300765829, 331.58019279139035, 242.0797517933772, 220.38969722456054, 220.2834674841966, 216.08301713656195, 189.0050141172708, 172.70657980423928, 162.89218645245845, 161.2797192183166, 153.25305922249564, 153.28794580170648, 192.4011223309761, 149.64917739324488, 139.66183916819537, 136.6234886454776, 134.12278628383018, 130.16170941474633, 118.482510244752, 108.22115185612822, 103.68479347666009, 104.84481558729496, 102.22907676935338, 101.39263214943274, 101.12408385974678, 94.45984762801265, 85.42206561528647, 84.8704872824213, 715.8768936289113, 1927.6478796285576, 1176.2111413426558, 647.8972716129995, 392.3079224747606, 972.9673062458128, 283.7773038424226, 1871.5391704593328, 487.65490853605263, 2139.9477545243735, 2953.9664089335283, 1929.7172925251768, 1434.684183501776, 284.235248693406, 1020.6378659505403, 1008.6483282485046, 3367.165794023746, 1945.4936020217997, 1349.5963896955489, 1325.0698007752778, 658.726990360597, 399.0439601930056, 360.4631957241819, 256.2556400245836, 245.4161356893002, 214.85810571107308, 192.10454156853746, 181.6173266922388, 146.24137773774856, 319.1202389367132, 145.69774110562705, 111.317787774804, 85.98528983181009, 84.6077953856774, 81.45604508066866, 79.33915639821618, 76.07386134773911, 72.30033566120282, 69.58989920230337, 70.33249995035652, 68.1574691893817, 66.2207896476062, 60.779127620839645, 58.957301562318996, 53.33242194929903, 51.09869745867548, 1434.684183501776, 100.02944045756512, 2029.9196240781678, 805.2417479283953, 340.2583499913994, 2139.9477545243735, 243.96731471144005, 317.1849736205602, 154.31922631057756, 1706.8331696756482, 114.2076550225764, 379.75974909990066, 647.8972716129995, 617.9488507867839, 487.65490853605263, 223.22036134370478, 507.11044831174684], \"Category\": [\"Default\", \"Default\", \"Default\", \"Default\", \"Default\", \"Default\", \"Default\", \"Default\", \"Default\", \"Default\", \"Default\", \"Default\", \"Default\", \"Default\", \"Default\", \"Default\", \"Default\", \"Default\", \"Default\", \"Default\", \"Default\", \"Default\", \"Default\", \"Default\", \"Default\", \"Default\", \"Default\", \"Default\", \"Default\", \"Default\", \"Topic1\", \"Topic1\", \"Topic1\", \"Topic1\", \"Topic1\", \"Topic1\", \"Topic1\", \"Topic1\", \"Topic1\", \"Topic1\", \"Topic1\", \"Topic1\", \"Topic1\", \"Topic1\", \"Topic1\", \"Topic1\", \"Topic1\", \"Topic1\", \"Topic1\", \"Topic1\", \"Topic1\", \"Topic1\", \"Topic1\", \"Topic1\", \"Topic1\", \"Topic1\", \"Topic1\", \"Topic1\", \"Topic1\", \"Topic1\", \"Topic1\", \"Topic1\", \"Topic1\", \"Topic1\", \"Topic1\", \"Topic1\", \"Topic1\", \"Topic1\", \"Topic1\", \"Topic1\", \"Topic1\", \"Topic1\", \"Topic1\", \"Topic1\", \"Topic1\", \"Topic1\", \"Topic1\", \"Topic1\", \"Topic1\", \"Topic1\", \"Topic2\", \"Topic2\", \"Topic2\", \"Topic2\", \"Topic2\", \"Topic2\", \"Topic2\", \"Topic2\", \"Topic2\", \"Topic2\", \"Topic2\", \"Topic2\", \"Topic2\", \"Topic2\", \"Topic2\", \"Topic2\", \"Topic2\", \"Topic2\", \"Topic2\", \"Topic2\", \"Topic2\", \"Topic2\", \"Topic2\", \"Topic2\", \"Topic2\", \"Topic2\", \"Topic2\", \"Topic2\", \"Topic2\", \"Topic2\", \"Topic2\", \"Topic2\", \"Topic2\", \"Topic2\", \"Topic2\", \"Topic2\", \"Topic2\", \"Topic2\", \"Topic2\", \"Topic2\", \"Topic2\", \"Topic2\", \"Topic2\", \"Topic2\", \"Topic2\", \"Topic2\", \"Topic2\", \"Topic3\", \"Topic3\", \"Topic3\", \"Topic3\", \"Topic3\", \"Topic3\", \"Topic3\", \"Topic3\", \"Topic3\", \"Topic3\", \"Topic3\", \"Topic3\", \"Topic3\", \"Topic3\", \"Topic3\", \"Topic3\", \"Topic3\", \"Topic3\", \"Topic3\", \"Topic3\", \"Topic3\", \"Topic3\", \"Topic3\", \"Topic3\", \"Topic3\", \"Topic3\", \"Topic3\", \"Topic3\", \"Topic3\", \"Topic3\", \"Topic3\", \"Topic3\", \"Topic3\", \"Topic3\", \"Topic3\", \"Topic3\", \"Topic3\", \"Topic3\", \"Topic3\", \"Topic3\", \"Topic3\", \"Topic3\", \"Topic3\", \"Topic3\", \"Topic3\", \"Topic3\", \"Topic3\", \"Topic3\", \"Topic3\", \"Topic3\", \"Topic4\", \"Topic4\", \"Topic4\", \"Topic4\", \"Topic4\", \"Topic4\", \"Topic4\", \"Topic4\", \"Topic4\", \"Topic4\", \"Topic4\", \"Topic4\", \"Topic4\", \"Topic4\", \"Topic4\", \"Topic4\", \"Topic4\", \"Topic4\", \"Topic4\", \"Topic4\", \"Topic4\", \"Topic4\", \"Topic4\", \"Topic4\", \"Topic4\", \"Topic4\", \"Topic4\", \"Topic4\", \"Topic4\", \"Topic4\", \"Topic4\", \"Topic4\", \"Topic4\", \"Topic4\", \"Topic4\", \"Topic4\", \"Topic4\", \"Topic4\", \"Topic4\", \"Topic4\", \"Topic4\", \"Topic4\", \"Topic4\", \"Topic4\", \"Topic4\", \"Topic4\", \"Topic5\", \"Topic5\", \"Topic5\", \"Topic5\", \"Topic5\", \"Topic5\", \"Topic5\", \"Topic5\", \"Topic5\", \"Topic5\", \"Topic5\", \"Topic5\", \"Topic5\", \"Topic5\", \"Topic5\", \"Topic5\", \"Topic5\", \"Topic5\", \"Topic5\", \"Topic5\", \"Topic5\", \"Topic5\", \"Topic5\", \"Topic5\", \"Topic5\", \"Topic5\", \"Topic5\", \"Topic5\", \"Topic5\", \"Topic5\", \"Topic5\", \"Topic5\", \"Topic5\", \"Topic5\", \"Topic5\", \"Topic5\", \"Topic5\", \"Topic5\", \"Topic5\", \"Topic5\", \"Topic5\", \"Topic5\", \"Topic5\", \"Topic5\", \"Topic5\", \"Topic5\", \"Topic5\"], \"logprob\": [30.0, 29.0, 28.0, 27.0, 26.0, 25.0, 24.0, 23.0, 22.0, 21.0, 20.0, 19.0, 18.0, 17.0, 16.0, 15.0, 14.0, 13.0, 12.0, 11.0, 10.0, 9.0, 8.0, 7.0, 6.0, 5.0, 4.0, 3.0, 2.0, 1.0, -2.4974, -3.7254, -4.3831, -4.4082, -4.443, -4.5095, -4.7943, -4.8071, -4.9001, -4.9561, -4.9935, -5.1006, -5.3494, -5.3826, -4.533, -5.422, -5.4448, -5.486, -5.5968, -5.6009, -5.5972, -5.7657, -5.7781, -5.8475, -5.8887, -6.0147, -6.0331, -6.1632, -6.1835, -6.2263, -1.9995, -2.5368, -2.973, -4.1025, -3.6623, -3.7504, -4.164, -4.474, -3.3271, -4.5823, -5.0248, -3.7129, -4.8223, -4.086, -4.4772, -4.377, -4.2883, -4.3117, -4.5144, -4.9459, -2.6904, -2.9791, -3.0392, -3.0781, -3.5243, -3.6107, -3.9563, -4.657, -4.7296, -4.9518, -4.9718, -4.9767, -4.9838, -5.0227, -5.0894, -5.1285, -5.1671, -5.1773, -5.2677, -5.2674, -5.3008, -5.3663, -5.4232, -5.7178, -5.7343, -4.818, -5.8304, -5.8942, -5.9015, -5.9765, -5.6068, -3.1442, -5.4554, -5.0658, -3.3282, -3.012, -4.6056, -4.9192, -4.6536, -4.0032, -4.5532, -3.9468, -4.5473, -4.3945, -4.503, -4.5002, -4.8779, -2.3623, -3.6675, -4.045, -4.1752, -4.3815, -4.4538, -4.8291, -4.9018, -4.909, -4.9525, -5.0758, -5.157, -5.2498, -5.3745, -5.3714, -5.3828, -5.5703, -5.5708, -5.639, -5.6841, -5.7152, -5.7653, -5.7966, -5.8392, -5.8605, -5.8703, -5.9318, -6.0026, -6.0239, -6.0178, -5.9466, -3.5552, -2.1928, -4.4385, -2.4828, -3.4844, -4.5572, -4.001, -4.3562, -5.5625, -3.9347, -3.6958, -3.8132, -5.0509, -4.1205, -4.8656, -5.1067, -5.153, -5.207, -5.1721, -2.9363, -3.4245, -3.9419, -4.2406, -4.5561, -4.6502, -4.6508, -4.67, -4.8045, -4.8951, -4.9538, -4.9639, -5.0151, -5.0149, -4.7877, -5.039, -5.1085, -5.1306, -5.1492, -5.1794, -5.274, -5.3652, -5.4083, -5.3973, -5.4226, -5.4308, -5.4335, -5.5023, -5.6037, -5.6104, -3.5768, -2.7864, -3.2793, -3.8546, -4.3512, -3.8235, -4.7391, -3.5545, -4.4354, -3.5638, -3.4472, -3.9132, -4.1966, -4.8573, -4.7686, -4.7861, -1.9144, -2.4631, -2.829, -2.8474, -3.5469, -4.049, -4.1509, -4.493, -4.5364, -4.6698, -4.7822, -4.8386, -5.0563, -4.276, -5.06, -5.3308, -5.5913, -5.6075, -5.6459, -5.6726, -5.715, -5.7665, -5.805, -5.7944, -5.8262, -5.8554, -5.9421, -5.9729, -6.0748, -6.1181, -3.0435, -5.501, -2.8378, -3.6555, -4.6633, -3.3568, -4.9146, -4.7517, -5.2924, -4.2183, -5.5196, -5.0377, -4.9569, -5.0358, -5.1762, -5.3606, -5.2369], \"loglift\": [30.0, 29.0, 28.0, 27.0, 26.0, 25.0, 24.0, 23.0, 22.0, 21.0, 20.0, 19.0, 18.0, 17.0, 16.0, 15.0, 14.0, 13.0, 12.0, 11.0, 10.0, 9.0, 8.0, 7.0, 6.0, 5.0, 4.0, 3.0, 2.0, 1.0, 1.514, 1.513, 1.5119, 1.5119, 1.5118, 1.5116, 1.5107, 1.5107, 1.5103, 1.5101, 1.5099, 1.5094, 1.5081, 1.5079, 1.5076, 1.5076, 1.5074, 1.5072, 1.5063, 1.5063, 1.5063, 1.5048, 1.5048, 1.5038, 1.5036, 1.5022, 1.502, 1.5003, 1.4999, 1.4992, 1.2054, 1.1425, 1.1417, 1.2382, 1.1702, 1.0885, 1.1471, 1.182, 0.8749, 1.0567, 1.1957, 0.4384, 0.9786, 0.1171, 0.4095, 0.1977, 0.0364, -0.2131, 0.1826, 0.5924, 1.5208, 1.5207, 1.5207, 1.5207, 1.5203, 1.5202, 1.5198, 1.5182, 1.518, 1.5172, 1.5171, 1.5171, 1.5171, 1.5169, 1.5164, 1.5163, 1.5162, 1.5161, 1.5157, 1.5155, 1.5154, 1.5151, 1.5147, 1.5124, 1.5122, 1.512, 1.5114, 1.5107, 1.5104, 1.5097, 1.4656, 1.0884, 1.3471, 1.1831, 0.3512, 0.1929, 0.9284, 1.0511, 0.8025, 0.1115, 0.5077, -0.3445, 0.2852, -0.0697, 0.0717, -0.4016, 0.198, 1.5779, 1.577, 1.5765, 1.5762, 1.5758, 1.5756, 1.5744, 1.5741, 1.574, 1.5739, 1.5734, 1.5729, 1.5724, 1.5717, 1.5717, 1.5716, 1.5703, 1.5701, 1.5697, 1.5694, 1.5689, 1.5686, 1.5683, 1.5678, 1.5675, 1.5675, 1.5668, 1.5661, 1.5657, 1.5657, 1.5656, 1.5144, 1.4095, 1.4728, 1.2934, 1.3664, 1.4021, 1.3171, 1.3279, 1.5216, 1.1262, 0.8789, 0.5115, 1.1848, 0.0815, 0.5906, 0.6942, 0.7267, 0.1041, -0.3332, 1.7244, 1.724, 1.7233, 1.7227, 1.7218, 1.7215, 1.7214, 1.7214, 1.7209, 1.7205, 1.7202, 1.7201, 1.7199, 1.7199, 1.7198, 1.7198, 1.7194, 1.7192, 1.7192, 1.719, 1.7184, 1.7178, 1.7175, 1.7174, 1.7173, 1.7173, 1.7172, 1.7166, 1.7158, 1.7156, 1.6168, 1.4166, 1.4177, 1.4388, 1.4439, 1.0632, 1.3799, 0.6781, 1.1421, 0.5348, 0.329, 0.2887, 0.3018, 1.2601, 0.0704, 0.0646, 1.7309, 1.7307, 1.7305, 1.7305, 1.7299, 1.729, 1.7289, 1.7279, 1.7278, 1.7273, 1.7269, 1.7267, 1.7256, 1.7256, 1.7255, 1.7239, 1.7216, 1.7216, 1.7211, 1.7207, 1.7204, 1.7198, 1.7195, 1.7194, 1.7191, 1.7187, 1.7177, 1.7174, 1.7158, 1.7153, 1.4549, 1.6607, 1.3136, 1.4205, 1.2741, 0.7418, 1.3554, 1.2559, 1.4356, 0.1064, 1.5095, 0.7898, 0.3365, 0.3049, 0.4013, 0.9983, 0.3015]}, \"token.table\": {\"Topic\": [3, 3, 4, 3, 5, 5, 5, 1, 2, 4, 4, 2, 4, 3, 3, 4, 5, 3, 2, 2, 4, 4, 1, 4, 2, 2, 2, 1, 3, 4, 1, 3, 2, 2, 4, 5, 1, 2, 5, 3, 2, 1, 5, 1, 5, 3, 1, 2, 3, 5, 4, 3, 1, 3, 3, 4, 5, 3, 1, 2, 1, 2, 1, 2, 3, 4, 5, 2, 1, 5, 4, 1, 5, 4, 3, 5, 2, 2, 3, 2, 3, 4, 4, 3, 4, 3, 4, 2, 3, 5, 2, 3, 4, 1, 2, 3, 1, 1, 1, 3, 5, 4, 4, 5, 1, 5, 5, 5, 1, 2, 4, 4, 2, 5, 5, 5, 4, 1, 3, 2, 2, 1, 1, 2, 4, 1, 4, 2, 4, 1, 5, 4, 4, 2, 2, 1, 2, 2, 3, 5, 2, 3, 5, 1, 3, 1, 3, 5, 3, 4, 1, 2, 3, 3, 1, 1, 2, 4, 2, 1, 1, 4, 3, 3, 2, 3, 4, 5, 1, 5, 1, 2, 5, 1, 2, 3, 4, 5, 1, 2, 1, 4, 1, 2, 3, 3, 2, 4, 3, 3, 3, 5, 1, 2, 2, 4, 2, 5, 4, 1, 5, 2, 5, 4, 2, 2, 4, 5, 5, 1, 2, 3, 4, 5, 3, 1, 4, 5, 2, 2, 1, 2, 3, 1, 3, 4, 5, 5, 4, 4, 5, 5, 5, 2, 4, 2, 3, 4, 4, 5, 3, 3, 5, 1, 3, 4, 5, 2, 2, 3, 1, 2, 3, 1, 2, 1, 5, 1, 2, 4, 1, 2, 4, 5, 2, 3, 4, 3, 1, 1, 1, 3, 4, 5, 5, 3, 1, 4, 1, 3, 5, 2, 5, 3, 2, 3, 5, 3, 1, 3, 4, 5, 1, 2, 3, 4, 5], \"Freq\": [0.9913843082013508, 0.9998419616565735, 0.9933954299979945, 0.9378953660871101, 0.06046956965561631, 0.9915114466442274, 0.9997462844281334, 0.9974133525030356, 0.2889589790645604, 0.7083018877070323, 0.9950590563193904, 0.9957155632221755, 0.9949879580963205, 0.9985615056219393, 0.9994896241592172, 0.0031336151017307195, 0.993355987248638, 0.9907754648350248, 0.9935528088436512, 0.2421567206716604, 0.7545093612506472, 0.9982502187886857, 0.9951385278957289, 0.9959087846853306, 0.9953891890070738, 0.9902865340441586, 0.9986998767036462, 0.5845405307662609, 0.41276765549722805, 0.9993449201357926, 0.9972306841507648, 0.9882646108605704, 0.9982050442202774, 0.17024766143114567, 0.20492774061156424, 0.621088690776587, 0.9909189760874975, 0.9975685883200818, 0.997383846650628, 0.9922071366661213, 0.999578580038242, 0.7589624924504036, 0.2395020232039653, 0.9938454612578522, 0.0032585097090421385, 0.9941057412439439, 0.2678206472322415, 0.23471921892263864, 0.49727372983289786, 0.9957252331180093, 0.9956620049334518, 0.9886884206240281, 0.09735194645019585, 0.8990738583929851, 0.9912807569465899, 0.9983555560121745, 0.9971452201740939, 0.9935930605725265, 0.7164091994187838, 0.2816841124649707, 0.9973488573730805, 0.9945714295340186, 0.2279074527675849, 0.20388635877408623, 0.3439117603459443, 0.026950495700022892, 0.1968557946784281, 0.9925608684547973, 0.9945977358077999, 0.9885411814772347, 0.9987401639352249, 0.990934928494055, 0.9951000492146703, 0.9920652192072316, 0.9815236169258221, 0.9995580977393668, 0.9907774719032462, 0.9418166795889047, 0.04571925629072353, 0.9984018863821595, 0.994391928240636, 0.988884113290897, 0.9919422283060667, 0.8090034724163632, 0.19035375821561487, 0.7522089598852986, 0.24746388374264325, 0.6256457764958009, 0.373565196645551, 0.9960061748276464, 0.2293917984270984, 0.7704400402344614, 0.9955396856392236, 0.6324241703210662, 0.226800392115141, 0.13956947207085602, 0.9899919091379838, 0.9840044296067894, 0.9907605188074049, 0.31151713945735465, 0.6886168345899418, 0.9941735641859338, 0.7516623720108729, 0.24849618458675676, 0.9930742649654892, 0.9966009482493655, 0.9991926457197561, 0.9983043670371086, 0.6895130655423578, 0.3103423334214712, 0.9981215365617921, 0.9887161443471638, 0.8376852106902103, 0.1535756219598719, 0.9871810002654184, 0.9952724565372877, 0.995927582528803, 0.9967024052058423, 0.996231201288959, 0.9978065614389944, 0.988735568980919, 0.9995612874452375, 0.9904057939699156, 0.6486639548677186, 0.3510479558056763, 0.9938444306429762, 0.9918235940681848, 0.9952541674996326, 0.9961276066997247, 0.340900197126895, 0.6586467681483507, 0.9951318190791123, 0.9952611309421587, 0.9957639845356676, 0.9944330726829257, 0.7255817612712947, 0.2691674275683835, 0.1547704987860487, 0.8446941376760636, 0.0002845045933567072, 0.4867685236239273, 0.3723415945630787, 0.13985513551881493, 0.9992691194112004, 0.9932860864056869, 0.9988472918689403, 0.9890079317791451, 0.9915232065419655, 0.9940455410674665, 0.9910748758604218, 0.2336281292332969, 0.5536397684352078, 0.2120322517411434, 0.9857139328865322, 0.9962232110098845, 0.24745183238129265, 0.01763807610264979, 0.7345739929809442, 0.999153000697139, 0.9920365310581664, 0.9974436163901287, 0.994682606056963, 0.9941971232457898, 0.9977086237066812, 0.33705520477981976, 0.2633243787342342, 0.007899731362027027, 0.3897200805266666, 0.2527228844545264, 0.7452085054428342, 0.993806698224927, 0.9951760880284081, 0.9988963707708424, 0.5275384140170462, 0.010364212456130572, 0.22386698905242036, 0.23785867586819662, 0.998714998563858, 0.28494571059611806, 0.7143709364240706, 0.2644083099272386, 0.7354121803442489, 0.6890894868595082, 0.24410199603431235, 0.06648692498989052, 0.9980461706986912, 0.10197284009258856, 0.8968022375266008, 0.996734548398469, 0.9916634944187626, 0.9956984031862948, 0.9820148046435613, 0.9940387291260285, 0.9911057995060671, 0.9930103910813857, 0.9954364461655968, 0.9979082757860532, 0.9952110369019297, 0.9927177018823942, 0.9838708776412182, 0.9784985231851747, 0.26575869985696465, 0.7326992192318185, 0.9916286686629509, 0.9994123916028368, 0.9995106046141209, 0.24116805913025643, 0.7583550529876272, 0.9937669819380216, 0.6535128886079585, 0.0009797794431903426, 0.14794669592174173, 0.19105699142211682, 0.006858456102332398, 0.9838440529751398, 0.9907625573389698, 0.9982317811155961, 0.9944013353432882, 0.9970757555726297, 0.9947805165989212, 0.9970329914070349, 0.21900244219453127, 0.7779149248784913, 0.30015183022142133, 0.10303719544914464, 0.11199695157515721, 0.4793469527416729, 0.9996537758770848, 0.9879772290996387, 0.19263157093673863, 0.8055502057354524, 0.98376279889087, 0.9928163193130513, 0.998891902648568, 0.9945228407090058, 0.36331817581959613, 0.6361126310646128, 0.9897433452982943, 0.059982340924373594, 0.9297262843277907, 0.9988362632222074, 0.3644289699375028, 0.6318728107787347, 0.3983353146686109, 0.1617004742714163, 0.20113961433761537, 0.23860679740050453, 0.9964789789041648, 0.3247482626451042, 0.6732585932886307, 0.7341929372403103, 0.2648065672077682, 0.0007647843096253232, 0.7086847119822854, 0.290093467267474, 0.9875492137006593, 0.9858839642327288, 0.3309463719212053, 0.1521119970321068, 0.5159474493926866, 0.17757442871985402, 0.14626525312977448, 0.3042130344648025, 0.37197169805527314, 0.012016247586528181, 0.8381332691603406, 0.15020309483160227, 0.9862681929430076, 0.9891333020374052, 0.9965164981922618, 0.1148353046791077, 0.06151891322095055, 0.5577714798699517, 0.26453132685008734, 0.9942503099639454, 0.9954857847409615, 0.36941231069218866, 0.629760034418112, 0.9955898280263072, 0.9970874366661174, 0.9815648581947961, 0.9922237041617955, 0.008703716703173645, 0.9912099435707047, 0.9819450229014504, 0.9435463020367432, 0.04625226970768349, 0.9982595363063905, 0.6928366211018705, 0.2293744822695535, 0.07698184678909673, 0.9830177205352862, 0.18031066704318396, 0.033288123146433965, 0.4271975803792359, 0.09431634891489624, 0.26353097490926886], \"Term\": [\"access\", \"account\", \"alert\", \"amount\", \"amount\", \"analysis\", \"application\", \"asap\", \"auto\", \"auto\", \"baad\", \"baar\", \"bahut\", \"balance\", \"bank\", \"beginner\", \"beginner\", \"board\", \"book\", \"broker\", \"broker\", \"brokerage\", \"bug\", \"buying\", \"call\", \"card\", \"care\", \"change\", \"change\", \"charge\", \"chart\", \"circuit\", \"class\", \"company\", \"company\", \"company\", \"connection\", \"contact\", \"crash\", \"create\", \"customer\", \"dashboard\", \"dashboard\", \"data\", \"data\", \"date\", \"day\", \"day\", \"day\", \"deduct\", \"delivery\", \"deposit\", \"detail\", \"detail\", \"document\", \"download\", \"easy\", \"edit\", \"error\", \"error\", \"everything\", \"exit\", \"experience\", \"experience\", \"experience\", \"experience\", \"experience\", \"expire\", \"facing\", \"fast\", \"feature\", \"form\", \"fraud\", \"friend\", \"function\", \"fund\", \"future\", \"get\", \"get\", \"glitch\", \"gold\", \"good\", \"google\", \"grow\", \"grow\", \"groww\", \"groww\", \"guy\", \"guy\", \"hang\", \"help\", \"help\", \"hota\", \"hour\", \"hour\", \"hour\", \"improvement\", \"index\", \"indicator\", \"information\", \"information\", \"install\", \"interface\", \"interface\", \"internet\", \"invest\", \"investment\", \"investor\", \"issue\", \"issue\", \"jata\", \"karo\", \"kind\", \"kind\", \"knowledge\", \"lag\", \"life\", \"line\", \"list\", \"log\", \"logging\", \"login\", \"look\", \"loss\", \"loss\", \"lot\", \"love\", \"mail\", \"margin\", \"market\", \"market\", \"matter\", \"mera\", \"message\", \"min\", \"minute\", \"minute\", \"money\", \"money\", \"money\", \"month\", \"month\", \"month\", \"morning\", \"name\", \"need\", \"network\", \"news\", \"nothing\", \"notification\", \"number\", \"number\", \"number\", \"online\", \"opening\", \"option\", \"option\", \"option\", \"order\", \"others\", \"page\", \"paisa\", \"password\", \"payment\", \"people\", \"people\", \"people\", \"people\", \"performance\", \"performance\", \"period\", \"place\", \"platform\", \"please\", \"please\", \"please\", \"please\", \"portfolio\", \"position\", \"position\", \"price\", \"price\", \"problem\", \"problem\", \"problem\", \"process\", \"profit\", \"profit\", \"purchase\", \"quality\", \"rating\", \"recommend\", \"refresh\", \"refund\", \"reply\", \"report\", \"response\", \"return\", \"rupee\", \"season\", \"sector\", \"sell\", \"sell\", \"selling\", \"service\", \"session\", \"share\", \"share\", \"shirt\", \"show\", \"show\", \"show\", \"show\", \"show\", \"showing\", \"sign\", \"simple\", \"software\", \"solution\", \"solve\", \"something\", \"star\", \"star\", \"start\", \"start\", \"start\", \"start\", \"stock\", \"stop\", \"suggestion\", \"suggestion\", \"super\", \"superb\", \"support\", \"target\", \"team\", \"team\", \"tell\", \"term\", \"term\", \"thank\", \"thanks\", \"thanks\", \"thing\", \"thing\", \"thing\", \"thing\", \"ticket\", \"till\", \"till\", \"time\", \"time\", \"time\", \"today\", \"today\", \"tool\", \"track\", \"trade\", \"trade\", \"trade\", \"trading\", \"trading\", \"trading\", \"trading\", \"transaction\", \"transaction\", \"transaction\", \"transfer\", \"understand\", \"update\", \"user\", \"user\", \"user\", \"user\", \"value\", \"verification\", \"version\", \"version\", \"view\", \"wallet\", \"want\", \"waste\", \"waste\", \"watch\", \"website\", \"withdraw\", \"withdraw\", \"withdrawal\", \"work\", \"work\", \"work\", \"world\", \"year\", \"year\", \"year\", \"year\", \"year\"]}, \"R\": 30, \"lambda.step\": 0.01, \"plot.opts\": {\"xlab\": \"PC1\", \"ylab\": \"PC2\"}, \"topic.order\": [3, 2, 4, 5, 1]};\n",
       "\n",
       "function LDAvis_load_lib(url, callback){\n",
       "  var s = document.createElement('script');\n",
       "  s.src = url;\n",
       "  s.async = true;\n",
       "  s.onreadystatechange = s.onload = callback;\n",
       "  s.onerror = function(){console.warn(\"failed to load library \" + url);};\n",
       "  document.getElementsByTagName(\"head\")[0].appendChild(s);\n",
       "}\n",
       "\n",
       "if(typeof(LDAvis) !== \"undefined\"){\n",
       "   // already loaded: just create the visualization\n",
       "   !function(LDAvis){\n",
       "       new LDAvis(\"#\" + \"ldavis_el2132017033351850888767235781\", ldavis_el2132017033351850888767235781_data);\n",
       "   }(LDAvis);\n",
       "}else if(typeof define === \"function\" && define.amd){\n",
       "   // require.js is available: use it to load d3/LDAvis\n",
       "   require.config({paths: {d3: \"https://d3js.org/d3.v5\"}});\n",
       "   require([\"d3\"], function(d3){\n",
       "      window.d3 = d3;\n",
       "      LDAvis_load_lib(\"https://cdn.jsdelivr.net/gh/bmabey/pyLDAvis@3.4.0/pyLDAvis/js/ldavis.v3.0.0.js\", function(){\n",
       "        new LDAvis(\"#\" + \"ldavis_el2132017033351850888767235781\", ldavis_el2132017033351850888767235781_data);\n",
       "      });\n",
       "    });\n",
       "}else{\n",
       "    // require.js not available: dynamically load d3 & LDAvis\n",
       "    LDAvis_load_lib(\"https://d3js.org/d3.v5.js\", function(){\n",
       "         LDAvis_load_lib(\"https://cdn.jsdelivr.net/gh/bmabey/pyLDAvis@3.4.0/pyLDAvis/js/ldavis.v3.0.0.js\", function(){\n",
       "                 new LDAvis(\"#\" + \"ldavis_el2132017033351850888767235781\", ldavis_el2132017033351850888767235781_data);\n",
       "            })\n",
       "         });\n",
       "}\n",
       "</script>"
      ],
      "text/plain": [
       "PreparedData(topic_coordinates=              x         y  topics  cluster       Freq\n",
       "topic                                                \n",
       "2      0.113348 -0.217075       1        1  21.995858\n",
       "1      0.207599 -0.118079       2        1  21.843015\n",
       "3      0.134483  0.280933       3        1  20.635138\n",
       "4     -0.111894  0.129358       4        1  17.817175\n",
       "0     -0.343535 -0.075136       5        1  17.708814, topic_info=          Term         Freq        Total Category  logprob  loglift\n",
       "52       stock  3367.000000  3367.000000  Default  30.0000  30.0000\n",
       "6         time  5230.000000  5230.000000  Default  29.0000  29.0000\n",
       "127      money  3514.000000  3514.000000  Default  28.0000  28.0000\n",
       "31     account  2507.000000  2507.000000  Default  27.0000  27.0000\n",
       "226      login  2335.000000  2335.000000  Default  26.0000  26.0000\n",
       "..         ...          ...          ...      ...      ...      ...\n",
       "173  interface   160.626112   647.897272   Topic5  -4.9569   0.3365\n",
       "59   dashboard   148.444114   617.948851   Topic5  -5.0358   0.3049\n",
       "116       user   128.993568   487.654909   Topic5  -5.1762   0.4013\n",
       "134      start   107.273138   223.220361   Topic5  -5.3606   0.9983\n",
       "95       thing   121.405790   507.110448   Topic5  -5.2369   0.3015\n",
       "\n",
       "[270 rows x 6 columns], token_table=      Topic      Freq     Term\n",
       "term                          \n",
       "763       3  0.991384   access\n",
       "31        3  0.999842  account\n",
       "190       4  0.993395    alert\n",
       "142       3  0.937895   amount\n",
       "142       5  0.060470   amount\n",
       "...     ...       ...      ...\n",
       "86        1  0.180311     year\n",
       "86        2  0.033288     year\n",
       "86        3  0.427198     year\n",
       "86        4  0.094316     year\n",
       "86        5  0.263531     year\n",
       "\n",
       "[297 rows x 3 columns], R=30, lambda_step=0.01, plot_opts={'xlab': 'PC1', 'ylab': 'PC2'}, topic_order=[3, 2, 4, 5, 1])"
      ]
     },
     "execution_count": 27,
     "metadata": {},
     "output_type": "execute_result"
    }
   ],
   "source": [
    "import pyLDAvis\n",
    "import pyLDAvis.gensim\n",
    "pyLDAvis.enable_notebook()\n",
    "vis = pyLDAvis.gensim.prepare(ldamodel,doc_term_matrix,dictionary)\n",
    "vis"
   ]
  },
  {
   "cell_type": "markdown",
   "id": "280f66b4",
   "metadata": {},
   "source": [
    "We see Topic 1 and 2 are a bit overlapping.lets look at the coherance score"
   ]
  },
  {
   "cell_type": "code",
   "execution_count": 98,
   "id": "ee908833",
   "metadata": {},
   "outputs": [
    {
     "name": "stdout",
     "output_type": "stream",
     "text": [
      "\n",
      "Coherence Score:  0.4065176057207595\n"
     ]
    }
   ],
   "source": [
    "from gensim.models.coherencemodel import CoherenceModel\n",
    "coherence_model_lda = CoherenceModel(model=ldamodel,texts=d1['english_nouns'],\\\n",
    "                                     dictionary=dictionary , coherence='c_v')\n",
    "print('\\nCoherence Score: ', coherence_model_lda.get_coherence())\n"
   ]
  },
  {
   "cell_type": "markdown",
   "id": "20d45053",
   "metadata": {},
   "source": [
    "## Coherence Score for a range of Topic Numbers\n",
    "We try to explore different numbers of topics and evaluate the coherence of topics using the C_V coherence measure. It helps us find the optimal number of topics that result in the most coherent and interpretable topic models for our text data"
   ]
  },
  {
   "cell_type": "code",
   "execution_count": 99,
   "id": "e5524d6e",
   "metadata": {},
   "outputs": [
    {
     "data": {
      "text/html": [
       "<div>\n",
       "<style scoped>\n",
       "    .dataframe tbody tr th:only-of-type {\n",
       "        vertical-align: middle;\n",
       "    }\n",
       "\n",
       "    .dataframe tbody tr th {\n",
       "        vertical-align: top;\n",
       "    }\n",
       "\n",
       "    .dataframe thead th {\n",
       "        text-align: right;\n",
       "    }\n",
       "</style>\n",
       "<table border=\"1\" class=\"dataframe\">\n",
       "  <thead>\n",
       "    <tr style=\"text-align: right;\">\n",
       "      <th></th>\n",
       "      <th>Coherence_Score</th>\n",
       "    </tr>\n",
       "    <tr>\n",
       "      <th>Topic</th>\n",
       "      <th></th>\n",
       "    </tr>\n",
       "  </thead>\n",
       "  <tbody>\n",
       "    <tr>\n",
       "      <th>8</th>\n",
       "      <td>0.418621</td>\n",
       "    </tr>\n",
       "    <tr>\n",
       "      <th>6</th>\n",
       "      <td>0.414457</td>\n",
       "    </tr>\n",
       "    <tr>\n",
       "      <th>9</th>\n",
       "      <td>0.412554</td>\n",
       "    </tr>\n",
       "    <tr>\n",
       "      <th>4</th>\n",
       "      <td>0.410645</td>\n",
       "    </tr>\n",
       "    <tr>\n",
       "      <th>5</th>\n",
       "      <td>0.406518</td>\n",
       "    </tr>\n",
       "    <tr>\n",
       "      <th>3</th>\n",
       "      <td>0.401304</td>\n",
       "    </tr>\n",
       "    <tr>\n",
       "      <th>10</th>\n",
       "      <td>0.399059</td>\n",
       "    </tr>\n",
       "    <tr>\n",
       "      <th>2</th>\n",
       "      <td>0.395015</td>\n",
       "    </tr>\n",
       "    <tr>\n",
       "      <th>13</th>\n",
       "      <td>0.394699</td>\n",
       "    </tr>\n",
       "    <tr>\n",
       "      <th>11</th>\n",
       "      <td>0.389197</td>\n",
       "    </tr>\n",
       "    <tr>\n",
       "      <th>14</th>\n",
       "      <td>0.381502</td>\n",
       "    </tr>\n",
       "    <tr>\n",
       "      <th>7</th>\n",
       "      <td>0.379369</td>\n",
       "    </tr>\n",
       "    <tr>\n",
       "      <th>12</th>\n",
       "      <td>0.338359</td>\n",
       "    </tr>\n",
       "  </tbody>\n",
       "</table>\n",
       "</div>"
      ],
      "text/plain": [
       "       Coherence_Score\n",
       "Topic                 \n",
       "8             0.418621\n",
       "6             0.414457\n",
       "9             0.412554\n",
       "4             0.410645\n",
       "5             0.406518\n",
       "3             0.401304\n",
       "10            0.399059\n",
       "2             0.395015\n",
       "13            0.394699\n",
       "11            0.389197\n",
       "14            0.381502\n",
       "7             0.379369\n",
       "12            0.338359"
      ]
     },
     "execution_count": 99,
     "metadata": {},
     "output_type": "execute_result"
    }
   ],
   "source": [
    "def calculate_topic_cv(ldamodel,texts,dictionary,topic_range):\n",
    "    cv_score =[]\n",
    "    topic_num = []\n",
    "    for i in range(2,topic_range):\n",
    "        topic_num.append(i)\n",
    "        Lda = gensim.models.ldamodel.LdaModel\n",
    "        ldamodel = Lda(doc_term_matrix, num_topics=i, id2word=dictionary, passes=10,random_state=45)\n",
    "        cv_score.append(CoherenceModel(model=ldamodel,texts=texts,\\\n",
    "                                   dictionary=dictionary , coherence='c_v').get_coherence())\n",
    "        clear_output()\n",
    "    return topic_num,cv_score\n",
    "topic_num,cv_score = calculate_topic_cv(ldamodel,d1['english_nouns'],dictionary,15)\n",
    "pd.DataFrame(zip(topic_num,cv_score),columns=['Topic','Coherence_Score']).set_index\\\n",
    "('Topic').sort_values('Coherence_Score',ascending=False)\n"
   ]
  },
  {
   "cell_type": "markdown",
   "id": "34561095",
   "metadata": {},
   "source": [
    "The Top four Number of topics have almost same Coherence score with only minor differences"
   ]
  },
  {
   "cell_type": "code",
   "execution_count": 100,
   "id": "cfde71b7",
   "metadata": {},
   "outputs": [
    {
     "data": {
      "image/png": "[encoded data removed]",
      "text/plain": [
       "<Figure size 432x288 with 1 Axes>"
      ]
     },
     "metadata": {
      "needs_background": "light"
     },
     "output_type": "display_data"
    }
   ],
   "source": [
    "import matplotlib.pyplot as plt\n",
    "plt.plot(topic_num,cv_score,color='green', marker='o', linestyle='dashed')\n",
    "plt.xticks(range(2,15))\n",
    "plt.xlabel('Number of topics')\n",
    "plt.ylabel('Coherence score')\n",
    "plt.show()\n"
   ]
  },
  {
   "cell_type": "markdown",
   "id": "e2bd00c6",
   "metadata": {},
   "source": [
    "## Hyperparameter Tuning\n",
    "We explore different combinations of hyperparameters to find the best LDA model with the highest coherence score.\n",
    "* alpha_range: This list specifies the range of values for the alpha hyperparameter in the LDA model. Alpha is a hyperparameter that controls the distribution of topics within documents. \n",
    "* beta_range: This list specifies the range of values for the beta hyperparameter in the LDA model. Beta controls the distribution of words within topics\n",
    "We are using Top 5 number of topics with highest choherance score."
   ]
  },
  {
   "cell_type": "code",
   "execution_count": 33,
   "id": "be529492",
   "metadata": {},
   "outputs": [
    {
     "name": "stdout",
     "output_type": "stream",
     "text": [
      "Training LDA model with 6 topics, alpha=auto, beta=auto\n",
      "Coherence Score: 0.3448712993890737\n",
      "Training LDA model with 6 topics, alpha=auto, beta=0.01\n",
      "Coherence Score: 0.3773101174128348\n",
      "Training LDA model with 6 topics, alpha=auto, beta=0.1\n",
      "Coherence Score: 0.380357284705194\n",
      "Training LDA model with 6 topics, alpha=auto, beta=0.5\n",
      "Coherence Score: 0.3879213497543718\n",
      "Training LDA model with 6 topics, alpha=auto, beta=1.0\n",
      "Coherence Score: 0.3834587105006631\n",
      "Training LDA model with 6 topics, alpha=symmetric, beta=auto\n",
      "Coherence Score: 0.40267802813520476\n",
      "Training LDA model with 6 topics, alpha=symmetric, beta=0.01\n",
      "Coherence Score: 0.38178789268945096\n",
      "Training LDA model with 6 topics, alpha=symmetric, beta=0.1\n",
      "Coherence Score: 0.39358230971600333\n",
      "Training LDA model with 6 topics, alpha=symmetric, beta=0.5\n",
      "Coherence Score: 0.4095606771628062\n",
      "Training LDA model with 6 topics, alpha=symmetric, beta=1.0\n",
      "Coherence Score: 0.3952196483641577\n",
      "Training LDA model with 6 topics, alpha=asymmetric, beta=auto\n",
      "Coherence Score: 0.36024151118038494\n",
      "Training LDA model with 6 topics, alpha=asymmetric, beta=0.01\n",
      "Coherence Score: 0.37038806203821495\n",
      "Training LDA model with 6 topics, alpha=asymmetric, beta=0.1\n",
      "Coherence Score: 0.35969110575412483\n",
      "Training LDA model with 6 topics, alpha=asymmetric, beta=0.5\n",
      "Coherence Score: 0.4026577613539752\n",
      "Training LDA model with 6 topics, alpha=asymmetric, beta=1.0\n",
      "Coherence Score: 0.4087464803817435\n",
      "Training LDA model with 8 topics, alpha=auto, beta=auto\n",
      "Coherence Score: 0.4041327715032441\n",
      "Training LDA model with 8 topics, alpha=auto, beta=0.01\n",
      "Coherence Score: 0.4081150075469544\n",
      "Training LDA model with 8 topics, alpha=auto, beta=0.1\n",
      "Coherence Score: 0.3842345084015438\n",
      "Training LDA model with 8 topics, alpha=auto, beta=0.5\n",
      "Coherence Score: 0.3688823742292758\n",
      "Training LDA model with 8 topics, alpha=auto, beta=1.0\n",
      "Coherence Score: 0.3419823227360989\n",
      "Training LDA model with 8 topics, alpha=symmetric, beta=auto\n",
      "Coherence Score: 0.4153532495058112\n",
      "Training LDA model with 8 topics, alpha=symmetric, beta=0.01\n",
      "Coherence Score: 0.4044807452757104\n",
      "Training LDA model with 8 topics, alpha=symmetric, beta=0.1\n",
      "Coherence Score: 0.38034526177514083\n",
      "Training LDA model with 8 topics, alpha=symmetric, beta=0.5\n",
      "Coherence Score: 0.37504059517075194\n",
      "Training LDA model with 8 topics, alpha=symmetric, beta=1.0\n",
      "Coherence Score: 0.3879360155213716\n",
      "Training LDA model with 8 topics, alpha=asymmetric, beta=auto\n",
      "Coherence Score: 0.37631737579858315\n",
      "Training LDA model with 8 topics, alpha=asymmetric, beta=0.01\n",
      "Coherence Score: 0.38867083226260446\n",
      "Training LDA model with 8 topics, alpha=asymmetric, beta=0.1\n",
      "Coherence Score: 0.36981247780869697\n",
      "Training LDA model with 8 topics, alpha=asymmetric, beta=0.5\n",
      "Coherence Score: 0.4095038791479484\n",
      "Training LDA model with 8 topics, alpha=asymmetric, beta=1.0\n",
      "Coherence Score: 0.4680733318044067\n",
      "Training LDA model with 9 topics, alpha=auto, beta=auto\n",
      "Coherence Score: 0.36762511058940833\n",
      "Training LDA model with 9 topics, alpha=auto, beta=0.01\n",
      "Coherence Score: 0.3775100632722912\n",
      "Training LDA model with 9 topics, alpha=auto, beta=0.1\n",
      "Coherence Score: 0.38864569654803144\n",
      "Training LDA model with 9 topics, alpha=auto, beta=0.5\n",
      "Coherence Score: 0.36722961021677114\n",
      "Training LDA model with 9 topics, alpha=auto, beta=1.0\n",
      "Coherence Score: 0.3868918270341203\n",
      "Training LDA model with 9 topics, alpha=symmetric, beta=auto\n",
      "Coherence Score: 0.4081252733108188\n",
      "Training LDA model with 9 topics, alpha=symmetric, beta=0.01\n",
      "Coherence Score: 0.3669503180377865\n",
      "Training LDA model with 9 topics, alpha=symmetric, beta=0.1\n",
      "Coherence Score: 0.3698003518051888\n",
      "Training LDA model with 9 topics, alpha=symmetric, beta=0.5\n",
      "Coherence Score: 0.35132106155931475\n",
      "Training LDA model with 9 topics, alpha=symmetric, beta=1.0\n",
      "Coherence Score: 0.3803140698963716\n",
      "Training LDA model with 9 topics, alpha=asymmetric, beta=auto\n",
      "Coherence Score: 0.35122283105471497\n",
      "Training LDA model with 9 topics, alpha=asymmetric, beta=0.01\n",
      "Coherence Score: 0.3939848430782528\n",
      "Training LDA model with 9 topics, alpha=asymmetric, beta=0.1\n",
      "Coherence Score: 0.36747228184160974\n",
      "Training LDA model with 9 topics, alpha=asymmetric, beta=0.5\n",
      "Coherence Score: 0.384982147933071\n",
      "Training LDA model with 9 topics, alpha=asymmetric, beta=1.0\n",
      "Coherence Score: 0.43568987915475105\n",
      "Training LDA model with 4 topics, alpha=auto, beta=auto\n",
      "Coherence Score: 0.3853007726449775\n",
      "Training LDA model with 4 topics, alpha=auto, beta=0.01\n",
      "Coherence Score: 0.3712896568409772\n",
      "Training LDA model with 4 topics, alpha=auto, beta=0.1\n",
      "Coherence Score: 0.4183523575373759\n",
      "Training LDA model with 4 topics, alpha=auto, beta=0.5\n",
      "Coherence Score: 0.41971119224816655\n",
      "Training LDA model with 4 topics, alpha=auto, beta=1.0\n",
      "Coherence Score: 0.4022703332281619\n",
      "Training LDA model with 4 topics, alpha=symmetric, beta=auto\n",
      "Coherence Score: 0.38326980399181865\n",
      "Training LDA model with 4 topics, alpha=symmetric, beta=0.01\n",
      "Coherence Score: 0.39477302432526584\n",
      "Training LDA model with 4 topics, alpha=symmetric, beta=0.1\n",
      "Coherence Score: 0.4157551031527479\n",
      "Training LDA model with 4 topics, alpha=symmetric, beta=0.5\n",
      "Coherence Score: 0.3629169851414786\n",
      "Training LDA model with 4 topics, alpha=symmetric, beta=1.0\n",
      "Coherence Score: 0.3987322683496223\n",
      "Training LDA model with 4 topics, alpha=asymmetric, beta=auto\n",
      "Coherence Score: 0.42538369662412123\n",
      "Training LDA model with 4 topics, alpha=asymmetric, beta=0.01\n",
      "Coherence Score: 0.41565755927843695\n",
      "Training LDA model with 4 topics, alpha=asymmetric, beta=0.1\n",
      "Coherence Score: 0.41021901115694415\n",
      "Training LDA model with 4 topics, alpha=asymmetric, beta=0.5\n",
      "Coherence Score: 0.37549980578084846\n",
      "Training LDA model with 4 topics, alpha=asymmetric, beta=1.0\n",
      "Coherence Score: 0.37173549505864817\n",
      "Training LDA model with 5 topics, alpha=auto, beta=auto\n",
      "Coherence Score: 0.41019163573942663\n",
      "Training LDA model with 5 topics, alpha=auto, beta=0.01\n",
      "Coherence Score: 0.4162623016430742\n",
      "Training LDA model with 5 topics, alpha=auto, beta=0.1\n",
      "Coherence Score: 0.42550713060566403\n",
      "Training LDA model with 5 topics, alpha=auto, beta=0.5\n",
      "Coherence Score: 0.39347332458926426\n",
      "Training LDA model with 5 topics, alpha=auto, beta=1.0\n",
      "Coherence Score: 0.39984711765970404\n",
      "Training LDA model with 5 topics, alpha=symmetric, beta=auto\n",
      "Coherence Score: 0.3935191886836673\n",
      "Training LDA model with 5 topics, alpha=symmetric, beta=0.01\n",
      "Coherence Score: 0.39583288100771663\n",
      "Training LDA model with 5 topics, alpha=symmetric, beta=0.1\n",
      "Coherence Score: 0.3671376058132769\n",
      "Training LDA model with 5 topics, alpha=symmetric, beta=0.5\n",
      "Coherence Score: 0.3932892823489682\n",
      "Training LDA model with 5 topics, alpha=symmetric, beta=1.0\n",
      "Coherence Score: 0.35620918546544367\n",
      "Training LDA model with 5 topics, alpha=asymmetric, beta=auto\n",
      "Coherence Score: 0.38052932253874594\n",
      "Training LDA model with 5 topics, alpha=asymmetric, beta=0.01\n",
      "Coherence Score: 0.40712390210599886\n",
      "Training LDA model with 5 topics, alpha=asymmetric, beta=0.1\n",
      "Coherence Score: 0.4148856360755159\n",
      "Training LDA model with 5 topics, alpha=asymmetric, beta=0.5\n",
      "Coherence Score: 0.4466399906669224\n",
      "Training LDA model with 5 topics, alpha=asymmetric, beta=1.0\n",
      "Coherence Score: 0.4376996194506229\n",
      "Best LDA Model:\n",
      "Number of Topics: 8\n",
      "Alpha: asymmetric\n",
      "Beta: 1.0\n"
     ]
    }
   ],
   "source": [
    "import gensim\n",
    "from gensim import corpora\n",
    "from gensim.models import LdaModel\n",
    "from gensim.models import CoherenceModel\n",
    "import numpy as np\n",
    "import itertools\n",
    "\n",
    "# Define a range of hyperparameters to tune\n",
    "num_topics_range = [6, 8, 9, 4, 5]\n",
    "alpha_range = ['auto', 'symmetric', 'asymmetric']\n",
    "beta_range = ['auto', 0.01, 0.1, 0.5, 1.0]\n",
    "\n",
    "best_coherence_score = -1\n",
    "best_lda_model = None\n",
    "best_params = {}\n",
    "\n",
    "# Iterate through all possible hyperparameter combinations\n",
    "for num_topics, alpha, beta in itertools.product(num_topics_range, alpha_range, beta_range):\n",
    "    print(f\"Training LDA model with {num_topics} topics, alpha={alpha}, beta={beta}\")\n",
    "    \n",
    "    lda_model = LdaModel(corpus=doc_term_matrix, id2word=dictionary, num_topics=num_topics, alpha=alpha, eta=beta)\n",
    "\n",
    "    # Compute coherence score to evaluate the model\n",
    "    coherence_model = CoherenceModel(model=lda_model, texts=d1[\"english_nouns\"], dictionary=dictionary, coherence='c_v')\n",
    "    coherence_score = coherence_model.get_coherence()\n",
    "    \n",
    "    print(f\"Coherence Score: {coherence_score}\")\n",
    "\n",
    "    if coherence_score > best_coherence_score:\n",
    "        best_coherence_score = coherence_score\n",
    "        best_lda_model = lda_model\n",
    "        best_params = {'num_topics': num_topics, 'alpha': alpha, 'beta': beta}\n",
    "\n",
    "print(\"Best LDA Model:\")\n",
    "print(f\"Number of Topics: {best_params['num_topics']}\")\n",
    "print(f\"Alpha: {best_params['alpha']}\")\n",
    "print(f\"Beta: {best_params['beta']}\")\n"
   ]
  },
  {
   "cell_type": "markdown",
   "id": "dfd01275",
   "metadata": {},
   "source": [
    "Best LDA Model:\n",
    "\n",
    "Number of Topics: 8\n",
    "\n",
    "Alpha: asymmetric\n",
    "\n",
    "Beta: 1.0"
   ]
  },
  {
   "cell_type": "code",
   "execution_count": 28,
   "id": "db6dadbe",
   "metadata": {},
   "outputs": [],
   "source": [
    "Lda = gensim.models.ldamodel.LdaModel\n",
    "ldamodel = Lda(corpus=doc_term_matrix, num_topics=8, id2word=dictionary, passes=10,alpha='asymmetric',eta=1.0, random_state=45)\n",
    "clear_output()"
   ]
  },
  {
   "cell_type": "code",
   "execution_count": 29,
   "id": "05b66c3a",
   "metadata": {},
   "outputs": [
    {
     "data": {
      "text/plain": [
       "[(0,\n",
       "  '0.076*\"stock\" + 0.050*\"market\" + 0.044*\"application\" + 0.042*\"groww\" + 0.035*\"trading\" + 0.034*\"option\" + 0.030*\"investment\" + 0.028*\"fund\" + 0.026*\"price\" + 0.023*\"time\"'),\n",
       " (1,\n",
       "  '0.096*\"time\" + 0.070*\"issue\" + 0.045*\"problem\" + 0.045*\"login\" + 0.038*\"session\" + 0.032*\"loss\" + 0.028*\"customer\" + 0.026*\"order\" + 0.022*\"today\" + 0.020*\"please\"'),\n",
       " (2,\n",
       "  '0.036*\"something\" + 0.033*\"detail\" + 0.027*\"page\" + 0.020*\"opening\" + 0.018*\"chart\" + 0.017*\"phone\" + 0.016*\"log\" + 0.015*\"option\" + 0.015*\"connection\" + 0.014*\"screen\"'),\n",
       " (3,\n",
       "  '0.142*\"account\" + 0.047*\"money\" + 0.039*\"bank\" + 0.035*\"day\" + 0.029*\"amount\" + 0.023*\"process\" + 0.019*\"withdrawal\" + 0.019*\"groww\" + 0.013*\"help\" + 0.012*\"month\"'),\n",
       " (4,\n",
       "  '0.105*\"money\" + 0.067*\"charge\" + 0.047*\"share\" + 0.024*\"profit\" + 0.023*\"download\" + 0.020*\"transaction\" + 0.018*\"brokerage\" + 0.018*\"amount\" + 0.018*\"balance\" + 0.016*\"fraud\"'),\n",
       " (5,\n",
       "  '0.065*\"login\" + 0.065*\"service\" + 0.011*\"think\" + 0.011*\"password\" + 0.011*\"season\" + 0.005*\"fast\" + 0.005*\"handle\" + 0.005*\"redeem\" + 0.004*\"give\" + 0.004*\"copy\"'),\n",
       " (6,\n",
       "  '0.025*\"hota\" + 0.023*\"bahut\" + 0.020*\"paisa\" + 0.018*\"buying\" + 0.017*\"rate\" + 0.016*\"jata\" + 0.015*\"mera\" + 0.014*\"sale\" + 0.014*\"list\" + 0.012*\"baar\"'),\n",
       " (7,\n",
       "  '0.063*\"need\" + 0.020*\"improvement\" + 0.018*\"equity\" + 0.014*\"alert\" + 0.011*\"nice\" + 0.011*\"india\" + 0.011*\"loan\" + 0.008*\"history\" + 0.005*\"info\" + 0.005*\"level\"')]"
      ]
     },
     "execution_count": 29,
     "metadata": {},
     "output_type": "execute_result"
    }
   ],
   "source": [
    "ldamodel.print_topics()  "
   ]
  },
  {
   "cell_type": "code",
   "execution_count": 30,
   "id": "be31331b",
   "metadata": {},
   "outputs": [
    {
     "name": "stderr",
     "output_type": "stream",
     "text": [
      "C:\\Users\\SADIYA\\anaconda3\\lib\\site-packages\\pandas\\core\\dtypes\\cast.py:1841: DeprecationWarning: np.find_common_type is deprecated.  Please use `np.result_type` or `np.promote_types`.\n",
      "See https://numpy.org/devdocs/release/1.25.0-notes.html and the docs for more information.  (Deprecated NumPy 1.25)\n",
      "  return np.find_common_type(types, [])\n"
     ]
    },
    {
     "data": {
      "text/html": [
       "\n",
       "<link rel=\"stylesheet\" type=\"text/css\" href=\"https://cdn.jsdelivr.net/gh/bmabey/pyLDAvis@3.4.0/pyLDAvis/js/ldavis.v1.0.0.css\">\n",
       "\n",
       "\n",
       "<div id=\"ldavis_el2132017033423151044787386954\" style=\"background-color:white;\"></div>\n",
       "<script type=\"text/javascript\">\n",
       "\n",
       "var ldavis_el2132017033423151044787386954_data = {\"mdsDat\": {\"x\": [-0.22728059216221816, -0.2644893930467742, -0.026440947180988973, -0.012079923297358132, 0.11192712834901457, 0.16051641079631765, 0.14789477707952173, 0.10995253946248555], \"y\": [-0.2185977158187904, 0.11106982174012871, 0.12943311386596915, 0.10121527336154912, -0.09101993128008677, -0.02050116447414671, -0.02391702969549807, 0.0123176323008754], \"topics\": [1, 2, 3, 4, 5, 6, 7, 8], \"cluster\": [1, 1, 1, 1, 1, 1, 1, 1], \"Freq\": [32.18213937810798, 30.108186485184223, 11.394045091443541, 9.94129343198367, 6.860900773500922, 4.172812729352752, 2.7898185643292974, 2.550803546097612]}, \"tinfo\": {\"Term\": [\"account\", \"login\", \"stock\", \"money\", \"issue\", \"time\", \"service\", \"market\", \"problem\", \"charge\", \"application\", \"share\", \"session\", \"day\", \"investment\", \"bank\", \"customer\", \"loss\", \"option\", \"order\", \"price\", \"amount\", \"trading\", \"fund\", \"today\", \"something\", \"need\", \"profit\", \"groww\", \"detail\", \"stock\", \"application\", \"market\", \"investment\", \"feature\", \"interface\", \"platform\", \"price\", \"user\", \"portfolio\", \"beginner\", \"thank\", \"thanks\", \"version\", \"simple\", \"investor\", \"value\", \"start\", \"performance\", \"trader\", \"love\", \"view\", \"graph\", \"analysis\", \"section\", \"understand\", \"future\", \"easy\", \"facility\", \"term\", \"hang\", \"fund\", \"everything\", \"option\", \"update\", \"trading\", \"groww\", \"data\", \"thing\", \"dashboard\", \"experience\", \"year\", \"share\", \"show\", \"work\", \"please\", \"time\", \"grow\", \"team\", \"issue\", \"problem\", \"session\", \"customer\", \"order\", \"today\", \"support\", \"morning\", \"glitch\", \"care\", \"number\", \"asap\", \"call\", \"minute\", \"face\", \"solve\", \"place\", \"exit\", \"contact\", \"class\", \"solution\", \"target\", \"server\", \"loss\", \"facing\", \"resolve\", \"expire\", \"book\", \"response\", \"login\", \"error\", \"time\", \"service\", \"crash\", \"position\", \"trade\", \"day\", \"please\", \"hour\", \"experience\", \"team\", \"money\", \"show\", \"trading\", \"groww\", \"sell\", \"work\", \"help\", \"account\", \"bank\", \"process\", \"withdrawal\", \"payment\", \"date\", \"document\", \"verification\", \"card\", \"transfer\", \"refund\", \"create\", \"credit\", \"unit\", \"status\", \"address\", \"link\", \"nothing\", \"processing\", \"debit\", \"activate\", \"worst\", \"cash\", \"redemption\", \"activation\", \"deposit\", \"family\", \"withdrawn\", \"emergency\", \"logging\", \"amount\", \"day\", \"name\", \"till\", \"money\", \"help\", \"month\", \"balance\", \"email\", \"week\", \"groww\", \"statement\", \"experience\", \"grow\", \"fund\", \"mail\", \"please\", \"change\", \"charge\", \"brokerage\", \"transaction\", \"fraud\", \"install\", \"wallet\", \"rupee\", \"delivery\", \"download\", \"report\", \"play\", \"store\", \"earn\", \"refer\", \"maintenance\", \"google\", \"scam\", \"mind\", \"note\", \"cheater\", \"tell\", \"commission\", \"night\", \"fee\", \"deduction\", \"fake\", \"buyback\", \"lakh\", \"deduct\", \"penny\", \"profit\", \"balance\", \"money\", \"waste\", \"share\", \"dont\", \"amount\", \"people\", \"sell\", \"broker\", \"invest\", \"grow\", \"company\", \"return\", \"trade\", \"loss\", \"please\", \"show\", \"groww\", \"something\", \"detail\", \"page\", \"opening\", \"screen\", \"line\", \"connection\", \"sign\", \"refresh\", \"access\", \"internet\", \"life\", \"tool\", \"phone\", \"log\", \"mobile\", \"click\", \"chain\", \"home\", \"button\", \"site\", \"load\", \"operate\", \"trend\", \"hello\", \"mode\", \"generate\", \"nowadays\", \"grows\", \"chance\", \"form\", \"chart\", \"auto\", \"indicator\", \"option\", \"system\", \"data\", \"please\", \"error\", \"hota\", \"bahut\", \"paisa\", \"jata\", \"rate\", \"mera\", \"buying\", \"list\", \"sale\", \"baar\", \"karo\", \"baad\", \"gaya\", \"quality\", \"hone\", \"watch\", \"bhut\", \"maine\", \"isme\", \"band\", \"hoti\", \"hoga\", \"mein\", \"hote\", \"hain\", \"suck\", \"logo\", \"agar\", \"mene\", \"sath\", \"reinstall\", \"need\", \"improvement\", \"equity\", \"alert\", \"nice\", \"loan\", \"india\", \"history\", \"info\", \"dividend\", \"reward\", \"authentication\", \"interest\", \"trigger\", \"wealth\", \"ratio\", \"competitor\", \"buggy\", \"camera\", \"functionality\", \"factor\", \"seamless\", \"veri\", \"perfect\", \"trending\", \"space\", \"upgrade\", \"bonus\", \"picture\", \"area\", \"crashing\", \"speed\", \"level\", \"channel\", \"think\", \"password\", \"season\", \"handle\", \"redeem\", \"give\", \"loading\", \"find\", \"know\", \"whats\", \"provider\", \"mark\", \"offer\", \"body\", \"copy\", \"advertisement\", \"language\", \"focus\", \"understanding\", \"realy\", \"earning\", \"issu\", \"brand\", \"program\", \"usage\", \"repair\", \"second\", \"baby\", \"paste\", \"excel\", \"service\", \"fast\", \"login\", \"transparent\", \"heck\", \"question\"], \"Freq\": [2098.0, 1969.0, 3173.0, 2742.0, 2742.0, 4657.0, 913.0, 2064.0, 1767.0, 866.0, 1835.0, 1204.0, 1463.0, 1102.0, 1251.0, 573.0, 1098.0, 1358.0, 1705.0, 1034.0, 1088.0, 664.0, 1910.0, 1263.0, 871.0, 322.0, 233.0, 499.0, 2493.0, 294.0, 3166.9531320256124, 1828.1642657114023, 2055.550554162434, 1245.5695173324575, 628.1013075693207, 559.5916021926911, 618.3172653668362, 1073.896580353889, 441.28043796881093, 337.5325289782345, 299.40490837447476, 285.08069881421085, 315.7377315202861, 270.2318679603548, 184.43750443603324, 227.22364618848397, 178.74811693773455, 217.64199379922533, 152.44939253586065, 206.59059021905665, 128.26854400699702, 154.77106880605385, 135.71276557852661, 136.4006088267034, 184.39936069999084, 140.8524504410938, 139.96625590088297, 104.5569851667826, 117.60800744438939, 92.08466944983113, 190.93687629472956, 1145.0094121462669, 216.15832999942447, 1390.6903175351258, 351.10091673743557, 1452.6487299696012, 1725.5076076576333, 290.01677651027416, 344.66556220270496, 414.39984768467946, 765.3724978973686, 262.636607628554, 592.8236462507142, 512.3889800401141, 388.06625480677286, 673.94192395762, 933.9671155742951, 404.4282557851191, 307.99403138084716, 2735.8827134236217, 1759.9626693940043, 1456.3872485574925, 1091.6930010242531, 1027.7480344705316, 864.861779322574, 632.7219731897748, 598.5525662359894, 580.116130832639, 410.6689691924773, 392.34602626681675, 202.45286394694978, 203.06931719467565, 214.7567465151303, 174.14390266455797, 148.6624189969407, 151.44648275616055, 147.67927549476113, 122.04434739410286, 140.18271590160265, 99.08958989094363, 101.82789871849211, 102.52396663199465, 1258.0050007600128, 68.55004405340816, 72.02451737227314, 105.13632737224383, 62.630985609509004, 178.98056592172253, 1748.6426353625095, 340.0033606363787, 3716.036001562138, 694.2696777999645, 245.65571532836327, 169.75271274846264, 450.891657794005, 576.8974856115802, 768.5275275541746, 270.52060112579187, 584.3829273529102, 332.4401120100572, 696.510602861199, 353.3252949536994, 452.43120006622877, 417.5677499134202, 247.54437622580937, 224.93818597473302, 216.6277273164979, 2092.4956235003556, 567.3704169768064, 341.41226945682985, 277.62950213476506, 177.48565140078907, 138.7180833943793, 103.13961817927455, 79.12201146161352, 82.68090059836574, 75.3819645059565, 109.75697534328386, 66.32800731244798, 49.865379456468546, 43.295969595094974, 46.270097985212395, 43.066351375502386, 43.81940486255065, 146.46100665186728, 38.41449839549776, 35.9566971544885, 31.783448354806502, 42.19295587133006, 32.475056639796854, 29.29873341064122, 26.271815782603692, 74.08488683695127, 23.554761488843198, 26.543366085335343, 23.867645260319872, 56.79499441233104, 431.2514967574254, 519.3688490910831, 85.28147992398767, 117.28659347858023, 692.2015631646509, 195.33686625302715, 181.39902971973055, 148.1762865985097, 86.95744287722955, 129.53551646380163, 276.9401993703552, 53.82072919606641, 145.97576640340503, 110.26717952230442, 112.93513888411945, 61.80632046693703, 110.31822935782812, 70.84655399788048, 860.6907881775894, 233.5473896647381, 252.9371523515838, 201.9935949799178, 153.97751457876132, 152.12857044553274, 134.11044404745257, 104.38286341392754, 294.3336932930759, 92.4797975877293, 56.94101006425907, 55.12274676641318, 44.59672517389423, 46.140848641658415, 46.46947978423202, 68.23836815301439, 44.82214873199623, 32.130218340864886, 33.44484438473938, 28.80652285442806, 54.02583527307323, 25.921026100892533, 26.283624032132504, 20.394786868924804, 33.03773536605806, 18.998476085361, 16.650907194564287, 19.48564626645068, 49.850743620250206, 16.125338216973297, 301.3221906898363, 224.62721732183005, 1349.6999451135166, 116.75503563170635, 606.1773332952944, 115.20288381304924, 227.70848048743667, 121.43196487471323, 163.03730262976288, 96.12576719540071, 67.90883568628848, 148.234396461036, 86.18552273539419, 59.24445436257376, 85.47850258181312, 94.33817876390339, 89.41977821455981, 81.46117548532895, 70.0563270301201, 315.6407195971746, 288.0305863225657, 237.89822253521126, 174.42698532474233, 126.6629924788385, 119.45736436371342, 131.68550262899151, 126.0924528582843, 105.77448147740635, 98.38594848890688, 89.00385124812563, 86.45391838349704, 69.36458877079883, 154.4763478978913, 144.17532668652717, 57.80317584428257, 58.14011628128794, 47.23000536367058, 45.92161347769503, 46.81229429936224, 50.61374964057599, 43.2500529917516, 37.05093721247259, 35.2213735438374, 47.636742135576455, 32.52795510162991, 31.46795132928009, 33.9188210195287, 31.31268816086836, 32.02178440222236, 56.86298712243037, 159.17390529530738, 93.1635282555306, 42.22329753546045, 131.76483555807812, 53.501949414489815, 56.11769095822101, 60.574827314648914, 46.22561867905562, 136.41012208788686, 121.85780249896877, 106.5379958046034, 86.3334149486828, 93.1330233876996, 78.61188192893188, 96.20364327677258, 76.57292141200467, 76.65216457339943, 63.042359558270434, 60.91834818903811, 47.97612196065849, 44.63326217558098, 46.586004288881135, 40.334626337858225, 40.92626919013334, 38.73241019053036, 37.932835467529564, 35.97694397223013, 35.61421383782626, 32.965528455983694, 32.18281307385254, 31.32894220343219, 31.133911023171333, 27.656459629804814, 34.962011150782196, 24.1586111649537, 23.916662460970883, 20.123592631230288, 18.036741213567026, 27.705331423979786, 227.4555963950217, 71.83671628942137, 65.59160007893013, 50.94180983727264, 39.22674024867706, 37.82895462229995, 38.42723506543818, 30.02605526382585, 18.850989873795196, 15.75254295752307, 14.384376203136336, 14.535276332264992, 14.240206569859808, 12.889007599876788, 12.079887422563438, 10.703313411162807, 11.853489488917296, 12.348602218196733, 10.535207635407687, 10.496101913427635, 8.870930890162763, 8.628606238108947, 7.953657105286325, 8.782725045132045, 8.611338613297683, 8.973781175210213, 6.874051147586156, 6.085263583831067, 7.737322251239899, 5.4745406013226035, 14.799609940267315, 15.963062750257734, 17.11182505536434, 8.348380250963503, 35.769216226536685, 35.46135439816655, 34.894975014778, 17.256466448944245, 15.394397851717036, 14.638833767936642, 12.95020834644087, 13.319901376607586, 11.982273818829098, 11.585499484999675, 10.403781635905306, 10.963697774103458, 11.300994170646975, 10.450129383376689, 14.46708298223729, 8.591684491865234, 6.334203130707716, 6.737058581842466, 5.766818651429071, 4.145458841622492, 3.9487698081449505, 6.995726996967814, 3.942643509386279, 3.704364565210806, 5.250944092113334, 3.7765469145475072, 6.403720922978068, 3.2508921021572244, 4.2682444187058195, 3.3551054216599665, 213.59867483801114, 17.52231258885272, 214.4506714589771, 4.528705159111752, 4.571144710868776, 5.725791977323266], \"Total\": [2098.0, 1969.0, 3173.0, 2742.0, 2742.0, 4657.0, 913.0, 2064.0, 1767.0, 866.0, 1835.0, 1204.0, 1463.0, 1102.0, 1251.0, 573.0, 1098.0, 1358.0, 1705.0, 1034.0, 1088.0, 664.0, 1910.0, 1263.0, 871.0, 322.0, 233.0, 499.0, 2493.0, 294.0, 3173.8500088033047, 1835.5591408182217, 2064.0354208340414, 1251.8935290528698, 633.8709199249877, 565.3032367766731, 624.6754397707017, 1088.421206013044, 447.5946439492133, 343.92199194525966, 305.10496485097883, 291.17468056464213, 322.5132856325128, 276.78754233246286, 190.02172802354187, 235.37690452967541, 185.4005402455327, 225.8478185912289, 158.40034379947602, 215.2900127877665, 133.6725517240046, 161.41217309038393, 141.7067018256925, 142.45406451202922, 192.65801078204927, 147.18210503897672, 146.7004246314784, 109.74616216766083, 124.56246641676111, 98.21765379778951, 204.11641440351457, 1263.1663772506777, 234.51504376274838, 1705.2984512284481, 399.1675561101201, 1910.8564572014116, 2493.999380950373, 351.48300274598745, 476.05136326655384, 622.8223523248948, 1500.407572511932, 335.64515933357393, 1204.895996655069, 957.6868767009364, 619.2892448190619, 1704.9536838223526, 4657.257296666587, 828.33299977339, 674.8014953032992, 2742.584975826573, 1767.330295513325, 1463.717733313567, 1098.0709027842795, 1034.4600855621009, 871.6491453626126, 639.1725576391827, 605.0439439522116, 586.725877960674, 416.9921005858144, 400.86371613526165, 209.13085540939954, 209.83936042711164, 222.08988102724447, 180.35704575479366, 154.76388912298037, 157.91344383533922, 154.0661191709203, 128.4072509400542, 147.57191586121493, 106.30331122006523, 109.34009242659207, 110.32076366390032, 1358.8046124756502, 74.86528597109334, 79.02681974926664, 115.80832966789208, 69.02145744312868, 197.71399054467037, 1969.8223414865136, 392.1337000543421, 4657.257296666587, 913.8999098176306, 301.6623590521024, 212.1463531959042, 788.5778084881748, 1102.0272538623135, 1704.9536838223526, 415.24903566660737, 1500.407572511932, 674.8014953032992, 2742.768107135071, 957.6868767009364, 1910.8564572014116, 2493.999380950373, 666.680887277855, 619.2892448190619, 510.54788188797477, 2098.5246238257273, 573.1177134624595, 347.22256752180397, 283.5482237028207, 183.2842567924454, 144.48160922009282, 108.68516549818334, 84.72850800613462, 88.62257009187908, 81.24529997516454, 118.43995812673288, 73.31244136437026, 55.38696146303655, 48.73947676915009, 52.22661642916465, 48.988953530732076, 49.84912968283616, 167.04613106205886, 44.34681492533838, 42.16908684774367, 37.34947744793016, 49.584329029456015, 38.77063095080146, 35.10126075378179, 31.62327330923687, 89.64702788776913, 29.84720322613526, 34.10734529011356, 30.706047986935964, 73.71366044400226, 664.9525953407242, 1102.0272538623135, 133.3462343712071, 206.04774169073286, 2742.768107135071, 510.54788188797477, 465.75917429505927, 377.6096058654837, 173.49981049108914, 343.76211068332316, 2493.999380950373, 82.4637561439424, 1500.407572511932, 828.33299977339, 1263.1663772506777, 137.0930931110246, 1704.9536838223526, 381.49749575976455, 866.2598115011025, 239.27858426926736, 260.2764544824879, 207.8917542567958, 160.65375259027576, 159.33406974579844, 140.92291979120628, 110.8485377790602, 316.5239428029473, 101.47396809166867, 62.49223287523063, 61.0078962952182, 50.021697997755325, 52.09332146210248, 52.78534595038352, 79.01372925331479, 51.930702382682675, 37.87113216911853, 39.69700563397328, 34.65700591738972, 65.12256937363384, 31.453607983522677, 32.383884268725566, 26.50244294111793, 43.129429288479244, 25.669084906440233, 22.554212903502503, 26.818608040455874, 68.87851090153494, 22.731444459813478, 499.6346875803685, 377.6096058654837, 2742.768107135071, 192.02938983300425, 1204.895996655069, 189.52456161927435, 664.9525953407242, 306.168137017694, 666.680887277855, 309.9116427101524, 162.91691440083096, 828.33299977339, 273.7912353011592, 130.73200780385915, 788.5778084881748, 1358.8046124756502, 1704.9536838223526, 957.6868767009364, 2493.999380950373, 322.19660068683726, 294.61523334544194, 243.8162912104058, 180.99257426349746, 132.4943782579468, 125.00632900406728, 137.81206620268776, 132.71397633316596, 111.96195758015355, 104.67428259465228, 94.71885867780695, 92.41008394096929, 74.7934208944402, 168.47070848673678, 157.8538774577932, 63.495202564126664, 64.42756164000443, 52.70005549509795, 51.40716113690031, 52.68152477457215, 57.38951716076282, 49.330940645209935, 42.62309184049853, 40.57247318585729, 55.21855419177099, 38.148487894528245, 37.18109965466633, 40.12409222855522, 37.42965825611721, 39.681582073662085, 89.59385040470964, 393.11754706539745, 209.5466617526972, 68.9056683596509, 1705.2984512284481, 176.00178254244167, 351.48300274598745, 1704.9536838223526, 392.1337000543421, 141.9882429970451, 127.30177423709334, 112.04916645293268, 91.89672580342727, 99.49033371060155, 84.24170462634028, 103.18339575532674, 82.68057799117109, 83.07848224238174, 68.50686078808224, 66.5045442982292, 53.65310516337182, 50.263358425388155, 53.03537111963189, 45.972667341911475, 46.74600271735699, 44.30547805210127, 43.62032892555045, 41.446243941686845, 41.52778542426753, 38.55025750267598, 37.78054893836184, 36.78939144934642, 36.70029706988402, 33.11840088122404, 42.17188255675915, 29.803326946384885, 29.508281633536935, 25.606700234096422, 23.534982301815035, 37.63771080150199, 233.5407687728774, 77.81056801138637, 71.91655632177097, 57.06869551999151, 44.78490771840519, 43.477763966172226, 44.633542873972175, 37.40368911293546, 25.431247197483366, 21.430629664764492, 20.233019792039702, 20.53392573046774, 20.506291865682833, 18.93351004334125, 18.01350558993364, 16.344600531951187, 18.15618928263992, 19.08899152550244, 16.36173966611666, 16.70640653258095, 14.574553499239556, 14.262598937196937, 13.458339954592159, 14.926253851944963, 14.67993043001304, 16.32963921372824, 12.69058921326265, 11.748538218987694, 15.598275802879146, 11.240176605765916, 33.68338646413625, 37.70994554247726, 47.866481132880104, 21.713667527045246, 41.82758319804356, 41.943754785826194, 41.99506873500951, 23.215411723590094, 21.10183246321766, 20.927205051236257, 18.98260906023506, 19.979112406863987, 18.384359981497568, 17.793214940765843, 16.306080079403536, 17.20202944201622, 17.96216163163875, 16.776040322386187, 24.414389499497567, 14.697404441032226, 11.883834145921977, 12.681400919346506, 11.41919710397099, 9.667323718206312, 9.526306666997137, 16.900046641007002, 9.764151544561866, 9.46424113950269, 13.452499583381217, 9.704759895794348, 16.82096000992624, 8.712604820672961, 11.592904147435787, 9.409321802130702, 913.8999098176306, 70.49738996847867, 1969.8223414865136, 14.341785380425359, 14.669688662773519, 26.51048777547446], \"Category\": [\"Default\", \"Default\", \"Default\", \"Default\", \"Default\", \"Default\", \"Default\", \"Default\", \"Default\", \"Default\", \"Default\", \"Default\", \"Default\", \"Default\", \"Default\", \"Default\", \"Default\", \"Default\", \"Default\", \"Default\", \"Default\", \"Default\", \"Default\", \"Default\", \"Default\", \"Default\", \"Default\", \"Default\", \"Default\", \"Default\", \"Topic1\", \"Topic1\", \"Topic1\", \"Topic1\", \"Topic1\", \"Topic1\", \"Topic1\", \"Topic1\", \"Topic1\", \"Topic1\", \"Topic1\", \"Topic1\", \"Topic1\", \"Topic1\", \"Topic1\", \"Topic1\", \"Topic1\", \"Topic1\", \"Topic1\", \"Topic1\", \"Topic1\", \"Topic1\", \"Topic1\", \"Topic1\", \"Topic1\", \"Topic1\", \"Topic1\", \"Topic1\", \"Topic1\", \"Topic1\", \"Topic1\", \"Topic1\", \"Topic1\", \"Topic1\", \"Topic1\", \"Topic1\", \"Topic1\", \"Topic1\", \"Topic1\", \"Topic1\", \"Topic1\", \"Topic1\", \"Topic1\", \"Topic1\", \"Topic1\", \"Topic1\", \"Topic1\", \"Topic1\", \"Topic1\", \"Topic2\", \"Topic2\", \"Topic2\", \"Topic2\", \"Topic2\", \"Topic2\", \"Topic2\", \"Topic2\", \"Topic2\", \"Topic2\", \"Topic2\", \"Topic2\", \"Topic2\", \"Topic2\", \"Topic2\", \"Topic2\", \"Topic2\", \"Topic2\", \"Topic2\", \"Topic2\", \"Topic2\", \"Topic2\", \"Topic2\", \"Topic2\", \"Topic2\", \"Topic2\", \"Topic2\", \"Topic2\", \"Topic2\", \"Topic2\", \"Topic2\", \"Topic2\", \"Topic2\", \"Topic2\", \"Topic2\", \"Topic2\", \"Topic2\", \"Topic2\", \"Topic2\", \"Topic2\", \"Topic2\", \"Topic2\", \"Topic2\", \"Topic2\", \"Topic2\", \"Topic2\", \"Topic2\", \"Topic2\", \"Topic3\", \"Topic3\", \"Topic3\", \"Topic3\", \"Topic3\", \"Topic3\", \"Topic3\", \"Topic3\", \"Topic3\", \"Topic3\", \"Topic3\", \"Topic3\", \"Topic3\", \"Topic3\", \"Topic3\", \"Topic3\", \"Topic3\", \"Topic3\", \"Topic3\", \"Topic3\", \"Topic3\", \"Topic3\", \"Topic3\", \"Topic3\", \"Topic3\", \"Topic3\", \"Topic3\", \"Topic3\", \"Topic3\", \"Topic3\", \"Topic3\", \"Topic3\", \"Topic3\", \"Topic3\", \"Topic3\", \"Topic3\", \"Topic3\", \"Topic3\", \"Topic3\", \"Topic3\", \"Topic3\", \"Topic3\", \"Topic3\", \"Topic3\", \"Topic3\", \"Topic3\", \"Topic3\", \"Topic3\", \"Topic4\", \"Topic4\", \"Topic4\", \"Topic4\", \"Topic4\", \"Topic4\", \"Topic4\", \"Topic4\", \"Topic4\", \"Topic4\", \"Topic4\", \"Topic4\", \"Topic4\", \"Topic4\", \"Topic4\", \"Topic4\", \"Topic4\", \"Topic4\", \"Topic4\", \"Topic4\", \"Topic4\", \"Topic4\", \"Topic4\", \"Topic4\", \"Topic4\", \"Topic4\", \"Topic4\", \"Topic4\", \"Topic4\", \"Topic4\", \"Topic4\", \"Topic4\", \"Topic4\", \"Topic4\", \"Topic4\", \"Topic4\", \"Topic4\", \"Topic4\", \"Topic4\", \"Topic4\", \"Topic4\", \"Topic4\", \"Topic4\", \"Topic4\", \"Topic4\", \"Topic4\", \"Topic4\", \"Topic4\", \"Topic4\", \"Topic5\", \"Topic5\", \"Topic5\", \"Topic5\", \"Topic5\", \"Topic5\", \"Topic5\", \"Topic5\", \"Topic5\", \"Topic5\", \"Topic5\", \"Topic5\", \"Topic5\", \"Topic5\", \"Topic5\", \"Topic5\", \"Topic5\", \"Topic5\", \"Topic5\", \"Topic5\", \"Topic5\", \"Topic5\", \"Topic5\", \"Topic5\", \"Topic5\", \"Topic5\", \"Topic5\", \"Topic5\", \"Topic5\", \"Topic5\", \"Topic5\", \"Topic5\", \"Topic5\", \"Topic5\", \"Topic5\", \"Topic5\", \"Topic5\", \"Topic5\", \"Topic5\", \"Topic6\", \"Topic6\", \"Topic6\", \"Topic6\", \"Topic6\", \"Topic6\", \"Topic6\", \"Topic6\", \"Topic6\", \"Topic6\", \"Topic6\", \"Topic6\", \"Topic6\", \"Topic6\", \"Topic6\", \"Topic6\", \"Topic6\", \"Topic6\", \"Topic6\", \"Topic6\", \"Topic6\", \"Topic6\", \"Topic6\", \"Topic6\", \"Topic6\", \"Topic6\", \"Topic6\", \"Topic6\", \"Topic6\", \"Topic6\", \"Topic6\", \"Topic7\", \"Topic7\", \"Topic7\", \"Topic7\", \"Topic7\", \"Topic7\", \"Topic7\", \"Topic7\", \"Topic7\", \"Topic7\", \"Topic7\", \"Topic7\", \"Topic7\", \"Topic7\", \"Topic7\", \"Topic7\", \"Topic7\", \"Topic7\", \"Topic7\", \"Topic7\", \"Topic7\", \"Topic7\", \"Topic7\", \"Topic7\", \"Topic7\", \"Topic7\", \"Topic7\", \"Topic7\", \"Topic7\", \"Topic7\", \"Topic7\", \"Topic7\", \"Topic7\", \"Topic7\", \"Topic8\", \"Topic8\", \"Topic8\", \"Topic8\", \"Topic8\", \"Topic8\", \"Topic8\", \"Topic8\", \"Topic8\", \"Topic8\", \"Topic8\", \"Topic8\", \"Topic8\", \"Topic8\", \"Topic8\", \"Topic8\", \"Topic8\", \"Topic8\", \"Topic8\", \"Topic8\", \"Topic8\", \"Topic8\", \"Topic8\", \"Topic8\", \"Topic8\", \"Topic8\", \"Topic8\", \"Topic8\", \"Topic8\", \"Topic8\", \"Topic8\", \"Topic8\", \"Topic8\", \"Topic8\", \"Topic8\", \"Topic8\"], \"logprob\": [30.0, 29.0, 28.0, 27.0, 26.0, 25.0, 24.0, 23.0, 22.0, 21.0, 20.0, 19.0, 18.0, 17.0, 16.0, 15.0, 14.0, 13.0, 12.0, 11.0, 10.0, 9.0, 8.0, 7.0, 6.0, 5.0, 4.0, 3.0, 2.0, 1.0, -2.5728, -3.1223, -3.0051, -3.506, -4.1907, -4.3061, -4.2063, -3.6543, -4.5437, -4.8117, -4.9316, -4.9806, -4.8784, -5.0341, -5.416, -5.2074, -5.4474, -5.2505, -5.6065, -5.3026, -5.7792, -5.5914, -5.7228, -5.7178, -5.4162, -5.6856, -5.692, -5.9836, -5.866, -6.1106, -5.3814, -3.5902, -5.2573, -3.3958, -4.7723, -3.3522, -3.1801, -4.9634, -4.7908, -4.6065, -3.993, -5.0626, -4.2485, -4.3943, -4.6722, -4.1202, -3.7939, -4.6309, -4.9033, -2.6525, -3.0937, -3.283, -3.5713, -3.6316, -3.8042, -4.1167, -4.1722, -4.2035, -4.5489, -4.5946, -5.2562, -5.2532, -5.1972, -5.4069, -5.5651, -5.5465, -5.5717, -5.7624, -5.6238, -5.9707, -5.9435, -5.9366, -3.4295, -6.3392, -6.2897, -5.9115, -6.4295, -5.3795, -3.1001, -4.7378, -2.3463, -4.0239, -5.0628, -5.4324, -4.4555, -4.2091, -3.9223, -4.9664, -4.1962, -4.7603, -4.0207, -4.6993, -4.4521, -4.5323, -5.0551, -5.1509, -5.1886, -1.9489, -3.254, -3.7619, -3.9687, -4.4161, -4.6626, -4.9589, -5.224, -5.18, -5.2725, -4.8968, -5.4004, -5.6857, -5.827, -5.7605, -5.8323, -5.815, -4.6083, -5.9466, -6.0127, -6.1361, -5.8528, -6.1146, -6.2175, -6.3265, -5.2898, -6.4357, -6.3163, -6.4225, -5.5556, -3.5283, -3.3424, -5.1491, -4.8304, -3.0552, -4.3203, -4.3943, -4.5966, -5.1296, -4.7311, -3.9712, -5.6094, -4.6116, -4.8921, -4.8682, -5.471, -4.8917, -5.3345, -2.7009, -4.0053, -3.9255, -4.1504, -4.4218, -4.4339, -4.56, -4.8106, -3.7739, -4.9316, -5.4166, -5.4491, -5.661, -5.6269, -5.6198, -5.2356, -5.6559, -5.9888, -5.9487, -6.098, -5.4692, -6.2036, -6.1897, -6.4434, -5.961, -6.5143, -6.6462, -6.489, -5.5496, -6.6782, -3.7505, -4.0442, -2.251, -4.6986, -3.0515, -4.7119, -4.0306, -4.6593, -4.3647, -4.893, -5.2405, -4.4598, -5.0021, -5.377, -5.0104, -4.9118, -4.9653, -5.0585, -5.2093, -3.3332, -3.4247, -3.6159, -3.9263, -4.2462, -4.3048, -4.2074, -4.2508, -4.4265, -4.4989, -4.5991, -4.6282, -4.8484, -4.0477, -4.1167, -5.0307, -5.0249, -5.2327, -5.2608, -5.2416, -5.1636, -5.3208, -5.4755, -5.5261, -5.2242, -5.6057, -5.6388, -5.5638, -5.6438, -5.6214, -5.0471, -4.0178, -4.5534, -5.3448, -4.2068, -5.1081, -5.0603, -4.9839, -5.2542, -3.6749, -3.7877, -3.922, -4.1323, -4.0565, -4.226, -4.0241, -4.2523, -4.2513, -4.4467, -4.481, -4.7198, -4.7921, -4.7492, -4.8933, -4.8788, -4.9339, -4.9547, -5.0077, -5.0178, -5.0951, -5.1191, -5.146, -5.1522, -5.2707, -5.0363, -5.4059, -5.416, -5.5886, -5.6981, -5.2689, -2.761, -3.9135, -4.0045, -4.2572, -4.5186, -4.5548, -4.5392, -4.7859, -5.2514, -5.4309, -5.5218, -5.5113, -5.5318, -5.6315, -5.6964, -5.8174, -5.7153, -5.6744, -5.8332, -5.8369, -6.0051, -6.0328, -6.1143, -6.0151, -6.0348, -5.9936, -6.2602, -6.382, -6.1419, -6.4878, -5.4933, -5.4176, -5.3481, -6.0658, -4.5213, -4.5299, -4.546, -5.2502, -5.3643, -5.4147, -5.5372, -5.5091, -5.6149, -5.6486, -5.7562, -5.7038, -5.6735, -5.7517, -5.4265, -5.9476, -6.2524, -6.1907, -6.3462, -6.6763, -6.7249, -6.153, -6.7265, -6.7888, -6.4399, -6.7695, -6.2415, -6.9194, -6.6471, -6.8879, -2.7342, -5.2349, -2.7303, -6.5879, -6.5786, -6.3534], \"loglift\": [30.0, 29.0, 28.0, 27.0, 26.0, 25.0, 24.0, 23.0, 22.0, 21.0, 20.0, 19.0, 18.0, 17.0, 16.0, 15.0, 14.0, 13.0, 12.0, 11.0, 10.0, 9.0, 8.0, 7.0, 6.0, 5.0, 4.0, 3.0, 2.0, 1.0, 1.1316, 1.1297, 1.1296, 1.1287, 1.1246, 1.1236, 1.1235, 1.1203, 1.1196, 1.115, 1.1149, 1.1126, 1.1125, 1.1098, 1.1039, 1.0985, 1.0972, 1.0967, 1.0955, 1.0925, 1.0925, 1.0917, 1.0905, 1.0903, 1.0899, 1.0898, 1.0868, 1.0853, 1.0763, 1.0693, 1.067, 1.0355, 1.0522, 0.9298, 1.0055, 0.8596, 0.7654, 0.9415, 0.8108, 0.7263, 0.4606, 0.8885, 0.4245, 0.5083, 0.6664, 0.2056, -0.473, 0.4168, 0.3494, 1.1979, 1.1962, 1.1954, 1.1945, 1.1939, 1.1926, 1.1902, 1.1896, 1.189, 1.1851, 1.1789, 1.1679, 1.1676, 1.1668, 1.1653, 1.1602, 1.1586, 1.158, 1.1496, 1.149, 1.1301, 1.1292, 1.1271, 1.1233, 1.1122, 1.1076, 1.1037, 1.1032, 1.1008, 1.0813, 1.0577, 0.9746, 0.9255, 0.995, 0.9774, 0.6414, 0.5531, 0.4036, 0.7718, 0.2574, 0.4924, -0.1703, 0.2032, -0.2403, -0.5868, 0.2097, 0.1876, 0.3431, 2.1692, 2.162, 2.1552, 2.151, 2.1399, 2.1314, 2.1197, 2.1036, 2.1027, 2.0972, 2.0959, 2.072, 2.0671, 2.0536, 2.051, 2.0432, 2.0432, 2.0406, 2.0285, 2.0127, 2.0107, 2.0107, 1.9949, 1.9914, 1.9867, 1.9814, 1.9353, 1.9213, 1.9201, 1.9113, 1.7391, 1.4198, 1.7251, 1.6086, 0.7952, 1.2113, 1.2291, 1.2366, 1.4813, 1.1961, -0.0258, 1.7454, -0.158, 0.1556, -0.2425, 1.3754, -0.5658, 0.4885, 2.302, 2.2842, 2.2799, 2.2797, 2.266, 2.2622, 2.2589, 2.2484, 2.2358, 2.2157, 2.2154, 2.207, 2.1937, 2.1871, 2.181, 2.1619, 2.1613, 2.1441, 2.1371, 2.1236, 2.1217, 2.115, 2.0998, 2.0465, 2.0419, 2.0075, 2.005, 1.9891, 1.9852, 1.9651, 1.8028, 1.7891, 1.5994, 1.8109, 1.6215, 1.8106, 1.2368, 1.3837, 0.9001, 1.1378, 1.4334, 0.5879, 1.1526, 1.517, 0.0865, -0.359, -0.6395, -0.1559, -1.2639, 2.6588, 2.6567, 2.6548, 2.6424, 2.6343, 2.6339, 2.6339, 2.6282, 2.6225, 2.6174, 2.6171, 2.6127, 2.604, 2.5926, 2.5887, 2.5854, 2.5766, 2.5697, 2.5665, 2.5612, 2.5537, 2.5478, 2.5392, 2.5379, 2.5316, 2.5199, 2.5125, 2.5113, 2.5009, 2.4649, 2.2247, 1.7752, 1.8687, 2.1896, 0.1189, 1.4886, 0.8446, -0.6581, 0.5413, 3.1365, 3.1329, 3.1261, 3.1141, 3.1105, 3.1074, 3.1065, 3.0998, 3.0961, 3.0935, 3.0888, 3.0647, 3.0578, 3.0469, 3.0457, 3.0436, 3.0421, 3.0369, 3.0351, 3.023, 3.0201, 3.0162, 3.0159, 3.0121, 2.9964, 2.9891, 2.9666, 2.9665, 2.9356, 2.9105, 2.8702, 3.5528, 3.4993, 3.4871, 3.4656, 3.4467, 3.44, 3.4295, 3.3595, 3.2798, 3.2714, 3.238, 3.2337, 3.2145, 3.1946, 3.1796, 3.1558, 3.1528, 3.1436, 3.139, 3.1144, 3.0827, 3.0766, 3.0532, 3.0489, 3.0458, 2.9805, 2.9661, 2.9213, 2.8781, 2.8598, 2.7568, 2.7195, 2.5505, 2.6233, 3.5123, 3.5009, 3.4836, 3.3721, 3.3534, 3.3114, 3.2864, 3.2633, 3.2407, 3.2397, 3.2194, 3.2183, 3.2054, 3.1954, 3.1455, 3.1319, 3.0395, 3.0362, 2.9856, 2.822, 2.7881, 2.7867, 2.7619, 2.7308, 2.728, 2.725, 2.703, 2.6829, 2.6696, 2.6375, 2.2151, 2.2767, 1.4511, 2.516, 2.5027, 2.1362]}, \"token.table\": {\"Topic\": [1, 2, 3, 4, 5, 6, 7, 8, 1, 2, 3, 4, 5, 6, 7, 8, 1, 2, 3, 4, 5, 6, 7, 8, 1, 2, 3, 4, 5, 6, 7, 8, 1, 2, 3, 4, 5, 6, 7, 8, 1, 2, 3, 4, 5, 6, 7, 8, 1, 2, 3, 4, 5, 6, 7, 8, 1, 2, 3, 4, 5, 6, 7, 8, 1, 2, 3, 4, 5, 6, 7, 8, 1, 2, 3, 4, 5, 6, 7, 8, 1, 2, 3, 4, 5, 6, 7, 8, 1, 2, 3, 4, 5, 6, 7, 8, 1, 2, 3, 4, 5, 6, 7, 8, 1, 2, 3, 4, 5, 6, 7, 8, 1, 2, 3, 4, 5, 6, 7, 8, 1, 2, 3, 4, 5, 6, 7, 8, 1, 2, 3, 4, 5, 6, 7, 8, 1, 2, 3, 4, 5, 6, 7, 8, 1, 2, 3, 4, 5, 6, 7, 8, 1, 2, 3, 4, 5, 6, 7, 8, 1, 2, 3, 4, 5, 6, 7, 8, 1, 2, 3, 4, 5, 6, 7, 8, 1, 2, 3, 4, 5, 6, 7, 8, 1, 2, 3, 4, 5, 6, 7, 8, 1, 2, 3, 4, 5, 6, 7, 8, 1, 2, 3, 4, 5, 6, 7, 8, 1, 2, 3, 4, 5, 6, 7, 8, 1, 2, 3, 4, 5, 6, 7, 8, 1, 2, 3, 4, 5, 6, 7, 8, 1, 2, 3, 4, 5, 6, 7, 8, 1, 2, 3, 4, 5, 6, 7, 8, 1, 2, 3, 4, 5, 6, 7, 8, 1, 2, 3, 4, 5, 6, 7, 8, 1, 2, 3, 4, 5, 6, 7, 8, 1, 2, 3, 4, 5, 6, 7, 8, 1, 2, 3, 4, 5, 6, 7, 8, 1, 2, 3, 4, 5, 6, 7, 8, 1, 2, 3, 4, 5, 6, 7, 8, 1, 2, 3, 4, 5, 6, 7, 8, 1, 2, 3, 4, 5, 6, 7, 8, 1, 2, 3, 4, 5, 6, 7, 8, 1, 2, 3, 4, 5, 6, 7, 8, 1, 2, 3, 4, 5, 6, 7, 8, 1, 2, 3, 4, 5, 6, 7, 8, 1, 2, 3, 4, 5, 6, 7, 8, 1, 2, 3, 4, 5, 6, 7, 8, 1, 2, 3, 4, 5, 6, 7, 8, 1, 2, 3, 4, 5, 6, 7, 8, 1, 2, 3, 4, 5, 6, 7, 8, 1, 2, 3, 4, 5, 6, 7, 8, 1, 2, 3, 4, 5, 6, 7, 8, 1, 2, 3, 4, 5, 6, 7, 8, 1, 2, 3, 4, 5, 6, 7, 8, 1, 2, 3, 4, 5, 6, 7, 8, 1, 2, 3, 4, 5, 6, 7, 8, 1, 2, 3, 4, 5, 6, 7, 8, 1, 2, 3, 4, 5, 6, 7, 8, 1, 2, 3, 4, 5, 6, 7, 8, 1, 2, 3, 4, 5, 6, 7, 8, 1, 2, 3, 4, 5, 6, 7, 8, 1, 2, 3, 4, 5, 6, 7, 8, 1, 2, 3, 4, 5, 6, 7, 8, 1, 2, 3, 4, 5, 6, 7, 8, 1, 2, 3, 4, 5, 6, 7, 8, 1, 2, 3, 4, 5, 6, 7, 8, 1, 2, 3, 4, 5, 6, 7, 8, 1, 2, 3, 4, 5, 6, 7, 8, 1, 2, 3, 4, 5, 6, 7, 8, 1, 2, 3, 4, 5, 6, 7, 8, 1, 2, 3, 4, 5, 6, 7, 8, 1, 2, 3, 4, 5, 6, 7, 8, 1, 2, 3, 4, 5, 6, 7, 8, 1, 2, 3, 4, 5, 6, 7, 8, 1, 2, 3, 4, 5, 6, 7, 8, 1, 2, 3, 4, 5, 6, 7, 8, 1, 2, 3, 4, 5, 6, 7, 8, 1, 2, 3, 4, 5, 6, 7, 8, 1, 2, 3, 4, 5, 6, 7, 8, 1, 2, 3, 4, 5, 6, 7, 8, 1, 2, 3, 4, 5, 6, 7, 8, 1, 2, 3, 4, 5, 6, 7, 8, 1, 2, 3, 4, 5, 6, 7, 8, 1, 2, 3, 4, 5, 6, 7, 8, 1, 2, 3, 4, 5, 6, 7, 8, 1, 2, 3, 4, 5, 6, 7, 8, 1, 2, 3, 4, 5, 6, 7, 8, 1, 2, 3, 4, 5, 6, 7, 8, 1, 2, 3, 4, 5, 6, 7, 8, 1, 2, 3, 4, 5, 6, 7, 8, 1, 2, 3, 4, 5, 6, 7, 8, 1, 2, 3, 4, 5, 6, 7, 8, 1, 2, 3, 4, 5, 6, 7, 8, 1, 2, 3, 4, 5, 6, 7, 8, 1, 2, 3, 4, 5, 6, 7, 8, 1, 2, 3, 4, 5, 6, 7, 8, 1, 2, 3, 4, 5, 6, 7, 8, 1, 2, 3, 4, 5, 6, 7, 8, 1, 2, 3, 4, 5, 6, 7, 8, 1, 2, 3, 4, 5, 6, 7, 8, 1, 2, 3, 4, 5, 6, 7, 8, 1, 2, 3, 4, 5, 6, 7, 8, 1, 2, 3, 4, 5, 6, 7, 8, 1, 2, 3, 4, 5, 6, 7, 8, 1, 2, 3, 4, 5, 6, 7, 8, 1, 2, 3, 4, 5, 6, 7, 8, 1, 2, 3, 4, 5, 6, 7, 8, 1, 2, 3, 4, 5, 6, 7, 8, 1, 2, 3, 4, 5, 6, 7, 8, 1, 2, 3, 4, 5, 6, 7, 8, 1, 2, 3, 4, 5, 6, 7, 8, 1, 2, 3, 4, 5, 6, 7, 8, 1, 2, 3, 4, 5, 6, 7, 8, 1, 2, 3, 4, 5, 6, 7, 8, 1, 2, 3, 4, 5, 6, 7, 8, 1, 2, 3, 4, 5, 6, 7, 8, 1, 2, 3, 4, 5, 6, 7, 8, 1, 2, 3, 4, 5, 6, 7, 8, 1, 2, 3, 4, 5, 6, 7, 8, 1, 2, 3, 4, 5, 6, 7, 8, 1, 2, 3, 4, 5, 6, 7, 8, 1, 2, 3, 4, 5, 6, 7, 8, 1, 2, 3, 4, 5, 6, 7, 8, 1, 2, 3, 4, 5, 6, 7, 8, 1, 2, 3, 4, 5, 6, 7, 8, 1, 2, 3, 4, 5, 6, 7, 8, 1, 2, 3, 4, 5, 6, 7, 8, 1, 2, 3, 4, 5, 6, 7, 8, 1, 2, 3, 4, 5, 6, 7, 8, 1, 2, 3, 4, 5, 6, 7, 8, 1, 2, 3, 4, 5, 6, 7, 8, 1, 2, 3, 4, 5, 6, 7, 8, 1, 2, 3, 4, 5, 6, 7, 8, 1, 2, 3, 4, 5, 6, 7, 8, 1, 2, 3, 4, 5, 6, 7, 8, 1, 2, 3, 4, 5, 6, 7, 8, 1, 2, 3, 4, 5, 6, 7, 8, 1, 2, 3, 4, 5, 6, 7, 8, 1, 2, 3, 4, 5, 6, 7, 8, 1, 2, 3, 4, 5, 6, 7, 8, 1, 2, 3, 4, 5, 6, 7, 8, 1, 2, 3, 4, 5, 6, 7, 8, 1, 2, 3, 4, 5, 6, 7, 8, 1, 2, 3, 4, 5, 6, 7, 8, 1, 2, 3, 4, 5, 6, 7, 8, 1, 2, 3, 4, 5, 6, 7, 8, 1, 2, 3, 4, 5, 6, 7, 8, 1, 2, 3, 4, 5, 6, 7, 8, 1, 2, 3, 4, 5, 6, 7, 8, 1, 2, 3, 4, 5, 6, 7, 8, 1, 2, 3, 4, 5, 6, 7, 8, 1, 2, 3, 4, 5, 6, 7, 8, 1, 2, 3, 4, 5, 6, 7, 8, 1, 2, 3, 4, 5, 6, 7, 8, 1, 2, 3, 4, 5, 6, 7, 8, 1, 2, 3, 4, 5, 6, 7, 8, 1, 2, 3, 4, 5, 6, 7, 8, 1, 2, 3, 4, 5, 6, 7, 8, 1, 2, 3, 4, 5, 6, 7, 8, 1, 2, 3, 4, 5, 6, 7, 8, 1, 2, 3, 4, 5, 6, 7, 8, 1, 2, 3, 4, 5, 6, 7, 8, 1, 2, 3, 4, 5, 6, 7, 8, 1, 2, 3, 4, 5, 6, 7, 8, 1, 2, 3, 4, 5, 6, 7, 8, 1, 2, 3, 4, 5, 6, 7, 8, 1, 2, 3, 4, 5, 6, 7, 8, 1, 2, 3, 4, 5, 6, 7, 8, 1, 2, 3, 4, 5, 6, 7, 8, 1, 2, 3, 4, 5, 6, 7, 8, 1, 2, 3, 4, 5, 6, 7, 8, 1, 2, 3, 4, 5, 6, 7, 8, 1, 2, 3, 4, 5, 6, 7, 8, 1, 2, 3, 4, 5, 6, 7, 8, 1, 2, 3, 4, 5, 6, 7, 8, 1, 2, 3, 4, 5, 6, 7, 8, 1, 2, 3, 4, 5, 6, 7, 8, 1, 2, 3, 4, 5, 6, 7, 8, 1, 2, 3, 4, 5, 6, 7, 8, 1, 2, 3, 4, 5, 6, 7, 8, 1, 2, 3, 4, 5, 6, 7, 8, 1, 2, 3, 4, 5, 6, 7, 8, 1, 2, 3, 4, 5, 6, 7, 8, 1, 2, 3, 4, 5, 6, 7, 8, 1, 2, 3, 4, 5, 6, 7, 8, 1, 2, 3, 4, 5, 6, 7, 8, 1, 2, 3, 4, 5, 6, 7, 8, 1, 2, 3, 4, 5, 6, 7, 8, 1, 2, 3, 4, 5, 6, 7, 8, 1, 2, 3, 4, 5, 6, 7, 8, 1, 2, 3, 4, 5, 6, 7, 8, 1, 2, 3, 4, 5, 6, 7, 8, 1, 2, 3, 4, 5, 6, 7, 8, 1, 2, 3, 4, 5, 6, 7, 8, 1, 2, 3, 4, 5, 6, 7, 8, 1, 2, 3, 4, 5, 6, 7, 8, 1, 2, 3, 4, 5, 6, 7, 8, 1, 2, 3, 4, 5, 6, 7, 8, 1, 2, 3, 4, 5, 6, 7, 8, 1, 2, 3, 4, 5, 6, 7, 8, 1, 2, 3, 4, 5, 6, 7, 8, 1, 2, 3, 4, 5, 6, 7, 8, 1, 2, 3, 4, 5, 6, 7, 8, 1, 2, 3, 4, 5, 6, 7, 8, 1, 2, 3, 4, 5, 6, 7, 8, 1, 2, 3, 4, 5, 6, 7, 8, 1, 2, 3, 4, 5, 6, 7, 8, 1, 2, 3, 4, 5, 6, 7, 8, 1, 2, 3, 4, 5, 6, 7, 8, 1, 2, 3, 4, 5, 6, 7, 8, 1, 2, 3, 4, 5, 6, 7, 8, 1, 2, 3, 4, 5, 6, 7, 8, 1, 2, 3, 4, 5, 6, 7, 8, 1, 2, 3, 4, 5, 6, 7, 8, 1, 2, 3, 4, 5, 6, 7, 8, 1, 2, 3, 4, 5, 6, 7, 8, 1, 2, 3, 4, 5, 6, 7, 8, 1, 2, 3, 4, 5, 6, 7, 8, 1, 2, 3, 4, 5, 6, 7, 8, 1, 2, 3, 4, 5, 6, 7, 8, 1, 2, 3, 4, 5, 6, 7, 8, 1, 2, 3, 4, 5, 6, 7, 8, 1, 2, 3, 4, 5, 6, 7, 8, 1, 2, 3, 4, 5, 6, 7, 8, 1, 2, 3, 4, 5, 6, 7, 8, 1, 2, 3, 4, 5, 6, 7, 8, 1, 2, 3, 4, 5, 6, 7, 8, 1, 2, 3, 4, 5, 6, 7, 8, 1, 2, 3, 4, 5, 6, 7, 8, 1, 2, 3, 4, 5, 6, 7, 8, 1, 2, 3, 4, 5, 6, 7, 8, 1, 2, 3, 4, 5, 6, 7, 8, 1, 2, 3, 4, 5, 6, 7, 8, 1, 2, 3, 4, 5, 6, 7, 8, 1, 2, 3, 4, 5, 6, 7, 8, 1, 2, 3, 4, 5, 6, 7, 8, 1, 2, 3, 4, 5, 6, 7, 8, 1, 2, 3, 4, 5, 6, 7, 8, 1, 2, 3, 4, 5, 6, 7, 8, 1, 2, 3, 4, 5, 6, 7, 8, 1, 2, 3, 4, 5, 6, 7, 8, 1, 2, 3, 4, 5, 6, 7, 8, 1, 2, 3, 4, 5, 6, 7, 8, 1, 2, 3, 4, 5, 6, 7, 8, 1, 2, 3, 4, 5, 6, 7, 8, 1, 2, 3, 4, 5, 6, 7, 8, 1, 2, 3, 4, 5, 6, 7, 8, 1, 2, 3, 4, 5, 6, 7, 8, 1, 2, 3, 4, 5, 6, 7, 8, 1, 2, 3, 4, 5, 6, 7, 8, 1, 2, 3, 4, 5, 6, 7, 8, 1, 2, 3, 4, 5, 6, 7, 8, 1, 2, 3, 4, 5, 6, 7, 8, 1, 2, 3, 4, 5, 6, 7, 8, 1, 2, 3, 4, 5, 6, 7, 8, 1, 2, 3, 4, 5, 6, 7, 8, 1, 2, 3, 4, 5, 6, 7, 8, 1, 2, 3, 4, 5, 6, 7, 8, 1, 2, 3, 4, 5, 6, 7, 8, 1, 2, 3, 4, 5, 6, 7, 8, 1, 2, 3, 4, 5, 6, 7, 8, 1, 2, 3, 4, 5, 6, 7, 8, 1, 2, 3, 4, 5, 6, 7, 8, 1, 2, 3, 4, 5, 6, 7, 8, 1, 2, 3, 4, 5, 6, 7, 8, 1, 2, 3, 4, 5, 6, 7, 8, 1, 2, 3, 4, 5, 6, 7, 8, 1, 2, 3, 4, 5, 6, 7, 8, 1, 2, 3, 4, 5, 6, 7, 8, 1, 2, 3, 4, 5, 6, 7, 8, 1, 2, 3, 4, 5, 6, 7, 8, 1, 2, 3, 4, 5, 6, 7, 8, 1, 2, 3, 4, 5, 6, 7, 8, 1, 2, 3, 4, 5, 6, 7, 8, 1, 2, 3, 4, 5, 6, 7, 8, 1, 2, 3, 4, 5, 6, 7, 8, 1, 2, 3, 4, 5, 6, 7, 8, 1, 2, 3, 4, 5, 6, 7, 8, 1, 2, 3, 4, 5, 6, 7, 8, 1, 2, 3, 4, 5, 6, 7, 8, 1, 2, 3, 4, 5, 6, 7, 8, 1, 2, 3, 4, 5, 6, 7, 8, 1, 2, 3, 4, 5, 6, 7, 8, 1, 2, 3, 4, 5, 6, 7, 8, 1, 2, 3, 4, 5, 6, 7, 8, 1, 2, 3, 4, 5, 6, 7, 8, 1, 2, 3, 4, 5, 6, 7, 8, 1, 2, 3, 4, 5, 6, 7, 8, 1, 2, 3, 4, 5, 6, 7, 8, 1, 2, 3, 4, 5, 6, 7, 8, 1, 2, 3, 4, 5, 6, 7, 8, 1, 2, 3, 4, 5, 6, 7, 8, 1, 2, 3, 4, 5, 6, 7, 8, 1, 2, 3, 4, 5, 6, 7, 8, 1, 2, 3, 4, 5, 6, 7, 8, 1, 2, 3, 4, 5, 6, 7, 8, 1, 2, 3, 4, 5, 6, 7, 8, 1, 2, 3, 4, 5, 6, 7, 8, 1, 2, 3, 4, 5, 6, 7, 8, 1, 2, 3, 4, 5, 6, 7, 8, 1, 2, 3, 4, 5, 6, 7, 8, 1, 2, 3, 4, 5, 6, 7, 8], \"Freq\": [0.009553444983926636, 0.009553444983926636, 0.009553444983926636, 0.009553444983926636, 0.9362376084248103, 0.009553444983926636, 0.009553444983926636, 0.009553444983926636, 0.00047652526381937053, 0.00047652526381937053, 0.9968908519101232, 0.00047652526381937053, 0.00047652526381937053, 0.00047652526381937053, 0.00047652526381937053, 0.00047652526381937053, 0.026774136302017207, 0.026774136302017207, 0.8567723616645506, 0.026774136302017207, 0.026774136302017207, 0.026774136302017207, 0.026774136302017207, 0.026774136302017207, 0.03162227990193252, 0.03162227990193252, 0.8221792774502454, 0.03162227990193252, 0.03162227990193252, 0.03162227990193252, 0.03162227990193252, 0.03162227990193252, 0.020412765081268238, 0.020412765081268238, 0.8777488984945342, 0.020412765081268238, 0.020412765081268238, 0.020412765081268238, 0.020412765081268238, 0.020412765081268238, 0.0680392244775002, 0.0680392244775002, 0.0680392244775002, 0.0680392244775002, 0.0680392244775002, 0.0680392244775002, 0.0680392244775002, 0.6123530202975018, 0.03388879137114761, 0.03388879137114761, 0.03388879137114761, 0.03388879137114761, 0.03388879137114761, 0.8133309929075426, 0.03388879137114761, 0.03388879137114761, 0.03504548302316439, 0.017522741511582195, 0.017522741511582195, 0.017522741511582195, 0.017522741511582195, 0.017522741511582195, 0.8936598170906919, 0.017522741511582195, 0.0015038666019306177, 0.0030077332038612355, 0.6481665054320962, 0.34288158524018086, 0.0015038666019306177, 0.0015038666019306177, 0.0015038666019306177, 0.0015038666019306177, 0.954693714537824, 0.007019806724542824, 0.007019806724542824, 0.007019806724542824, 0.014039613449085648, 0.007019806724542824, 0.007019806724542824, 0.007019806724542824, 0.9958818320531736, 0.001089586249511131, 0.0005447931247555655, 0.0005447931247555655, 0.0005447931247555655, 0.0005447931247555655, 0.0005447931247555655, 0.0005447931247555655, 0.08896657366460116, 0.08896657366460116, 0.08896657366460116, 0.08896657366460116, 0.08896657366460116, 0.08896657366460116, 0.44483286832300584, 0.08896657366460116, 0.00478169516421848, 0.965902423172133, 0.00478169516421848, 0.00478169516421848, 0.00478169516421848, 0.00478169516421848, 0.00478169516421848, 0.00478169516421848, 0.04869989368453906, 0.04869989368453906, 0.04869989368453906, 0.04869989368453906, 0.04869989368453906, 0.04869989368453906, 0.730498405268086, 0.04869989368453906, 0.004772206780273981, 0.510626125489316, 0.023861033901369906, 0.004772206780273981, 0.4438152305654802, 0.004772206780273981, 0.004772206780273981, 0.004772206780273981, 0.018638250236496755, 0.018638250236496755, 0.018638250236496755, 0.018638250236496755, 0.018638250236496755, 0.8946360113518441, 0.018638250236496755, 0.018638250236496755, 0.014597078139273965, 0.014597078139273965, 0.014597078139273965, 0.014597078139273965, 0.014597078139273965, 0.9196159227742599, 0.014597078139273965, 0.014597078139273965, 0.11477623748379305, 0.11477623748379305, 0.11477623748379305, 0.11477623748379305, 0.11477623748379305, 0.11477623748379305, 0.11477623748379305, 0.34432871245137914, 0.007855350060852638, 0.007855350060852638, 0.007855350060852638, 0.007855350060852638, 0.007855350060852638, 0.9583527074240219, 0.007855350060852638, 0.007855350060852638, 0.0026482377155316096, 0.0026482377155316096, 0.3919391818986782, 0.5958534859946122, 0.0026482377155316096, 0.0026482377155316096, 0.0026482377155316096, 0.0026482377155316096, 0.02408026312464116, 0.02408026312464116, 0.02408026312464116, 0.02408026312464116, 0.02408026312464116, 0.8668894724870818, 0.02408026312464116, 0.02408026312464116, 0.0017448422488262566, 0.0017448422488262566, 0.9893255550844875, 0.0017448422488262566, 0.0017448422488262566, 0.0017448422488262566, 0.0017448422488262566, 0.0017448422488262566, 0.9799906079733555, 0.0032775605617837975, 0.0032775605617837975, 0.0032775605617837975, 0.0032775605617837975, 0.0032775605617837975, 0.0032775605617837975, 0.0032775605617837975, 0.022570572397933378, 0.022570572397933378, 0.022570572397933378, 0.022570572397933378, 0.022570572397933378, 0.8802523235194017, 0.022570572397933378, 0.022570572397933378, 0.05960882191404761, 0.05960882191404761, 0.05960882191404761, 0.05960882191404761, 0.05960882191404761, 0.05960882191404761, 0.05960882191404761, 0.596088219140476, 0.0851169721169077, 0.0851169721169077, 0.0851169721169077, 0.0851169721169077, 0.0851169721169077, 0.0851169721169077, 0.5107018327014462, 0.0851169721169077, 0.01448824810493122, 0.9127596306106669, 0.01448824810493122, 0.01448824810493122, 0.01448824810493122, 0.01448824810493122, 0.01448824810493122, 0.01448824810493122, 0.10241545263161642, 0.10241545263161642, 0.10241545263161642, 0.10241545263161642, 0.10241545263161642, 0.10241545263161642, 0.10241545263161642, 0.40966181052646566, 0.4485149340775202, 0.22587083011098139, 0.006453452288885182, 0.30976570986648877, 0.003226726144442591, 0.003226726144442591, 0.003226726144442591, 0.003226726144442591, 0.004179229006448275, 0.004179229006448275, 0.004179229006448275, 0.9779395875088963, 0.004179229006448275, 0.004179229006448275, 0.004179229006448275, 0.004179229006448275, 0.0523862142567366, 0.0523862142567366, 0.0523862142567366, 0.0523862142567366, 0.0523862142567366, 0.0523862142567366, 0.6286345710808392, 0.0523862142567366, 0.018981986650520623, 0.018981986650520623, 0.018981986650520623, 0.018981986650520623, 0.8921533725744693, 0.018981986650520623, 0.018981986650520623, 0.018981986650520623, 0.044337614630067954, 0.044337614630067954, 0.044337614630067954, 0.7537394487111552, 0.044337614630067954, 0.044337614630067954, 0.044337614630067954, 0.044337614630067954, 0.01938296356075054, 0.00969148178037527, 0.00969148178037527, 0.00969148178037527, 0.00969148178037527, 0.9303822509160258, 0.00969148178037527, 0.00969148178037527, 0.004765550171162255, 0.9674066847459377, 0.004765550171162255, 0.004765550171162255, 0.004765550171162255, 0.004765550171162255, 0.004765550171162255, 0.004765550171162255, 0.061118195277907315, 0.061118195277907315, 0.061118195277907315, 0.061118195277907315, 0.061118195277907315, 0.061118195277907315, 0.6723001480569805, 0.061118195277907315, 0.011283807262227377, 0.011283807262227377, 0.9365560027648724, 0.011283807262227377, 0.011283807262227377, 0.011283807262227377, 0.011283807262227377, 0.011283807262227377, 0.0023981269635447353, 0.9856301820168862, 0.0023981269635447353, 0.0023981269635447353, 0.0023981269635447353, 0.0023981269635447353, 0.0023981269635447353, 0.0023981269635447353, 0.025792719269102534, 0.025792719269102534, 0.8253670166112811, 0.025792719269102534, 0.025792719269102534, 0.025792719269102534, 0.025792719269102534, 0.025792719269102534, 0.018975312086588182, 0.018975312086588182, 0.018975312086588182, 0.018975312086588182, 0.8918396680696445, 0.018975312086588182, 0.018975312086588182, 0.018975312086588182, 0.025200608134616977, 0.07560182440385094, 0.025200608134616977, 0.025200608134616977, 0.8064194603077433, 0.025200608134616977, 0.025200608134616977, 0.025200608134616977, 0.511143591156873, 0.20183618727732935, 0.18610869216481019, 0.0026212491854198617, 0.09174372148969516, 0.0026212491854198617, 0.0026212491854198617, 0.0026212491854198617, 0.36843154156411756, 0.046053942695514695, 0.046053942695514695, 0.046053942695514695, 0.046053942695514695, 0.046053942695514695, 0.36843154156411756, 0.046053942695514695, 0.0011543880793305477, 0.0011543880793305477, 0.0011543880793305477, 0.9939281363036016, 0.0011543880793305477, 0.0011543880793305477, 0.0011543880793305477, 0.0011543880793305477, 0.5825229672637953, 0.002543768415999106, 0.002543768415999106, 0.002543768415999106, 0.40445917814385784, 0.002543768415999106, 0.002543768415999106, 0.002543768415999106, 0.02885419480216073, 0.02885419480216073, 0.02885419480216073, 0.8367716492626611, 0.02885419480216073, 0.02885419480216073, 0.02885419480216073, 0.02885419480216073, 0.006776357101309556, 0.9486899941833378, 0.013552714202619111, 0.006776357101309556, 0.006776357101309556, 0.006776357101309556, 0.006776357101309556, 0.006776357101309556, 0.01552130756690129, 0.01552130756690129, 0.01552130756690129, 0.01552130756690129, 0.9002358388802748, 0.01552130756690129, 0.01552130756690129, 0.01552130756690129, 0.03179285506845069, 0.03179285506845069, 0.03179285506845069, 0.8266142317797179, 0.03179285506845069, 0.03179285506845069, 0.03179285506845069, 0.03179285506845069, 0.5515150981144672, 0.10957253604923191, 0.0073048357366154604, 0.3141079366744648, 0.0036524178683077302, 0.0073048357366154604, 0.0036524178683077302, 0.0036524178683077302, 0.05507763685610791, 0.05507763685610791, 0.05507763685610791, 0.05507763685610791, 0.05507763685610791, 0.05507763685610791, 0.6609316422732949, 0.05507763685610791, 0.007256258668448126, 0.007256258668448126, 0.007256258668448126, 0.007256258668448126, 0.9578261442351526, 0.007256258668448126, 0.007256258668448126, 0.007256258668448126, 0.007787722209447822, 0.9501021095526344, 0.007787722209447822, 0.007787722209447822, 0.007787722209447822, 0.007787722209447822, 0.007787722209447822, 0.007787722209447822, 0.04095945139322773, 0.04095945139322773, 0.16383780557291092, 0.04095945139322773, 0.04095945139322773, 0.04095945139322773, 0.04095945139322773, 0.5734323195051881, 0.16574822313633145, 0.8154812578307508, 0.003314964462726629, 0.003314964462726629, 0.003314964462726629, 0.003314964462726629, 0.003314964462726629, 0.003314964462726629, 0.02968822630303907, 0.3265704893334298, 0.02968822630303907, 0.08906467890911722, 0.02968822630303907, 0.02968822630303907, 0.44532339454558606, 0.02968822630303907, 0.027280499227406677, 0.013640249613703338, 0.9002564745044203, 0.013640249613703338, 0.013640249613703338, 0.013640249613703338, 0.013640249613703338, 0.013640249613703338, 0.01805479075914586, 0.01805479075914586, 0.9027395379572929, 0.01805479075914586, 0.01805479075914586, 0.01805479075914586, 0.01805479075914586, 0.01805479075914586, 0.0009106880051774344, 0.9944713016537584, 0.0009106880051774344, 0.0009106880051774344, 0.0009106880051774344, 0.0009106880051774344, 0.0009106880051774344, 0.0009106880051774344, 0.6647160276997207, 0.3243300425008299, 0.0016055942698060886, 0.0016055942698060886, 0.0032111885396121772, 0.0016055942698060886, 0.0016055942698060886, 0.0016055942698060886, 0.8250754595082924, 0.002845087791407905, 0.002845087791407905, 0.002845087791407905, 0.15932491631884269, 0.002845087791407905, 0.002845087791407905, 0.002845087791407905, 0.006921296110958125, 0.006921296110958125, 0.9620601594231794, 0.006921296110958125, 0.006921296110958125, 0.006921296110958125, 0.006921296110958125, 0.006921296110958125, 0.0009074185747178802, 0.5235805176122168, 0.4709502402785798, 0.0009074185747178802, 0.0009074185747178802, 0.0009074185747178802, 0.0009074185747178802, 0.0009074185747178802, 0.023714053937440353, 0.023714053937440353, 0.8537059417478527, 0.023714053937440353, 0.023714053937440353, 0.023714053937440353, 0.023714053937440353, 0.023714053937440353, 0.014518316190510375, 0.014518316190510375, 0.20325642666714525, 0.7259158095255187, 0.014518316190510375, 0.014518316190510375, 0.014518316190510375, 0.014518316190510375, 0.023186024403692274, 0.023186024403692274, 0.11593012201846137, 0.765138805321845, 0.023186024403692274, 0.023186024403692274, 0.023186024403692274, 0.023186024403692274, 0.018042637639355576, 0.009021318819677788, 0.009021318819677788, 0.9382171572464899, 0.009021318819677788, 0.009021318819677788, 0.009021318819677788, 0.009021318819677788, 0.011154859492407486, 0.011154859492407486, 0.8254596024381539, 0.11154859492407486, 0.011154859492407486, 0.011154859492407486, 0.011154859492407486, 0.011154859492407486, 0.0033942576174514406, 0.0033942576174514406, 0.006788515234902881, 0.0033942576174514406, 0.9775461938260149, 0.0033942576174514406, 0.0033942576174514406, 0.0033942576174514406, 0.04666218471611993, 0.04666218471611993, 0.04666218471611993, 0.04666218471611993, 0.04666218471611993, 0.04666218471611993, 0.7465949554579189, 0.04666218471611993, 0.009200887677874631, 0.009200887677874631, 0.947691430821087, 0.009200887677874631, 0.009200887677874631, 0.009200887677874631, 0.009200887677874631, 0.009200887677874631, 0.005276360971138115, 0.36406890700852995, 0.005276360971138115, 0.6067815116808832, 0.005276360971138115, 0.005276360971138115, 0.005276360971138115, 0.005276360971138115, 0.0031593186636833734, 0.0031593186636833734, 0.0031593186636833734, 0.9288396871229118, 0.0031593186636833734, 0.05370841728261735, 0.0031593186636833734, 0.0031593186636833734, 0.019991324565688955, 0.019991324565688955, 0.019991324565688955, 0.8996096054560029, 0.019991324565688955, 0.019991324565688955, 0.019991324565688955, 0.019991324565688955, 0.10497247621309445, 0.10497247621309445, 0.10497247621309445, 0.10497247621309445, 0.10497247621309445, 0.10497247621309445, 0.10497247621309445, 0.4198899048523778, 0.9567532743385592, 0.009111935946081515, 0.009111935946081515, 0.009111935946081515, 0.009111935946081515, 0.009111935946081515, 0.009111935946081515, 0.009111935946081515, 0.0057636950563203036, 0.4668592995619446, 0.5014414698998664, 0.0057636950563203036, 0.0057636950563203036, 0.0057636950563203036, 0.0057636950563203036, 0.0057636950563203036, 0.032566874135852804, 0.032566874135852804, 0.7816049792604673, 0.032566874135852804, 0.032566874135852804, 0.032566874135852804, 0.032566874135852804, 0.032566874135852804, 0.01390500395382912, 0.01390500395382912, 0.01390500395382912, 0.01390500395382912, 0.01390500395382912, 0.01390500395382912, 0.917730260952722, 0.01390500395382912, 0.0025501506242932436, 0.8670512122597027, 0.0025501506242932436, 0.0025501506242932436, 0.1173069287174892, 0.0025501506242932436, 0.0025501506242932436, 0.0025501506242932436, 0.9210496543604278, 0.017056475080748663, 0.038377068931684494, 0.004264118770187166, 0.008528237540374331, 0.004264118770187166, 0.004264118770187166, 0.004264118770187166, 0.10627758525312145, 0.10627758525312145, 0.10627758525312145, 0.10627758525312145, 0.10627758525312145, 0.10627758525312145, 0.10627758525312145, 0.3188327557593644, 0.0064907197337177305, 0.9606265205902241, 0.0064907197337177305, 0.0064907197337177305, 0.0064907197337177305, 0.0064907197337177305, 0.0064907197337177305, 0.0064907197337177305, 0.5098614629885283, 0.38922757435987, 0.0973068935899675, 0.000666485572534024, 0.000666485572534024, 0.000666485572534024, 0.000666485572534024, 0.000666485572534024, 0.008634957458308376, 0.9066705331223796, 0.008634957458308376, 0.008634957458308376, 0.008634957458308376, 0.034539829833233504, 0.008634957458308376, 0.017269914916616752, 0.005544557440575738, 0.9647529946601784, 0.005544557440575738, 0.005544557440575738, 0.005544557440575738, 0.005544557440575738, 0.005544557440575738, 0.005544557440575738, 0.9473158600215541, 0.008028100508657238, 0.016056201017314475, 0.008028100508657238, 0.008028100508657238, 0.008028100508657238, 0.008028100508657238, 0.008028100508657238, 0.013357325588606122, 0.9216554656138224, 0.013357325588606122, 0.013357325588606122, 0.013357325588606122, 0.013357325588606122, 0.013357325588606122, 0.013357325588606122, 0.06861273657900917, 0.06861273657900917, 0.06861273657900917, 0.06861273657900917, 0.06861273657900917, 0.06861273657900917, 0.6175146292110826, 0.06861273657900917, 0.03895736850942846, 0.03895736850942846, 0.03895736850942846, 0.7401900016791406, 0.03895736850942846, 0.03895736850942846, 0.03895736850942846, 0.03895736850942846, 0.06700795330293224, 0.03350397665146612, 0.8040954396351869, 0.03350397665146612, 0.03350397665146612, 0.03350397665146612, 0.03350397665146612, 0.03350397665146612, 0.5248421255956245, 0.014184922313395257, 0.17021906776074308, 0.014184922313395257, 0.014184922313395257, 0.014184922313395257, 0.014184922313395257, 0.2553286016411146, 0.9907379882237184, 0.0015776082615027364, 0.0015776082615027364, 0.0015776082615027364, 0.0015776082615027364, 0.0015776082615027364, 0.0015776082615027364, 0.0015776082615027364, 0.0377323706430294, 0.0377323706430294, 0.0377323706430294, 0.754647412860588, 0.0377323706430294, 0.0377323706430294, 0.0377323706430294, 0.0377323706430294, 0.05005227357629971, 0.05005227357629971, 0.05005227357629971, 0.05005227357629971, 0.05005227357629971, 0.05005227357629971, 0.05005227357629971, 0.6506795564918962, 0.07885564113617911, 0.07885564113617911, 0.07885564113617911, 0.07885564113617911, 0.07885564113617911, 0.07885564113617911, 0.07885564113617911, 0.5519894879532538, 0.011161480341372106, 0.011161480341372106, 0.312521449558419, 0.011161480341372106, 0.6362043794582101, 0.011161480341372106, 0.011161480341372106, 0.011161480341372106, 0.0048101955922925255, 0.0048101955922925255, 0.0048101955922925255, 0.9716595096430901, 0.0048101955922925255, 0.0048101955922925255, 0.0048101955922925255, 0.0048101955922925255, 0.11971455358156083, 0.059857276790780414, 0.059857276790780414, 0.059857276790780414, 0.059857276790780414, 0.059857276790780414, 0.5985727679078041, 0.059857276790780414, 0.9064522462133052, 0.0007916613504046333, 0.08945773259572357, 0.0007916613504046333, 0.0007916613504046333, 0.0007916613504046333, 0.0007916613504046333, 0.0007916613504046333, 0.95432579934032, 0.006816612852430857, 0.006816612852430857, 0.006816612852430857, 0.006816612852430857, 0.006816612852430857, 0.006816612852430857, 0.006816612852430857, 0.019895208583891547, 0.019895208583891547, 0.019895208583891547, 0.019895208583891547, 0.019895208583891547, 0.8952843862751196, 0.019895208583891547, 0.019895208583891547, 0.02689538527068543, 0.02689538527068543, 0.02689538527068543, 0.02689538527068543, 0.8337569433912483, 0.02689538527068543, 0.02689538527068543, 0.02689538527068543, 0.047784689716170475, 0.047784689716170475, 0.047784689716170475, 0.047784689716170475, 0.047784689716170475, 0.047784689716170475, 0.047784689716170475, 0.7167703457425572, 0.0034087468699208327, 0.9885365922770415, 0.0017043734349604163, 0.0017043734349604163, 0.0017043734349604163, 0.0017043734349604163, 0.0017043734349604163, 0.0017043734349604163, 0.012656028382030176, 0.050624113528120705, 0.025312056764060353, 0.860609929978052, 0.012656028382030176, 0.012656028382030176, 0.012656028382030176, 0.012656028382030176, 0.9597287795695641, 0.007056829261540913, 0.007056829261540913, 0.007056829261540913, 0.007056829261540913, 0.007056829261540913, 0.007056829261540913, 0.007056829261540913, 0.4877265545505536, 0.19436627545207705, 0.1327968341598042, 0.178672104142282, 0.0012072439469073108, 0.0024144878938146216, 0.0012072439469073108, 0.0012072439469073108, 0.026716781466647986, 0.026716781466647986, 0.026716781466647986, 0.026716781466647986, 0.8282202254660875, 0.026716781466647986, 0.026716781466647986, 0.026716781466647986, 0.6920611180513941, 0.16760228699043034, 0.11106658731184019, 0.02806736863476106, 0.0004009624090680151, 0.0004009624090680151, 0.0004009624090680151, 0.0004009624090680151, 0.030194694592483612, 0.030194694592483612, 0.030194694592483612, 0.030194694592483612, 0.030194694592483612, 0.8454514485895411, 0.030194694592483612, 0.030194694592483612, 0.04307483373141561, 0.04307483373141561, 0.04307483373141561, 0.04307483373141561, 0.04307483373141561, 0.04307483373141561, 0.04307483373141561, 0.7322721734340654, 0.935740521202842, 0.02449582516237806, 0.004899165032475612, 0.004899165032475612, 0.004899165032475612, 0.01959666012990245, 0.004899165032475612, 0.004899165032475612, 0.06816777254023436, 0.06816777254023436, 0.27267109016093743, 0.06816777254023436, 0.06816777254023436, 0.06816777254023436, 0.06816777254023436, 0.3408388627011718, 0.036219709647849714, 0.018109854823924857, 0.018109854823924857, 0.018109854823924857, 0.8692730315483931, 0.018109854823924857, 0.018109854823924857, 0.018109854823924857, 0.1841159337541344, 0.4250335917515656, 0.3819426285325129, 0.001958680146320579, 0.003917360292641158, 0.001958680146320579, 0.001958680146320579, 0.001958680146320579, 0.026735330757900192, 0.026735330757900192, 0.026735330757900192, 0.053470661515800384, 0.026735330757900192, 0.026735330757900192, 0.8020599227370058, 0.026735330757900192, 0.0264686466475508, 0.0264686466475508, 0.0264686466475508, 0.0264686466475508, 0.0264686466475508, 0.8469966927216256, 0.0264686466475508, 0.0264686466475508, 0.01945254275638643, 0.01945254275638643, 0.01945254275638643, 0.01945254275638643, 0.8948169667937758, 0.01945254275638643, 0.01945254275638643, 0.01945254275638643, 0.021752055249757922, 0.021752055249757922, 0.021752055249757922, 0.021752055249757922, 0.021752055249757922, 0.8700822099903168, 0.021752055249757922, 0.021752055249757922, 0.007042836638388511, 0.007042836638388511, 0.007042836638388511, 0.007042836638388511, 0.007042836638388511, 0.9578257828208374, 0.007042836638388511, 0.007042836638388511, 0.02724773584518454, 0.02724773584518454, 0.02724773584518454, 0.02724773584518454, 0.02724773584518454, 0.8446798112007207, 0.02724773584518454, 0.02724773584518454, 0.025940163951708613, 0.025940163951708613, 0.025940163951708613, 0.025940163951708613, 0.025940163951708613, 0.8560254104063842, 0.025940163951708613, 0.025940163951708613, 0.2697176642931975, 0.6526204198522904, 0.06742941607329937, 0.004816386862378527, 0.0024081934311892634, 0.0024081934311892634, 0.0024081934311892634, 0.0024081934311892634, 0.012851724714998425, 0.012851724714998425, 0.012851724714998425, 0.012851724714998425, 0.012851724714998425, 0.012851724714998425, 0.9253241794798865, 0.012851724714998425, 0.022404674502842233, 0.022404674502842233, 0.022404674502842233, 0.022404674502842233, 0.022404674502842233, 0.022404674502842233, 0.8513776311080048, 0.022404674502842233, 0.319277071447471, 0.014512594156703225, 0.014512594156703225, 0.014512594156703225, 0.6095289545815354, 0.014512594156703225, 0.014512594156703225, 0.014512594156703225, 0.03932170499679459, 0.03932170499679459, 0.03932170499679459, 0.03932170499679459, 0.03932170499679459, 0.03932170499679459, 0.7471123949390972, 0.03932170499679459, 0.006224566708692799, 0.006224566708692799, 0.006224566708692799, 0.9585832731386911, 0.006224566708692799, 0.006224566708692799, 0.006224566708692799, 0.006224566708692799, 0.04876552067775328, 0.04876552067775328, 0.04876552067775328, 0.04876552067775328, 0.04876552067775328, 0.04876552067775328, 0.6827172894885458, 0.04876552067775328, 0.9906187751428563, 0.0017689620984693863, 0.0017689620984693863, 0.0017689620984693863, 0.0017689620984693863, 0.0017689620984693863, 0.0017689620984693863, 0.0017689620984693863, 0.010557559645028794, 0.010557559645028794, 0.010557559645028794, 0.010557559645028794, 0.9396228084075626, 0.010557559645028794, 0.010557559645028794, 0.010557559645028794, 0.5524288274854594, 0.0061380980831717705, 0.0061380980831717705, 0.41739066965568045, 0.0061380980831717705, 0.0061380980831717705, 0.0061380980831717705, 0.0061380980831717705, 0.995292308078844, 0.0007987899743810946, 0.0007987899743810946, 0.0007987899743810946, 0.0007987899743810946, 0.0007987899743810946, 0.0007987899743810946, 0.0007987899743810946, 0.9644106776473506, 0.004248505187873791, 0.004248505187873791, 0.012745515563621372, 0.004248505187873791, 0.004248505187873791, 0.004248505187873791, 0.004248505187873791, 0.024127638716959703, 0.024127638716959703, 0.024127638716959703, 0.024127638716959703, 0.024127638716959703, 0.8685949938105493, 0.024127638716959703, 0.024127638716959703, 0.05917143433045663, 0.05917143433045663, 0.05917143433045663, 0.05917143433045663, 0.05917143433045663, 0.23668573732182652, 0.05917143433045663, 0.4142000403131964, 0.0003646195136391773, 0.9975989893167891, 0.0003646195136391773, 0.0003646195136391773, 0.0003646195136391773, 0.0003646195136391773, 0.0003646195136391773, 0.0003646195136391773, 0.010881780512388018, 0.010881780512388018, 0.010881780512388018, 0.010881780512388018, 0.010881780512388018, 0.9358331240653696, 0.010881780512388018, 0.010881780512388018, 0.015036566456506441, 0.015036566456506441, 0.015036566456506441, 0.015036566456506441, 0.015036566456506441, 0.9172305538468929, 0.015036566456506441, 0.015036566456506441, 0.05439406109358294, 0.05439406109358294, 0.05439406109358294, 0.05439406109358294, 0.05439406109358294, 0.05439406109358294, 0.05439406109358294, 0.6527287331229953, 0.03728754298103391, 0.03728754298103391, 0.03728754298103391, 0.7084633166396442, 0.03728754298103391, 0.07457508596206781, 0.03728754298103391, 0.03728754298103391, 0.08414792631073173, 0.08414792631073173, 0.08414792631073173, 0.08414792631073173, 0.08414792631073173, 0.08414792631073173, 0.08414792631073173, 0.5048875578643903, 0.37604602581984176, 0.0208914458788801, 0.0208914458788801, 0.1671315670310408, 0.0208914458788801, 0.0208914458788801, 0.35515457994096167, 0.0208914458788801, 0.01082132985225715, 0.01082132985225715, 0.01082132985225715, 0.01082132985225715, 0.9306343672941149, 0.01082132985225715, 0.01082132985225715, 0.01082132985225715, 0.007999594964247477, 0.007999594964247477, 0.007999594964247477, 0.007999594964247477, 0.9519518007454498, 0.007999594964247477, 0.007999594964247477, 0.007999594964247477, 0.020060530772803356, 0.020060530772803356, 0.8826633540033477, 0.020060530772803356, 0.020060530772803356, 0.020060530772803356, 0.020060530772803356, 0.020060530772803356, 0.01209473886487324, 0.01209473886487324, 0.01209473886487324, 0.01209473886487324, 0.01209473886487324, 0.9312948925952395, 0.01209473886487324, 0.01209473886487324, 0.020271253434878515, 0.020271253434878515, 0.020271253434878515, 0.020271253434878515, 0.8716638976997761, 0.020271253434878515, 0.020271253434878515, 0.020271253434878515, 0.05267979743073406, 0.05267979743073406, 0.05267979743073406, 0.05267979743073406, 0.05267979743073406, 0.05267979743073406, 0.05267979743073406, 0.6848373665995428, 0.023000262864899118, 0.023000262864899118, 0.023000262864899118, 0.023000262864899118, 0.023000262864899118, 0.023000262864899118, 0.8740099888661664, 0.023000262864899118, 0.012669945345718593, 0.05067978138287437, 0.006334972672859296, 0.006334972672859296, 0.9122360648917387, 0.006334972672859296, 0.006334972672859296, 0.006334972672859296, 0.02713201308893528, 0.1356600654446764, 0.7732623730346555, 0.01356600654446764, 0.01356600654446764, 0.01356600654446764, 0.02713201308893528, 0.01356600654446764, 0.0005076599949848049, 0.8878973312284236, 0.0005076599949848049, 0.0005076599949848049, 0.0010153199899696097, 0.0005076599949848049, 0.0005076599949848049, 0.10863923892674823, 0.03355330100558787, 0.03355330100558787, 0.03355330100558787, 0.03355330100558787, 0.03355330100558787, 0.8052792241341089, 0.03355330100558787, 0.03355330100558787, 0.0014718819627467523, 0.9258137545677071, 0.0007359409813733761, 0.06917845224909736, 0.0007359409813733761, 0.0014718819627467523, 0.0007359409813733761, 0.0007359409813733761, 0.9575638255509868, 0.007480967387117085, 0.007480967387117085, 0.007480967387117085, 0.007480967387117085, 0.007480967387117085, 0.007480967387117085, 0.007480967387117085, 0.007294313501192594, 0.5106019450834816, 0.45224743707394083, 0.007294313501192594, 0.007294313501192594, 0.007294313501192594, 0.007294313501192594, 0.007294313501192594, 0.022925090769186144, 0.022925090769186144, 0.022925090769186144, 0.022925090769186144, 0.022925090769186144, 0.8711534492290735, 0.022925090769186144, 0.022925090769186144, 0.01894465181567564, 0.01894465181567564, 0.01894465181567564, 0.8714539835210795, 0.01894465181567564, 0.01894465181567564, 0.01894465181567564, 0.01894465181567564, 0.05813267576193567, 0.05813267576193567, 0.05813267576193567, 0.05813267576193567, 0.05813267576193567, 0.05813267576193567, 0.05813267576193567, 0.6394594333812924, 0.9961069365608104, 0.0014534634288338674, 0.0004844878096112891, 0.0004844878096112891, 0.0004844878096112891, 0.0004844878096112891, 0.0004844878096112891, 0.0004844878096112891, 0.027181748884779814, 0.027181748884779814, 0.027181748884779814, 0.027181748884779814, 0.027181748884779814, 0.8426342154281742, 0.027181748884779814, 0.027181748884779814, 0.039052278929264654, 0.039052278929264654, 0.039052278929264654, 0.039052278929264654, 0.039052278929264654, 0.7810455785852931, 0.039052278929264654, 0.039052278929264654, 0.011870604998267389, 0.011870604998267389, 0.011870604998267389, 0.011870604998267389, 0.011870604998267389, 0.9377777948631237, 0.011870604998267389, 0.011870604998267389, 0.02640533680203613, 0.02640533680203613, 0.02640533680203613, 0.8449707776651562, 0.02640533680203613, 0.02640533680203613, 0.02640533680203613, 0.02640533680203613, 0.004502681506130065, 0.9680765238179638, 0.00900536301226013, 0.004502681506130065, 0.004502681506130065, 0.004502681506130065, 0.004502681506130065, 0.004502681506130065, 0.015749221352432966, 0.015749221352432966, 0.015749221352432966, 0.015749221352432966, 0.913454838441112, 0.015749221352432966, 0.015749221352432966, 0.015749221352432966, 0.02621335877754235, 0.02621335877754235, 0.02621335877754235, 0.02621335877754235, 0.8650408396588976, 0.02621335877754235, 0.02621335877754235, 0.02621335877754235, 0.00036459516843534364, 0.2541228323994345, 0.25229985655725784, 0.492203477387714, 0.00036459516843534364, 0.00036459516843534364, 0.00036459516843534364, 0.00036459516843534364, 0.238320587389399, 0.33279000941762926, 0.388612849707038, 0.03220548478235122, 0.0021470323188234144, 0.0021470323188234144, 0.0021470323188234144, 0.0021470323188234144, 0.0016527725134605814, 0.9900107355628883, 0.0016527725134605814, 0.0016527725134605814, 0.0016527725134605814, 0.0016527725134605814, 0.0016527725134605814, 0.0016527725134605814, 0.16498403651022311, 0.007499274386828324, 0.6374383228804075, 0.14998548773656648, 0.014998548773656648, 0.007499274386828324, 0.007499274386828324, 0.007499274386828324, 0.0042819076311790254, 0.0042819076311790254, 0.0042819076311790254, 0.0042819076311790254, 0.0042819076311790254, 0.0042819076311790254, 0.9719930322776388, 0.0042819076311790254, 0.022328950777072417, 0.022328950777072417, 0.022328950777072417, 0.022328950777072417, 0.022328950777072417, 0.022328950777072417, 0.8708290803058243, 0.022328950777072417, 0.030879556995136025, 0.030879556995136025, 0.030879556995136025, 0.8028684818735367, 0.030879556995136025, 0.030879556995136025, 0.030879556995136025, 0.030879556995136025, 0.025190816889830735, 0.025190816889830735, 0.025190816889830735, 0.8312969573644142, 0.025190816889830735, 0.025190816889830735, 0.025190816889830735, 0.025190816889830735, 0.011972740627300044, 0.08380918439110031, 0.8740100657929032, 0.005986370313650022, 0.011972740627300044, 0.005986370313650022, 0.005986370313650022, 0.005986370313650022, 0.024922682220541986, 0.024922682220541986, 0.024922682220541986, 0.024922682220541986, 0.8473711954984274, 0.024922682220541986, 0.024922682220541986, 0.024922682220541986, 0.002494613405376341, 0.9778884549075257, 0.004989226810752682, 0.002494613405376341, 0.004989226810752682, 0.002494613405376341, 0.002494613405376341, 0.002494613405376341, 0.05567258665786577, 0.05567258665786577, 0.05567258665786577, 0.05567258665786577, 0.05567258665786577, 0.05567258665786577, 0.05567258665786577, 0.6123984532365235, 0.00552508855166706, 0.00552508855166706, 0.00552508855166706, 0.00552508855166706, 0.9613654079900684, 0.00552508855166706, 0.00552508855166706, 0.00552508855166706, 0.023461460837757558, 0.023461460837757558, 0.023461460837757558, 0.023461460837757558, 0.8680740509970296, 0.023461460837757558, 0.023461460837757558, 0.023461460837757558, 0.8156929943834544, 0.10438055571549595, 0.0011728152327583816, 0.0005864076163791908, 0.07740580536205319, 0.0005864076163791908, 0.0005864076163791908, 0.0005864076163791908, 0.001933375707689338, 0.9937551137523198, 0.000966687853844669, 0.000966687853844669, 0.000966687853844669, 0.000966687853844669, 0.000966687853844669, 0.000966687853844669, 0.004101448656427274, 0.004101448656427274, 0.004101448656427274, 0.004101448656427274, 0.9761447802296913, 0.004101448656427274, 0.004101448656427274, 0.004101448656427274, 0.008924653628905481, 0.008924653628905481, 0.008924653628905481, 0.008924653628905481, 0.008924653628905481, 0.9549379382928865, 0.008924653628905481, 0.008924653628905481, 0.023841451608379232, 0.023841451608379232, 0.023841451608379232, 0.023841451608379232, 0.023841451608379232, 0.023841451608379232, 0.023841451608379232, 0.8344508062932731, 0.08625966257309116, 0.17251932514618232, 0.08625966257309116, 0.08625966257309116, 0.08625966257309116, 0.08625966257309116, 0.08625966257309116, 0.34503865029236463, 0.005456005974001461, 0.005456005974001461, 0.9657130573982586, 0.005456005974001461, 0.005456005974001461, 0.005456005974001461, 0.005456005974001461, 0.005456005974001461, 0.08798385001603241, 0.04399192500801621, 0.04399192500801621, 0.7038708001282593, 0.04399192500801621, 0.04399192500801621, 0.04399192500801621, 0.04399192500801621, 0.16657513906175228, 0.39847386206928975, 0.029395612775603343, 0.3952076828720005, 0.00326617919728926, 0.00326617919728926, 0.00326617919728926, 0.00326617919728926, 0.06699604669189618, 0.06699604669189618, 0.06699604669189618, 0.06699604669189618, 0.06699604669189618, 0.06699604669189618, 0.6029644202270656, 0.06699604669189618, 0.9595938768442421, 0.006313117610817382, 0.006313117610817382, 0.006313117610817382, 0.006313117610817382, 0.006313117610817382, 0.006313117610817382, 0.006313117610817382, 0.0059357499531066974, 0.05342174957796028, 0.0059357499531066974, 0.0059357499531066974, 0.9141054927784314, 0.0059357499531066974, 0.0059357499531066974, 0.0059357499531066974, 0.12821929970175536, 0.06410964985087768, 0.06410964985087768, 0.06410964985087768, 0.06410964985087768, 0.06410964985087768, 0.5128771988070214, 0.06410964985087768, 0.006332583063939306, 0.9562200426548353, 0.006332583063939306, 0.006332583063939306, 0.006332583063939306, 0.006332583063939306, 0.006332583063939306, 0.006332583063939306, 0.9893137470345368, 0.0016008313058811275, 0.0016008313058811275, 0.0016008313058811275, 0.0016008313058811275, 0.0016008313058811275, 0.0016008313058811275, 0.0016008313058811275, 0.01600198863107609, 0.01600198863107609, 0.01600198863107609, 0.9121133519713371, 0.01600198863107609, 0.01600198863107609, 0.01600198863107609, 0.01600198863107609, 0.395318656685707, 0.45103864538769833, 0.06451788165493734, 0.05220083152081294, 0.03577809800864707, 0.0005865261968630667, 0.0005865261968630667, 0.0005865261968630667, 0.9827810024251016, 0.002907636101849413, 0.002907636101849413, 0.002907636101849413, 0.002907636101849413, 0.002907636101849413, 0.002907636101849413, 0.002907636101849413, 0.17440790021892463, 0.8013335956004645, 0.004713727032943909, 0.004713727032943909, 0.004713727032943909, 0.004713727032943909, 0.004713727032943909, 0.004713727032943909, 0.9867503445050747, 0.008268857635517386, 0.0009187619595019317, 0.0009187619595019317, 0.0009187619595019317, 0.0009187619595019317, 0.0009187619595019317, 0.0009187619595019317, 0.0005658251898576479, 0.9958523341494603, 0.0011316503797152958, 0.0005658251898576479, 0.0005658251898576479, 0.0005658251898576479, 0.0005658251898576479, 0.0005658251898576479, 0.0028799971359499974, 0.0028799971359499974, 0.9820790233589491, 0.0028799971359499974, 0.0028799971359499974, 0.0028799971359499974, 0.0028799971359499974, 0.0028799971359499974, 0.022549533753068507, 0.022549533753068507, 0.8568822826166033, 0.022549533753068507, 0.022549533753068507, 0.022549533753068507, 0.022549533753068507, 0.022549533753068507, 0.004002924636168883, 0.38428076507221276, 0.0020014623180844415, 0.6024401577434169, 0.0020014623180844415, 0.0020014623180844415, 0.0020014623180844415, 0.0020014623180844415, 0.10566087499885345, 0.10566087499885345, 0.10566087499885345, 0.10566087499885345, 0.10566087499885345, 0.10566087499885345, 0.10566087499885345, 0.4226434999954138, 0.06132681767355697, 0.06132681767355697, 0.06132681767355697, 0.06132681767355697, 0.06132681767355697, 0.06132681767355697, 0.06132681767355697, 0.6132681767355697, 0.018855340858166147, 0.018855340858166147, 0.018855340858166147, 0.018855340858166147, 0.018855340858166147, 0.8862010203338089, 0.018855340858166147, 0.018855340858166147, 0.03772092043229495, 0.5280928860521293, 0.03772092043229495, 0.0754418408645899, 0.03772092043229495, 0.03772092043229495, 0.03772092043229495, 0.2263255225937697, 0.010051227719356232, 0.010051227719356232, 0.010051227719356232, 0.010051227719356232, 0.010051227719356232, 0.9347641779001296, 0.010051227719356232, 0.010051227719356232, 0.06118228451317323, 0.06118228451317323, 0.06118228451317323, 0.06118228451317323, 0.06118228451317323, 0.06118228451317323, 0.6730051296449056, 0.06118228451317323, 0.1034412448728407, 0.1034412448728407, 0.1034412448728407, 0.1034412448728407, 0.1034412448728407, 0.1034412448728407, 0.1034412448728407, 0.4137649794913628, 0.047389249333823845, 0.047389249333823845, 0.047389249333823845, 0.047389249333823845, 0.047389249333823845, 0.047389249333823845, 0.047389249333823845, 0.7108387400073577, 0.02848900519598176, 0.02848900519598176, 0.8261811506834711, 0.02848900519598176, 0.02848900519598176, 0.02848900519598176, 0.02848900519598176, 0.02848900519598176, 0.01919631868218449, 0.01919631868218449, 0.01919631868218449, 0.8830306593804864, 0.01919631868218449, 0.01919631868218449, 0.01919631868218449, 0.01919631868218449, 0.008931605177446992, 0.008931605177446992, 0.008931605177446992, 0.008931605177446992, 0.9467501488093812, 0.008931605177446992, 0.008931605177446992, 0.008931605177446992, 0.00844309653444813, 0.03377238613779252, 0.9287406187892944, 0.00844309653444813, 0.00844309653444813, 0.00844309653444813, 0.00844309653444813, 0.00844309653444813, 0.026569097288459253, 0.07970729186537776, 0.026569097288459253, 0.026569097288459253, 0.053138194576918506, 0.7439347240768591, 0.026569097288459253, 0.026569097288459253, 0.10304221956417074, 0.10304221956417074, 0.10304221956417074, 0.10304221956417074, 0.10304221956417074, 0.10304221956417074, 0.10304221956417074, 0.41216887825668297, 0.00985474421475889, 0.02956423264427667, 0.00985474421475889, 0.9066364677578179, 0.00985474421475889, 0.00985474421475889, 0.00985474421475889, 0.00985474421475889, 0.012653931958451105, 0.9110831010084796, 0.02530786391690221, 0.012653931958451105, 0.012653931958451105, 0.012653931958451105, 0.012653931958451105, 0.012653931958451105, 0.005057811019064257, 0.9053481724125019, 0.07080935426689959, 0.005057811019064257, 0.005057811019064257, 0.005057811019064257, 0.005057811019064257, 0.005057811019064257, 0.5048495858720508, 0.007649236149576527, 0.007649236149576527, 0.4513049328250151, 0.007649236149576527, 0.007649236149576527, 0.007649236149576527, 0.007649236149576527, 0.04942415963006328, 0.04942415963006328, 0.04942415963006328, 0.04942415963006328, 0.04942415963006328, 0.04942415963006328, 0.6919382348208859, 0.04942415963006328, 0.007096077781255288, 0.007096077781255288, 0.007096077781255288, 0.9508744226882085, 0.007096077781255288, 0.007096077781255288, 0.007096077781255288, 0.007096077781255288, 0.012036811133387063, 0.012036811133387063, 0.012036811133387063, 0.012036811133387063, 0.012036811133387063, 0.9268344572708039, 0.012036811133387063, 0.012036811133387063, 0.04248994059888795, 0.04248994059888795, 0.04248994059888795, 0.04248994059888795, 0.04248994059888795, 0.7648189307799831, 0.04248994059888795, 0.04248994059888795, 0.01925643124621919, 0.01925643124621919, 0.01925643124621919, 0.8665394060798636, 0.01925643124621919, 0.03851286249243838, 0.01925643124621919, 0.01925643124621919, 0.007547490038053909, 0.007547490038053909, 0.007547490038053909, 0.007547490038053909, 0.9585312348328465, 0.007547490038053909, 0.007547490038053909, 0.007547490038053909, 0.07011344877629522, 0.07011344877629522, 0.07011344877629522, 0.07011344877629522, 0.07011344877629522, 0.07011344877629522, 0.631021038986657, 0.07011344877629522, 0.023812319639480488, 0.047624639278960976, 0.023812319639480488, 0.023812319639480488, 0.023812319639480488, 0.023812319639480488, 0.023812319639480488, 0.8334311873818171, 0.059449638986709956, 0.23779855594683982, 0.059449638986709956, 0.059449638986709956, 0.059449638986709956, 0.059449638986709956, 0.059449638986709956, 0.3566978339202597, 0.95506020877666, 0.010381089225833261, 0.010381089225833261, 0.005190544612916631, 0.005190544612916631, 0.005190544612916631, 0.005190544612916631, 0.005190544612916631, 0.37649196908113824, 0.37199206506821625, 0.0014999680043073236, 0.24449478470209374, 0.0014999680043073236, 0.0014999680043073236, 0.0014999680043073236, 0.0014999680043073236, 0.009064476774712761, 0.9336411077954144, 0.009064476774712761, 0.009064476774712761, 0.009064476774712761, 0.018128953549425522, 0.009064476774712761, 0.009064476774712761, 0.0010942117285026877, 0.7593829395808652, 0.0010942117285026877, 0.0010942117285026877, 0.0010942117285026877, 0.0010942117285026877, 0.0010942117285026877, 0.23416130989957518, 0.0006831918321684866, 0.9947273076373164, 0.0006831918321684866, 0.0006831918321684866, 0.0006831918321684866, 0.0006831918321684866, 0.0006831918321684866, 0.0006831918321684866, 0.49215866070286296, 0.0008299471512695834, 0.0008299471512695834, 0.5029479736693675, 0.0008299471512695834, 0.0008299471512695834, 0.0008299471512695834, 0.0008299471512695834, 0.5346215056885298, 0.36859646778916216, 0.006265095769787459, 0.08457879289213069, 0.0020883652565958197, 0.0010441826282979098, 0.0010441826282979098, 0.0010441826282979098, 0.0075350014190637615, 0.0075350014190637615, 0.0075350014190637615, 0.0075350014190637615, 0.9494101788020339, 0.0075350014190637615, 0.0075350014190637615, 0.0075350014190637615, 0.9683103185821159, 0.005262556079250629, 0.005262556079250629, 0.005262556079250629, 0.005262556079250629, 0.005262556079250629, 0.005262556079250629, 0.005262556079250629, 0.017424785038681233, 0.017424785038681233, 0.017424785038681233, 0.017424785038681233, 0.888664036972743, 0.017424785038681233, 0.017424785038681233, 0.017424785038681233, 0.009407044696188594, 0.9312974249226708, 0.01881408939237719, 0.009407044696188594, 0.009407044696188594, 0.009407044696188594, 0.009407044696188594, 0.009407044696188594, 0.006461455612590401, 0.9627568862759697, 0.006461455612590401, 0.006461455612590401, 0.006461455612590401, 0.006461455612590401, 0.006461455612590401, 0.006461455612590401, 0.0031036950665161165, 0.0031036950665161165, 0.0031036950665161165, 0.0031036950665161165, 0.9807676410190929, 0.0031036950665161165, 0.0031036950665161165, 0.0031036950665161165, 0.06123834010731269, 0.06123834010731269, 0.06123834010731269, 0.06123834010731269, 0.12247668021462538, 0.06123834010731269, 0.5511450609658142, 0.06123834010731269, 0.026518203238283106, 0.026518203238283106, 0.026518203238283106, 0.026518203238283106, 0.4242912518125297, 0.026518203238283106, 0.4242912518125297, 0.026518203238283106, 0.9652517405738906, 0.008855520555723768, 0.008855520555723768, 0.004427760277861884, 0.004427760277861884, 0.004427760277861884, 0.004427760277861884, 0.004427760277861884, 0.012126539546106496, 0.012126539546106496, 0.6548331354897508, 0.29103694910655586, 0.012126539546106496, 0.012126539546106496, 0.012126539546106496, 0.012126539546106496, 0.019147325030261293, 0.019147325030261293, 0.8807769513920195, 0.019147325030261293, 0.019147325030261293, 0.019147325030261293, 0.019147325030261293, 0.019147325030261293, 0.9978417351846165, 0.00031507475061086723, 0.00031507475061086723, 0.00031507475061086723, 0.00031507475061086723, 0.00031507475061086723, 0.00031507475061086723, 0.00031507475061086723, 0.01639132080806366, 0.01639132080806366, 0.01639132080806366, 0.9015226444435013, 0.01639132080806366, 0.01639132080806366, 0.01639132080806366, 0.01639132080806366, 0.023712481856936304, 0.023712481856936304, 0.023712481856936304, 0.023712481856936304, 0.023712481856936304, 0.8299368649927706, 0.023712481856936304, 0.023712481856936304, 0.0015645227381062045, 0.9903428932212275, 0.0015645227381062045, 0.0015645227381062045, 0.0015645227381062045, 0.0015645227381062045, 0.0015645227381062045, 0.0015645227381062045, 0.22158866482272932, 0.4374955690089784, 0.011363521272960479, 0.011363521272960479, 0.3068150743699329, 0.005681760636480239, 0.005681760636480239, 0.005681760636480239, 0.027437328187865925, 0.9328691583874414, 0.009145776062621975, 0.009145776062621975, 0.009145776062621975, 0.009145776062621975, 0.009145776062621975, 0.009145776062621975, 0.45643052385585625, 0.4919965387017671, 0.044457518557388595, 0.0014819172852462866, 0.0014819172852462866, 0.0014819172852462866, 0.0014819172852462866, 0.0014819172852462866, 0.015355659483620894, 0.030711318967241788, 0.015355659483620894, 0.8292056121155282, 0.061422637934483576, 0.015355659483620894, 0.015355659483620894, 0.015355659483620894, 0.93669515044016, 0.010181469026523478, 0.010181469026523478, 0.010181469026523478, 0.010181469026523478, 0.010181469026523478, 0.010181469026523478, 0.010181469026523478, 0.9787938959779461, 0.003434364547291039, 0.003434364547291039, 0.003434364547291039, 0.003434364547291039, 0.003434364547291039, 0.003434364547291039, 0.003434364547291039, 0.9798045974455317, 0.00310064746027067, 0.00310064746027067, 0.00310064746027067, 0.00310064746027067, 0.00310064746027067, 0.00310064746027067, 0.00310064746027067, 0.7247117152079771, 0.23106750339964485, 0.008402454669077995, 0.027307977674503485, 0.004201227334538997, 0.0021006136672694986, 0.0021006136672694986, 0.0021006136672694986, 0.023907668661257337, 0.023907668661257337, 0.023907668661257337, 0.023907668661257337, 0.023907668661257337, 0.023907668661257337, 0.023907668661257337, 0.8606760718052641, 0.004853244164650681, 0.40281926566600645, 0.5678295672641296, 0.004853244164650681, 0.004853244164650681, 0.004853244164650681, 0.004853244164650681, 0.004853244164650681, 0.20054721921172505, 0.7978945038445079, 0.00042943730023923995, 0.00042943730023923995, 0.00021471865011961998, 0.00021471865011961998, 0.00021471865011961998, 0.00021471865011961998, 0.0011472505942560095, 0.9923717640314481, 0.0011472505942560095, 0.0011472505942560095, 0.0011472505942560095, 0.0011472505942560095, 0.0011472505942560095, 0.0011472505942560095, 0.013370159942427975, 0.013370159942427975, 0.013370159942427975, 0.013370159942427975, 0.9225410360275303, 0.013370159942427975, 0.013370159942427975, 0.013370159942427975, 0.31449020924828486, 0.5719156627861954, 0.0012681056824527615, 0.10778898300848473, 0.0012681056824527615, 0.0012681056824527615, 0.0012681056824527615, 0.0012681056824527615, 0.9614937419510545, 0.013934691912334124, 0.004644897304111374, 0.004644897304111374, 0.004644897304111374, 0.004644897304111374, 0.004644897304111374, 0.004644897304111374, 0.7603920192561321, 0.236543147077613, 0.0005233255466318872, 0.0005233255466318872, 0.0005233255466318872, 0.0005233255466318872, 0.0005233255466318872, 0.0005233255466318872, 0.003842068626562157, 0.003842068626562157, 0.007684137253124314, 0.9720433625202256, 0.003842068626562157, 0.003842068626562157, 0.003842068626562157, 0.003842068626562157, 0.012308404305303628, 0.012308404305303628, 0.9231303228977721, 0.012308404305303628, 0.012308404305303628, 0.012308404305303628, 0.012308404305303628, 0.012308404305303628, 0.2789053032030079, 0.06972632580075197, 0.06972632580075197, 0.06972632580075197, 0.13945265160150394, 0.06972632580075197, 0.06972632580075197, 0.3486316290037598, 0.024647252717849573, 0.024647252717849573, 0.024647252717849573, 0.024647252717849573, 0.862653845124735, 0.024647252717849573, 0.024647252717849573, 0.024647252717849573, 0.06812021383667495, 0.06812021383667495, 0.06812021383667495, 0.06812021383667495, 0.06812021383667495, 0.06812021383667495, 0.6130819245300746, 0.06812021383667495, 0.05281640845838256, 0.05281640845838256, 0.05281640845838256, 0.05281640845838256, 0.05281640845838256, 0.05281640845838256, 0.6866133099589733, 0.05281640845838256, 0.9579968975349308, 0.006794304237836389, 0.006794304237836389, 0.006794304237836389, 0.006794304237836389, 0.006794304237836389, 0.006794304237836389, 0.006794304237836389, 0.08757183109242007, 0.08757183109242007, 0.08757183109242007, 0.08757183109242007, 0.08757183109242007, 0.08757183109242007, 0.08757183109242007, 0.5254309865545204, 0.020517249389779155, 0.020517249389779155, 0.8822417237605037, 0.020517249389779155, 0.020517249389779155, 0.020517249389779155, 0.020517249389779155, 0.020517249389779155, 0.879329982177129, 0.002505213624436265, 0.002505213624436265, 0.002505213624436265, 0.10772418585075938, 0.002505213624436265, 0.002505213624436265, 0.002505213624436265, 0.07879854774236349, 0.07879854774236349, 0.07879854774236349, 0.07879854774236349, 0.07879854774236349, 0.07879854774236349, 0.5515898341965444, 0.07879854774236349, 0.07433562765059422, 0.07433562765059422, 0.07433562765059422, 0.07433562765059422, 0.07433562765059422, 0.07433562765059422, 0.14867125530118844, 0.3716781382529711, 0.9852664815400213, 0.0022341643572336084, 0.0022341643572336084, 0.0022341643572336084, 0.0022341643572336084, 0.0022341643572336084, 0.0022341643572336084, 0.0022341643572336084, 0.9654772298017242, 0.005393727540791755, 0.005393727540791755, 0.005393727540791755, 0.005393727540791755, 0.005393727540791755, 0.005393727540791755, 0.005393727540791755, 0.07430336901682938, 0.07430336901682938, 0.07430336901682938, 0.07430336901682938, 0.07430336901682938, 0.07430336901682938, 0.594426952134635, 0.07430336901682938, 0.011802403034496922, 0.011802403034496922, 0.9323898397252569, 0.011802403034496922, 0.011802403034496922, 0.011802403034496922, 0.011802403034496922, 0.011802403034496922, 0.9754774283724446, 0.0036128793643423873, 0.0036128793643423873, 0.0036128793643423873, 0.0072257587286847745, 0.0036128793643423873, 0.0036128793643423873, 0.0036128793643423873, 0.9602745383596726, 0.006195319602320468, 0.006195319602320468, 0.006195319602320468, 0.012390639204640936, 0.006195319602320468, 0.006195319602320468, 0.006195319602320468, 0.006276121620413009, 0.006276121620413009, 0.018828364861239028, 0.9539704863027775, 0.006276121620413009, 0.006276121620413009, 0.006276121620413009, 0.006276121620413009, 0.005207536205107127, 0.36452753435749885, 0.005207536205107127, 0.6092817359975339, 0.005207536205107127, 0.005207536205107127, 0.005207536205107127, 0.005207536205107127, 0.021392203437080103, 0.021392203437080103, 0.021392203437080103, 0.021392203437080103, 0.021392203437080103, 0.8770803409202842, 0.021392203437080103, 0.021392203437080103, 0.055513902888442934, 0.055513902888442934, 0.055513902888442934, 0.055513902888442934, 0.055513902888442934, 0.055513902888442934, 0.6661668346613152, 0.055513902888442934, 0.04945280317894184, 0.5614347655021044, 0.37816849489779053, 0.0029089884222906963, 0.0029089884222906963, 0.0029089884222906963, 0.0029089884222906963, 0.0029089884222906963, 0.05620119822803415, 0.05620119822803415, 0.05620119822803415, 0.05620119822803415, 0.05620119822803415, 0.05620119822803415, 0.05620119822803415, 0.6744143787364097, 0.0035267369583244974, 0.0035267369583244974, 0.9804328744142103, 0.0035267369583244974, 0.0035267369583244974, 0.0035267369583244974, 0.0035267369583244974, 0.0035267369583244974, 0.029319197712226013, 0.029319197712226013, 0.7916183382301023, 0.08795759313667803, 0.029319197712226013, 0.029319197712226013, 0.029319197712226013, 0.029319197712226013, 0.6265246865596095, 0.3633197280307014, 0.0016147543468031172, 0.0016147543468031172, 0.0032295086936062344, 0.0016147543468031172, 0.0016147543468031172, 0.0016147543468031172, 0.020167662234693972, 0.040335324469387944, 0.8470418138571467, 0.020167662234693972, 0.020167662234693972, 0.020167662234693972, 0.020167662234693972, 0.020167662234693972, 0.7835655980327216, 0.1400288331085092, 0.0655454112422809, 0.0029793368746491317, 0.0029793368746491317, 0.0029793368746491317, 0.0029793368746491317, 0.0029793368746491317], \"Term\": [\"access\", \"access\", \"access\", \"access\", \"access\", \"access\", \"access\", \"access\", \"account\", \"account\", \"account\", \"account\", \"account\", \"account\", \"account\", \"account\", \"activate\", \"activate\", \"activate\", \"activate\", \"activate\", \"activate\", \"activate\", \"activate\", \"activation\", \"activation\", \"activation\", \"activation\", \"activation\", \"activation\", \"activation\", \"activation\", \"address\", \"address\", \"address\", \"address\", \"address\", \"address\", \"address\", \"address\", \"advertisement\", \"advertisement\", \"advertisement\", \"advertisement\", \"advertisement\", \"advertisement\", \"advertisement\", \"advertisement\", \"agar\", \"agar\", \"agar\", \"agar\", \"agar\", \"agar\", \"agar\", \"agar\", \"alert\", \"alert\", \"alert\", \"alert\", \"alert\", \"alert\", \"alert\", \"alert\", \"amount\", \"amount\", \"amount\", \"amount\", \"amount\", \"amount\", \"amount\", \"amount\", \"analysis\", \"analysis\", \"analysis\", \"analysis\", \"analysis\", \"analysis\", \"analysis\", \"analysis\", \"application\", \"application\", \"application\", \"application\", \"application\", \"application\", \"application\", \"application\", \"area\", \"area\", \"area\", \"area\", \"area\", \"area\", \"area\", \"area\", \"asap\", \"asap\", \"asap\", \"asap\", \"asap\", \"asap\", \"asap\", \"asap\", \"authentication\", \"authentication\", \"authentication\", \"authentication\", \"authentication\", \"authentication\", \"authentication\", \"authentication\", \"auto\", \"auto\", \"auto\", \"auto\", \"auto\", \"auto\", \"auto\", \"auto\", \"baad\", \"baad\", \"baad\", \"baad\", \"baad\", \"baad\", \"baad\", \"baad\", \"baar\", \"baar\", \"baar\", \"baar\", \"baar\", \"baar\", \"baar\", \"baar\", \"baby\", \"baby\", \"baby\", \"baby\", \"baby\", \"baby\", \"baby\", \"baby\", \"bahut\", \"bahut\", \"bahut\", \"bahut\", \"bahut\", \"bahut\", \"bahut\", \"bahut\", \"balance\", \"balance\", \"balance\", \"balance\", \"balance\", \"balance\", \"balance\", \"balance\", \"band\", \"band\", \"band\", \"band\", \"band\", \"band\", \"band\", \"band\", \"bank\", \"bank\", \"bank\", \"bank\", \"bank\", \"bank\", \"bank\", \"bank\", \"beginner\", \"beginner\", \"beginner\", \"beginner\", \"beginner\", \"beginner\", \"beginner\", \"beginner\", \"bhut\", \"bhut\", \"bhut\", \"bhut\", \"bhut\", \"bhut\", \"bhut\", \"bhut\", \"body\", \"body\", \"body\", \"body\", \"body\", \"body\", \"body\", \"body\", \"bonus\", \"bonus\", \"bonus\", \"bonus\", \"bonus\", \"bonus\", \"bonus\", \"bonus\", \"book\", \"book\", \"book\", \"book\", \"book\", \"book\", \"book\", \"book\", \"brand\", \"brand\", \"brand\", \"brand\", \"brand\", \"brand\", \"brand\", \"brand\", \"broker\", \"broker\", \"broker\", \"broker\", \"broker\", \"broker\", \"broker\", \"broker\", \"brokerage\", \"brokerage\", \"brokerage\", \"brokerage\", \"brokerage\", \"brokerage\", \"brokerage\", \"brokerage\", \"buggy\", \"buggy\", \"buggy\", \"buggy\", \"buggy\", \"buggy\", \"buggy\", \"buggy\", \"button\", \"button\", \"button\", \"button\", \"button\", \"button\", \"button\", \"button\", \"buyback\", \"buyback\", \"buyback\", \"buyback\", \"buyback\", \"buyback\", \"buyback\", \"buyback\", \"buying\", \"buying\", \"buying\", \"buying\", \"buying\", \"buying\", \"buying\", \"buying\", \"call\", \"call\", \"call\", \"call\", \"call\", \"call\", \"call\", \"call\", \"camera\", \"camera\", \"camera\", \"camera\", \"camera\", \"camera\", \"camera\", \"camera\", \"card\", \"card\", \"card\", \"card\", \"card\", \"card\", \"card\", \"card\", \"care\", \"care\", \"care\", \"care\", \"care\", \"care\", \"care\", \"care\", \"cash\", \"cash\", \"cash\", \"cash\", \"cash\", \"cash\", \"cash\", \"cash\", \"chain\", \"chain\", \"chain\", \"chain\", \"chain\", \"chain\", \"chain\", \"chain\", \"chance\", \"chance\", \"chance\", \"chance\", \"chance\", \"chance\", \"chance\", \"chance\", \"change\", \"change\", \"change\", \"change\", \"change\", \"change\", \"change\", \"change\", \"channel\", \"channel\", \"channel\", \"channel\", \"channel\", \"channel\", \"channel\", \"channel\", \"charge\", \"charge\", \"charge\", \"charge\", \"charge\", \"charge\", \"charge\", \"charge\", \"chart\", \"chart\", \"chart\", \"chart\", \"chart\", \"chart\", \"chart\", \"chart\", \"cheater\", \"cheater\", \"cheater\", \"cheater\", \"cheater\", \"cheater\", \"cheater\", \"cheater\", \"class\", \"class\", \"class\", \"class\", \"class\", \"class\", \"class\", \"class\", \"click\", \"click\", \"click\", \"click\", \"click\", \"click\", \"click\", \"click\", \"commission\", \"commission\", \"commission\", \"commission\", \"commission\", \"commission\", \"commission\", \"commission\", \"company\", \"company\", \"company\", \"company\", \"company\", \"company\", \"company\", \"company\", \"competitor\", \"competitor\", \"competitor\", \"competitor\", \"competitor\", \"competitor\", \"competitor\", \"competitor\", \"connection\", \"connection\", \"connection\", \"connection\", \"connection\", \"connection\", \"connection\", \"connection\", \"contact\", \"contact\", \"contact\", \"contact\", \"contact\", \"contact\", \"contact\", \"contact\", \"copy\", \"copy\", \"copy\", \"copy\", \"copy\", \"copy\", \"copy\", \"copy\", \"crash\", \"crash\", \"crash\", \"crash\", \"crash\", \"crash\", \"crash\", \"crash\", \"crashing\", \"crashing\", \"crashing\", \"crashing\", \"crashing\", \"crashing\", \"crashing\", \"crashing\", \"create\", \"create\", \"create\", \"create\", \"create\", \"create\", \"create\", \"create\", \"credit\", \"credit\", \"credit\", \"credit\", \"credit\", \"credit\", \"credit\", \"credit\", \"customer\", \"customer\", \"customer\", \"customer\", \"customer\", \"customer\", \"customer\", \"customer\", \"dashboard\", \"dashboard\", \"dashboard\", \"dashboard\", \"dashboard\", \"dashboard\", \"dashboard\", \"dashboard\", \"data\", \"data\", \"data\", \"data\", \"data\", \"data\", \"data\", \"data\", \"date\", \"date\", \"date\", \"date\", \"date\", \"date\", \"date\", \"date\", \"day\", \"day\", \"day\", \"day\", \"day\", \"day\", \"day\", \"day\", \"debit\", \"debit\", \"debit\", \"debit\", \"debit\", \"debit\", \"debit\", \"debit\", \"deduct\", \"deduct\", \"deduct\", \"deduct\", \"deduct\", \"deduct\", \"deduct\", \"deduct\", \"deduction\", \"deduction\", \"deduction\", \"deduction\", \"deduction\", \"deduction\", \"deduction\", \"deduction\", \"delivery\", \"delivery\", \"delivery\", \"delivery\", \"delivery\", \"delivery\", \"delivery\", \"delivery\", \"deposit\", \"deposit\", \"deposit\", \"deposit\", \"deposit\", \"deposit\", \"deposit\", \"deposit\", \"detail\", \"detail\", \"detail\", \"detail\", \"detail\", \"detail\", \"detail\", \"detail\", \"dividend\", \"dividend\", \"dividend\", \"dividend\", \"dividend\", \"dividend\", \"dividend\", \"dividend\", \"document\", \"document\", \"document\", \"document\", \"document\", \"document\", \"document\", \"document\", \"dont\", \"dont\", \"dont\", \"dont\", \"dont\", \"dont\", \"dont\", \"dont\", \"download\", \"download\", \"download\", \"download\", \"download\", \"download\", \"download\", \"download\", \"earn\", \"earn\", \"earn\", \"earn\", \"earn\", \"earn\", \"earn\", \"earn\", \"earning\", \"earning\", \"earning\", \"earning\", \"earning\", \"earning\", \"earning\", \"earning\", \"easy\", \"easy\", \"easy\", \"easy\", \"easy\", \"easy\", \"easy\", \"easy\", \"email\", \"email\", \"email\", \"email\", \"email\", \"email\", \"email\", \"email\", \"emergency\", \"emergency\", \"emergency\", \"emergency\", \"emergency\", \"emergency\", \"emergency\", \"emergency\", \"equity\", \"equity\", \"equity\", \"equity\", \"equity\", \"equity\", \"equity\", \"equity\", \"error\", \"error\", \"error\", \"error\", \"error\", \"error\", \"error\", \"error\", \"everything\", \"everything\", \"everything\", \"everything\", \"everything\", \"everything\", \"everything\", \"everything\", \"excel\", \"excel\", \"excel\", \"excel\", \"excel\", \"excel\", \"excel\", \"excel\", \"exit\", \"exit\", \"exit\", \"exit\", \"exit\", \"exit\", \"exit\", \"exit\", \"experience\", \"experience\", \"experience\", \"experience\", \"experience\", \"experience\", \"experience\", \"experience\", \"expire\", \"expire\", \"expire\", \"expire\", \"expire\", \"expire\", \"expire\", \"expire\", \"face\", \"face\", \"face\", \"face\", \"face\", \"face\", \"face\", \"face\", \"facility\", \"facility\", \"facility\", \"facility\", \"facility\", \"facility\", \"facility\", \"facility\", \"facing\", \"facing\", \"facing\", \"facing\", \"facing\", \"facing\", \"facing\", \"facing\", \"factor\", \"factor\", \"factor\", \"factor\", \"factor\", \"factor\", \"factor\", \"factor\", \"fake\", \"fake\", \"fake\", \"fake\", \"fake\", \"fake\", \"fake\", \"fake\", \"family\", \"family\", \"family\", \"family\", \"family\", \"family\", \"family\", \"family\", \"fast\", \"fast\", \"fast\", \"fast\", \"fast\", \"fast\", \"fast\", \"fast\", \"feature\", \"feature\", \"feature\", \"feature\", \"feature\", \"feature\", \"feature\", \"feature\", \"fee\", \"fee\", \"fee\", \"fee\", \"fee\", \"fee\", \"fee\", \"fee\", \"find\", \"find\", \"find\", \"find\", \"find\", \"find\", \"find\", \"find\", \"focus\", \"focus\", \"focus\", \"focus\", \"focus\", \"focus\", \"focus\", \"focus\", \"form\", \"form\", \"form\", \"form\", \"form\", \"form\", \"form\", \"form\", \"fraud\", \"fraud\", \"fraud\", \"fraud\", \"fraud\", \"fraud\", \"fraud\", \"fraud\", \"functionality\", \"functionality\", \"functionality\", \"functionality\", \"functionality\", \"functionality\", \"functionality\", \"functionality\", \"fund\", \"fund\", \"fund\", \"fund\", \"fund\", \"fund\", \"fund\", \"fund\", \"future\", \"future\", \"future\", \"future\", \"future\", \"future\", \"future\", \"future\", \"gaya\", \"gaya\", \"gaya\", \"gaya\", \"gaya\", \"gaya\", \"gaya\", \"gaya\", \"generate\", \"generate\", \"generate\", \"generate\", \"generate\", \"generate\", \"generate\", \"generate\", \"give\", \"give\", \"give\", \"give\", \"give\", \"give\", \"give\", \"give\", \"glitch\", \"glitch\", \"glitch\", \"glitch\", \"glitch\", \"glitch\", \"glitch\", \"glitch\", \"google\", \"google\", \"google\", \"google\", \"google\", \"google\", \"google\", \"google\", \"graph\", \"graph\", \"graph\", \"graph\", \"graph\", \"graph\", \"graph\", \"graph\", \"grow\", \"grow\", \"grow\", \"grow\", \"grow\", \"grow\", \"grow\", \"grow\", \"grows\", \"grows\", \"grows\", \"grows\", \"grows\", \"grows\", \"grows\", \"grows\", \"groww\", \"groww\", \"groww\", \"groww\", \"groww\", \"groww\", \"groww\", \"groww\", \"hain\", \"hain\", \"hain\", \"hain\", \"hain\", \"hain\", \"hain\", \"hain\", \"handle\", \"handle\", \"handle\", \"handle\", \"handle\", \"handle\", \"handle\", \"handle\", \"hang\", \"hang\", \"hang\", \"hang\", \"hang\", \"hang\", \"hang\", \"hang\", \"heck\", \"heck\", \"heck\", \"heck\", \"heck\", \"heck\", \"heck\", \"heck\", \"hello\", \"hello\", \"hello\", \"hello\", \"hello\", \"hello\", \"hello\", \"hello\", \"help\", \"help\", \"help\", \"help\", \"help\", \"help\", \"help\", \"help\", \"history\", \"history\", \"history\", \"history\", \"history\", \"history\", \"history\", \"history\", \"hoga\", \"hoga\", \"hoga\", \"hoga\", \"hoga\", \"hoga\", \"hoga\", \"hoga\", \"home\", \"home\", \"home\", \"home\", \"home\", \"home\", \"home\", \"home\", \"hone\", \"hone\", \"hone\", \"hone\", \"hone\", \"hone\", \"hone\", \"hone\", \"hota\", \"hota\", \"hota\", \"hota\", \"hota\", \"hota\", \"hota\", \"hota\", \"hote\", \"hote\", \"hote\", \"hote\", \"hote\", \"hote\", \"hote\", \"hote\", \"hoti\", \"hoti\", \"hoti\", \"hoti\", \"hoti\", \"hoti\", \"hoti\", \"hoti\", \"hour\", \"hour\", \"hour\", \"hour\", \"hour\", \"hour\", \"hour\", \"hour\", \"improvement\", \"improvement\", \"improvement\", \"improvement\", \"improvement\", \"improvement\", \"improvement\", \"improvement\", \"india\", \"india\", \"india\", \"india\", \"india\", \"india\", \"india\", \"india\", \"indicator\", \"indicator\", \"indicator\", \"indicator\", \"indicator\", \"indicator\", \"indicator\", \"indicator\", \"info\", \"info\", \"info\", \"info\", \"info\", \"info\", \"info\", \"info\", \"install\", \"install\", \"install\", \"install\", \"install\", \"install\", \"install\", \"install\", \"interest\", \"interest\", \"interest\", \"interest\", \"interest\", \"interest\", \"interest\", \"interest\", \"interface\", \"interface\", \"interface\", \"interface\", \"interface\", \"interface\", \"interface\", \"interface\", \"internet\", \"internet\", \"internet\", \"internet\", \"internet\", \"internet\", \"internet\", \"internet\", \"invest\", \"invest\", \"invest\", \"invest\", \"invest\", \"invest\", \"invest\", \"invest\", \"investment\", \"investment\", \"investment\", \"investment\", \"investment\", \"investment\", \"investment\", \"investment\", \"investor\", \"investor\", \"investor\", \"investor\", \"investor\", \"investor\", \"investor\", \"investor\", \"isme\", \"isme\", \"isme\", \"isme\", \"isme\", \"isme\", \"isme\", \"isme\", \"issu\", \"issu\", \"issu\", \"issu\", \"issu\", \"issu\", \"issu\", \"issu\", \"issue\", \"issue\", \"issue\", \"issue\", \"issue\", \"issue\", \"issue\", \"issue\", \"jata\", \"jata\", \"jata\", \"jata\", \"jata\", \"jata\", \"jata\", \"jata\", \"karo\", \"karo\", \"karo\", \"karo\", \"karo\", \"karo\", \"karo\", \"karo\", \"know\", \"know\", \"know\", \"know\", \"know\", \"know\", \"know\", \"know\", \"lakh\", \"lakh\", \"lakh\", \"lakh\", \"lakh\", \"lakh\", \"lakh\", \"lakh\", \"language\", \"language\", \"language\", \"language\", \"language\", \"language\", \"language\", \"language\", \"level\", \"level\", \"level\", \"level\", \"level\", \"level\", \"level\", \"level\", \"life\", \"life\", \"life\", \"life\", \"life\", \"life\", \"life\", \"life\", \"line\", \"line\", \"line\", \"line\", \"line\", \"line\", \"line\", \"line\", \"link\", \"link\", \"link\", \"link\", \"link\", \"link\", \"link\", \"link\", \"list\", \"list\", \"list\", \"list\", \"list\", \"list\", \"list\", \"list\", \"load\", \"load\", \"load\", \"load\", \"load\", \"load\", \"load\", \"load\", \"loading\", \"loading\", \"loading\", \"loading\", \"loading\", \"loading\", \"loading\", \"loading\", \"loan\", \"loan\", \"loan\", \"loan\", \"loan\", \"loan\", \"loan\", \"loan\", \"log\", \"log\", \"log\", \"log\", \"log\", \"log\", \"log\", \"log\", \"logging\", \"logging\", \"logging\", \"logging\", \"logging\", \"logging\", \"logging\", \"logging\", \"login\", \"login\", \"login\", \"login\", \"login\", \"login\", \"login\", \"login\", \"logo\", \"logo\", \"logo\", \"logo\", \"logo\", \"logo\", \"logo\", \"logo\", \"loss\", \"loss\", \"loss\", \"loss\", \"loss\", \"loss\", \"loss\", \"loss\", \"love\", \"love\", \"love\", \"love\", \"love\", \"love\", \"love\", \"love\", \"mail\", \"mail\", \"mail\", \"mail\", \"mail\", \"mail\", \"mail\", \"mail\", \"maine\", \"maine\", \"maine\", \"maine\", \"maine\", \"maine\", \"maine\", \"maine\", \"maintenance\", \"maintenance\", \"maintenance\", \"maintenance\", \"maintenance\", \"maintenance\", \"maintenance\", \"maintenance\", \"mark\", \"mark\", \"mark\", \"mark\", \"mark\", \"mark\", \"mark\", \"mark\", \"market\", \"market\", \"market\", \"market\", \"market\", \"market\", \"market\", \"market\", \"mein\", \"mein\", \"mein\", \"mein\", \"mein\", \"mein\", \"mein\", \"mein\", \"mene\", \"mene\", \"mene\", \"mene\", \"mene\", \"mene\", \"mene\", \"mene\", \"mera\", \"mera\", \"mera\", \"mera\", \"mera\", \"mera\", \"mera\", \"mera\", \"mind\", \"mind\", \"mind\", \"mind\", \"mind\", \"mind\", \"mind\", \"mind\", \"minute\", \"minute\", \"minute\", \"minute\", \"minute\", \"minute\", \"minute\", \"minute\", \"mobile\", \"mobile\", \"mobile\", \"mobile\", \"mobile\", \"mobile\", \"mobile\", \"mobile\", \"mode\", \"mode\", \"mode\", \"mode\", \"mode\", \"mode\", \"mode\", \"mode\", \"money\", \"money\", \"money\", \"money\", \"money\", \"money\", \"money\", \"money\", \"month\", \"month\", \"month\", \"month\", \"month\", \"month\", \"month\", \"month\", \"morning\", \"morning\", \"morning\", \"morning\", \"morning\", \"morning\", \"morning\", \"morning\", \"name\", \"name\", \"name\", \"name\", \"name\", \"name\", \"name\", \"name\", \"need\", \"need\", \"need\", \"need\", \"need\", \"need\", \"need\", \"need\", \"nice\", \"nice\", \"nice\", \"nice\", \"nice\", \"nice\", \"nice\", \"nice\", \"night\", \"night\", \"night\", \"night\", \"night\", \"night\", \"night\", \"night\", \"note\", \"note\", \"note\", \"note\", \"note\", \"note\", \"note\", \"note\", \"nothing\", \"nothing\", \"nothing\", \"nothing\", \"nothing\", \"nothing\", \"nothing\", \"nothing\", \"nowadays\", \"nowadays\", \"nowadays\", \"nowadays\", \"nowadays\", \"nowadays\", \"nowadays\", \"nowadays\", \"number\", \"number\", \"number\", \"number\", \"number\", \"number\", \"number\", \"number\", \"offer\", \"offer\", \"offer\", \"offer\", \"offer\", \"offer\", \"offer\", \"offer\", \"opening\", \"opening\", \"opening\", \"opening\", \"opening\", \"opening\", \"opening\", \"opening\", \"operate\", \"operate\", \"operate\", \"operate\", \"operate\", \"operate\", \"operate\", \"operate\", \"option\", \"option\", \"option\", \"option\", \"option\", \"option\", \"option\", \"option\", \"order\", \"order\", \"order\", \"order\", \"order\", \"order\", \"order\", \"order\", \"page\", \"page\", \"page\", \"page\", \"page\", \"page\", \"page\", \"page\", \"paisa\", \"paisa\", \"paisa\", \"paisa\", \"paisa\", \"paisa\", \"paisa\", \"paisa\", \"password\", \"password\", \"password\", \"password\", \"password\", \"password\", \"password\", \"password\", \"paste\", \"paste\", \"paste\", \"paste\", \"paste\", \"paste\", \"paste\", \"paste\", \"payment\", \"payment\", \"payment\", \"payment\", \"payment\", \"payment\", \"payment\", \"payment\", \"penny\", \"penny\", \"penny\", \"penny\", \"penny\", \"penny\", \"penny\", \"penny\", \"people\", \"people\", \"people\", \"people\", \"people\", \"people\", \"people\", \"people\", \"perfect\", \"perfect\", \"perfect\", \"perfect\", \"perfect\", \"perfect\", \"perfect\", \"perfect\", \"performance\", \"performance\", \"performance\", \"performance\", \"performance\", \"performance\", \"performance\", \"performance\", \"phone\", \"phone\", \"phone\", \"phone\", \"phone\", \"phone\", \"phone\", \"phone\", \"picture\", \"picture\", \"picture\", \"picture\", \"picture\", \"picture\", \"picture\", \"picture\", \"place\", \"place\", \"place\", \"place\", \"place\", \"place\", \"place\", \"place\", \"platform\", \"platform\", \"platform\", \"platform\", \"platform\", \"platform\", \"platform\", \"platform\", \"play\", \"play\", \"play\", \"play\", \"play\", \"play\", \"play\", \"play\", \"please\", \"please\", \"please\", \"please\", \"please\", \"please\", \"please\", \"please\", \"portfolio\", \"portfolio\", \"portfolio\", \"portfolio\", \"portfolio\", \"portfolio\", \"portfolio\", \"portfolio\", \"position\", \"position\", \"position\", \"position\", \"position\", \"position\", \"position\", \"position\", \"price\", \"price\", \"price\", \"price\", \"price\", \"price\", \"price\", \"price\", \"problem\", \"problem\", \"problem\", \"problem\", \"problem\", \"problem\", \"problem\", \"problem\", \"process\", \"process\", \"process\", \"process\", \"process\", \"process\", \"process\", \"process\", \"processing\", \"processing\", \"processing\", \"processing\", \"processing\", \"processing\", \"processing\", \"processing\", \"profit\", \"profit\", \"profit\", \"profit\", \"profit\", \"profit\", \"profit\", \"profit\", \"program\", \"program\", \"program\", \"program\", \"program\", \"program\", \"program\", \"program\", \"provider\", \"provider\", \"provider\", \"provider\", \"provider\", \"provider\", \"provider\", \"provider\", \"quality\", \"quality\", \"quality\", \"quality\", \"quality\", \"quality\", \"quality\", \"quality\", \"question\", \"question\", \"question\", \"question\", \"question\", \"question\", \"question\", \"question\", \"rate\", \"rate\", \"rate\", \"rate\", \"rate\", \"rate\", \"rate\", \"rate\", \"ratio\", \"ratio\", \"ratio\", \"ratio\", \"ratio\", \"ratio\", \"ratio\", \"ratio\", \"realy\", \"realy\", \"realy\", \"realy\", \"realy\", \"realy\", \"realy\", \"realy\", \"redeem\", \"redeem\", \"redeem\", \"redeem\", \"redeem\", \"redeem\", \"redeem\", \"redeem\", \"redemption\", \"redemption\", \"redemption\", \"redemption\", \"redemption\", \"redemption\", \"redemption\", \"redemption\", \"refer\", \"refer\", \"refer\", \"refer\", \"refer\", \"refer\", \"refer\", \"refer\", \"refresh\", \"refresh\", \"refresh\", \"refresh\", \"refresh\", \"refresh\", \"refresh\", \"refresh\", \"refund\", \"refund\", \"refund\", \"refund\", \"refund\", \"refund\", \"refund\", \"refund\", \"reinstall\", \"reinstall\", \"reinstall\", \"reinstall\", \"reinstall\", \"reinstall\", \"reinstall\", \"reinstall\", \"repair\", \"repair\", \"repair\", \"repair\", \"repair\", \"repair\", \"repair\", \"repair\", \"report\", \"report\", \"report\", \"report\", \"report\", \"report\", \"report\", \"report\", \"resolve\", \"resolve\", \"resolve\", \"resolve\", \"resolve\", \"resolve\", \"resolve\", \"resolve\", \"response\", \"response\", \"response\", \"response\", \"response\", \"response\", \"response\", \"response\", \"return\", \"return\", \"return\", \"return\", \"return\", \"return\", \"return\", \"return\", \"reward\", \"reward\", \"reward\", \"reward\", \"reward\", \"reward\", \"reward\", \"reward\", \"rupee\", \"rupee\", \"rupee\", \"rupee\", \"rupee\", \"rupee\", \"rupee\", \"rupee\", \"sale\", \"sale\", \"sale\", \"sale\", \"sale\", \"sale\", \"sale\", \"sale\", \"sath\", \"sath\", \"sath\", \"sath\", \"sath\", \"sath\", \"sath\", \"sath\", \"scam\", \"scam\", \"scam\", \"scam\", \"scam\", \"scam\", \"scam\", \"scam\", \"screen\", \"screen\", \"screen\", \"screen\", \"screen\", \"screen\", \"screen\", \"screen\", \"seamless\", \"seamless\", \"seamless\", \"seamless\", \"seamless\", \"seamless\", \"seamless\", \"seamless\", \"season\", \"season\", \"season\", \"season\", \"season\", \"season\", \"season\", \"season\", \"second\", \"second\", \"second\", \"second\", \"second\", \"second\", \"second\", \"second\", \"section\", \"section\", \"section\", \"section\", \"section\", \"section\", \"section\", \"section\", \"sell\", \"sell\", \"sell\", \"sell\", \"sell\", \"sell\", \"sell\", \"sell\", \"server\", \"server\", \"server\", \"server\", \"server\", \"server\", \"server\", \"server\", \"service\", \"service\", \"service\", \"service\", \"service\", \"service\", \"service\", \"service\", \"session\", \"session\", \"session\", \"session\", \"session\", \"session\", \"session\", \"session\", \"share\", \"share\", \"share\", \"share\", \"share\", \"share\", \"share\", \"share\", \"show\", \"show\", \"show\", \"show\", \"show\", \"show\", \"show\", \"show\", \"sign\", \"sign\", \"sign\", \"sign\", \"sign\", \"sign\", \"sign\", \"sign\", \"simple\", \"simple\", \"simple\", \"simple\", \"simple\", \"simple\", \"simple\", \"simple\", \"site\", \"site\", \"site\", \"site\", \"site\", \"site\", \"site\", \"site\", \"solution\", \"solution\", \"solution\", \"solution\", \"solution\", \"solution\", \"solution\", \"solution\", \"solve\", \"solve\", \"solve\", \"solve\", \"solve\", \"solve\", \"solve\", \"solve\", \"something\", \"something\", \"something\", \"something\", \"something\", \"something\", \"something\", \"something\", \"space\", \"space\", \"space\", \"space\", \"space\", \"space\", \"space\", \"space\", \"speed\", \"speed\", \"speed\", \"speed\", \"speed\", \"speed\", \"speed\", \"speed\", \"start\", \"start\", \"start\", \"start\", \"start\", \"start\", \"start\", \"start\", \"statement\", \"statement\", \"statement\", \"statement\", \"statement\", \"statement\", \"statement\", \"statement\", \"status\", \"status\", \"status\", \"status\", \"status\", \"status\", \"status\", \"status\", \"stock\", \"stock\", \"stock\", \"stock\", \"stock\", \"stock\", \"stock\", \"stock\", \"store\", \"store\", \"store\", \"store\", \"store\", \"store\", \"store\", \"store\", \"suck\", \"suck\", \"suck\", \"suck\", \"suck\", \"suck\", \"suck\", \"suck\", \"support\", \"support\", \"support\", \"support\", \"support\", \"support\", \"support\", \"support\", \"system\", \"system\", \"system\", \"system\", \"system\", \"system\", \"system\", \"system\", \"target\", \"target\", \"target\", \"target\", \"target\", \"target\", \"target\", \"target\", \"team\", \"team\", \"team\", \"team\", \"team\", \"team\", \"team\", \"team\", \"tell\", \"tell\", \"tell\", \"tell\", \"tell\", \"tell\", \"tell\", \"tell\", \"term\", \"term\", \"term\", \"term\", \"term\", \"term\", \"term\", \"term\", \"thank\", \"thank\", \"thank\", \"thank\", \"thank\", \"thank\", \"thank\", \"thank\", \"thanks\", \"thanks\", \"thanks\", \"thanks\", \"thanks\", \"thanks\", \"thanks\", \"thanks\", \"thing\", \"thing\", \"thing\", \"thing\", \"thing\", \"thing\", \"thing\", \"thing\", \"think\", \"think\", \"think\", \"think\", \"think\", \"think\", \"think\", \"think\", \"till\", \"till\", \"till\", \"till\", \"till\", \"till\", \"till\", \"till\", \"time\", \"time\", \"time\", \"time\", \"time\", \"time\", \"time\", \"time\", \"today\", \"today\", \"today\", \"today\", \"today\", \"today\", \"today\", \"today\", \"tool\", \"tool\", \"tool\", \"tool\", \"tool\", \"tool\", \"tool\", \"tool\", \"trade\", \"trade\", \"trade\", \"trade\", \"trade\", \"trade\", \"trade\", \"trade\", \"trader\", \"trader\", \"trader\", \"trader\", \"trader\", \"trader\", \"trader\", \"trader\", \"trading\", \"trading\", \"trading\", \"trading\", \"trading\", \"trading\", \"trading\", \"trading\", \"transaction\", \"transaction\", \"transaction\", \"transaction\", \"transaction\", \"transaction\", \"transaction\", \"transaction\", \"transfer\", \"transfer\", \"transfer\", \"transfer\", \"transfer\", \"transfer\", \"transfer\", \"transfer\", \"transparent\", \"transparent\", \"transparent\", \"transparent\", \"transparent\", \"transparent\", \"transparent\", \"transparent\", \"trend\", \"trend\", \"trend\", \"trend\", \"trend\", \"trend\", \"trend\", \"trend\", \"trending\", \"trending\", \"trending\", \"trending\", \"trending\", \"trending\", \"trending\", \"trending\", \"trigger\", \"trigger\", \"trigger\", \"trigger\", \"trigger\", \"trigger\", \"trigger\", \"trigger\", \"understand\", \"understand\", \"understand\", \"understand\", \"understand\", \"understand\", \"understand\", \"understand\", \"understanding\", \"understanding\", \"understanding\", \"understanding\", \"understanding\", \"understanding\", \"understanding\", \"understanding\", \"unit\", \"unit\", \"unit\", \"unit\", \"unit\", \"unit\", \"unit\", \"unit\", \"update\", \"update\", \"update\", \"update\", \"update\", \"update\", \"update\", \"update\", \"upgrade\", \"upgrade\", \"upgrade\", \"upgrade\", \"upgrade\", \"upgrade\", \"upgrade\", \"upgrade\", \"usage\", \"usage\", \"usage\", \"usage\", \"usage\", \"usage\", \"usage\", \"usage\", \"user\", \"user\", \"user\", \"user\", \"user\", \"user\", \"user\", \"user\", \"value\", \"value\", \"value\", \"value\", \"value\", \"value\", \"value\", \"value\", \"veri\", \"veri\", \"veri\", \"veri\", \"veri\", \"veri\", \"veri\", \"veri\", \"verification\", \"verification\", \"verification\", \"verification\", \"verification\", \"verification\", \"verification\", \"verification\", \"version\", \"version\", \"version\", \"version\", \"version\", \"version\", \"version\", \"version\", \"view\", \"view\", \"view\", \"view\", \"view\", \"view\", \"view\", \"view\", \"wallet\", \"wallet\", \"wallet\", \"wallet\", \"wallet\", \"wallet\", \"wallet\", \"wallet\", \"waste\", \"waste\", \"waste\", \"waste\", \"waste\", \"waste\", \"waste\", \"waste\", \"watch\", \"watch\", \"watch\", \"watch\", \"watch\", \"watch\", \"watch\", \"watch\", \"wealth\", \"wealth\", \"wealth\", \"wealth\", \"wealth\", \"wealth\", \"wealth\", \"wealth\", \"week\", \"week\", \"week\", \"week\", \"week\", \"week\", \"week\", \"week\", \"whats\", \"whats\", \"whats\", \"whats\", \"whats\", \"whats\", \"whats\", \"whats\", \"withdrawal\", \"withdrawal\", \"withdrawal\", \"withdrawal\", \"withdrawal\", \"withdrawal\", \"withdrawal\", \"withdrawal\", \"withdrawn\", \"withdrawn\", \"withdrawn\", \"withdrawn\", \"withdrawn\", \"withdrawn\", \"withdrawn\", \"withdrawn\", \"work\", \"work\", \"work\", \"work\", \"work\", \"work\", \"work\", \"work\", \"worst\", \"worst\", \"worst\", \"worst\", \"worst\", \"worst\", \"worst\", \"worst\", \"year\", \"year\", \"year\", \"year\", \"year\", \"year\", \"year\", \"year\"]}, \"R\": 30, \"lambda.step\": 0.01, \"plot.opts\": {\"xlab\": \"PC1\", \"ylab\": \"PC2\"}, \"topic.order\": [1, 2, 4, 5, 3, 7, 8, 6]};\n",
       "\n",
       "function LDAvis_load_lib(url, callback){\n",
       "  var s = document.createElement('script');\n",
       "  s.src = url;\n",
       "  s.async = true;\n",
       "  s.onreadystatechange = s.onload = callback;\n",
       "  s.onerror = function(){console.warn(\"failed to load library \" + url);};\n",
       "  document.getElementsByTagName(\"head\")[0].appendChild(s);\n",
       "}\n",
       "\n",
       "if(typeof(LDAvis) !== \"undefined\"){\n",
       "   // already loaded: just create the visualization\n",
       "   !function(LDAvis){\n",
       "       new LDAvis(\"#\" + \"ldavis_el2132017033423151044787386954\", ldavis_el2132017033423151044787386954_data);\n",
       "   }(LDAvis);\n",
       "}else if(typeof define === \"function\" && define.amd){\n",
       "   // require.js is available: use it to load d3/LDAvis\n",
       "   require.config({paths: {d3: \"https://d3js.org/d3.v5\"}});\n",
       "   require([\"d3\"], function(d3){\n",
       "      window.d3 = d3;\n",
       "      LDAvis_load_lib(\"https://cdn.jsdelivr.net/gh/bmabey/pyLDAvis@3.4.0/pyLDAvis/js/ldavis.v3.0.0.js\", function(){\n",
       "        new LDAvis(\"#\" + \"ldavis_el2132017033423151044787386954\", ldavis_el2132017033423151044787386954_data);\n",
       "      });\n",
       "    });\n",
       "}else{\n",
       "    // require.js not available: dynamically load d3 & LDAvis\n",
       "    LDAvis_load_lib(\"https://d3js.org/d3.v5.js\", function(){\n",
       "         LDAvis_load_lib(\"https://cdn.jsdelivr.net/gh/bmabey/pyLDAvis@3.4.0/pyLDAvis/js/ldavis.v3.0.0.js\", function(){\n",
       "                 new LDAvis(\"#\" + \"ldavis_el2132017033423151044787386954\", ldavis_el2132017033423151044787386954_data);\n",
       "            })\n",
       "         });\n",
       "}\n",
       "</script>"
      ],
      "text/plain": [
       "PreparedData(topic_coordinates=              x         y  topics  cluster       Freq\n",
       "topic                                                \n",
       "0     -0.227281 -0.218598       1        1  32.182139\n",
       "1     -0.264489  0.111070       2        1  30.108186\n",
       "3     -0.026441  0.129433       3        1  11.394045\n",
       "4     -0.012080  0.101215       4        1   9.941293\n",
       "2      0.111927 -0.091020       5        1   6.860901\n",
       "6      0.160516 -0.020501       6        1   4.172813\n",
       "7      0.147895 -0.023917       7        1   2.789819\n",
       "5      0.109953  0.012318       8        1   2.550804, topic_info=             Term         Freq        Total Category  logprob  loglift\n",
       "31        account  2098.000000  2098.000000  Default  30.0000  30.0000\n",
       "226         login  1969.000000  1969.000000  Default  29.0000  29.0000\n",
       "52          stock  3173.000000  3173.000000  Default  28.0000  28.0000\n",
       "127         money  2742.000000  2742.000000  Default  27.0000  27.0000\n",
       "147         issue  2742.000000  2742.000000  Default  26.0000  26.0000\n",
       "...           ...          ...          ...      ...      ...      ...\n",
       "111          fast    17.522313    70.497390   Topic8  -5.2349   2.2767\n",
       "226         login   214.450671  1969.822341   Topic8  -2.7303   1.4511\n",
       "274   transparent     4.528705    14.341785   Topic8  -6.5879   2.5160\n",
       "1180         heck     4.571145    14.669689   Topic8  -6.5786   2.5027\n",
       "564      question     5.725792    26.510488   Topic8  -6.3534   2.1362\n",
       "\n",
       "[364 rows x 6 columns], token_table=      Topic      Freq    Term\n",
       "term                         \n",
       "763       1  0.009553  access\n",
       "763       2  0.009553  access\n",
       "763       3  0.009553  access\n",
       "763       4  0.009553  access\n",
       "763       5  0.936238  access\n",
       "...     ...       ...     ...\n",
       "86        4  0.002979    year\n",
       "86        5  0.002979    year\n",
       "86        6  0.002979    year\n",
       "86        7  0.002979    year\n",
       "86        8  0.002979    year\n",
       "\n",
       "[2408 rows x 3 columns], R=30, lambda_step=0.01, plot_opts={'xlab': 'PC1', 'ylab': 'PC2'}, topic_order=[1, 2, 4, 5, 3, 7, 8, 6])"
      ]
     },
     "execution_count": 30,
     "metadata": {},
     "output_type": "execute_result"
    }
   ],
   "source": [
    "import pyLDAvis\n",
    "import pyLDAvis.gensim\n",
    "pyLDAvis.enable_notebook()\n",
    "vis = pyLDAvis.gensim.prepare(ldamodel,doc_term_matrix,dictionary)\n",
    "vis"
   ]
  },
  {
   "cell_type": "markdown",
   "id": "8e8b6368",
   "metadata": {},
   "source": [
    "There is a lot of overlapping between clusters,Lets try to reduce the topic numbers."
   ]
  },
  {
   "cell_type": "markdown",
   "id": "7d34cf21",
   "metadata": {},
   "source": [
    "Training LDA model with 5 topics\n",
    "\n",
    "alpha=asymmetric\n",
    "\n",
    "beta=0.5\n",
    "\n",
    "Coherence Score: 0.4466399906669224"
   ]
  },
  {
   "cell_type": "code",
   "execution_count": 31,
   "id": "aef4af0c",
   "metadata": {},
   "outputs": [],
   "source": [
    "\n",
    "Lda = gensim.models.ldamodel.LdaModel\n",
    "ldamodel = Lda(corpus=doc_term_matrix, num_topics=5, id2word=dictionary, passes=10,alpha='asymmetric',eta=0.5, random_state=45)\n",
    "clear_output()"
   ]
  },
  {
   "cell_type": "code",
   "execution_count": 104,
   "id": "1ec6cb34",
   "metadata": {},
   "outputs": [
    {
     "data": {
      "text/plain": [
       "[(0,\n",
       "  '0.077*\"stock\" + 0.052*\"groww\" + 0.050*\"market\" + 0.050*\"trading\" + 0.045*\"application\" + 0.038*\"option\" + 0.030*\"investment\" + 0.026*\"fund\" + 0.020*\"experience\" + 0.018*\"please\"'),\n",
       " (1,\n",
       "  '0.114*\"time\" + 0.085*\"issue\" + 0.046*\"problem\" + 0.045*\"session\" + 0.034*\"customer\" + 0.032*\"order\" + 0.031*\"service\" + 0.027*\"loss\" + 0.027*\"today\" + 0.020*\"support\"'),\n",
       " (2,\n",
       "  '0.172*\"login\" + 0.040*\"time\" + 0.026*\"change\" + 0.025*\"update\" + 0.024*\"problem\" + 0.023*\"something\" + 0.023*\"number\" + 0.021*\"detail\" + 0.017*\"page\" + 0.015*\"show\"'),\n",
       " (3,\n",
       "  '0.128*\"money\" + 0.120*\"account\" + 0.039*\"amount\" + 0.033*\"bank\" + 0.031*\"day\" + 0.027*\"groww\" + 0.022*\"balance\" + 0.020*\"process\" + 0.016*\"withdrawal\" + 0.015*\"grow\"'),\n",
       " (4,\n",
       "  '0.077*\"price\" + 0.072*\"charge\" + 0.072*\"share\" + 0.044*\"loss\" + 0.043*\"profit\" + 0.026*\"download\" + 0.026*\"sell\" + 0.020*\"brokerage\" + 0.014*\"hota\" + 0.013*\"bahut\"')]"
      ]
     },
     "execution_count": 104,
     "metadata": {},
     "output_type": "execute_result"
    }
   ],
   "source": [
    "ldamodel.print_topics()  "
   ]
  },
  {
   "cell_type": "code",
   "execution_count": 32,
   "id": "175385fb",
   "metadata": {},
   "outputs": [
    {
     "name": "stderr",
     "output_type": "stream",
     "text": [
      "C:\\Users\\SADIYA\\anaconda3\\lib\\site-packages\\pandas\\core\\dtypes\\cast.py:1841: DeprecationWarning: np.find_common_type is deprecated.  Please use `np.result_type` or `np.promote_types`.\n",
      "See https://numpy.org/devdocs/release/1.25.0-notes.html and the docs for more information.  (Deprecated NumPy 1.25)\n",
      "  return np.find_common_type(types, [])\n"
     ]
    },
    {
     "data": {
      "text/html": [
       "\n",
       "<link rel=\"stylesheet\" type=\"text/css\" href=\"https://cdn.jsdelivr.net/gh/bmabey/pyLDAvis@3.4.0/pyLDAvis/js/ldavis.v1.0.0.css\">\n",
       "\n",
       "\n",
       "<div id=\"ldavis_el2132017033423162247506826344\" style=\"background-color:white;\"></div>\n",
       "<script type=\"text/javascript\">\n",
       "\n",
       "var ldavis_el2132017033423162247506826344_data = {\"mdsDat\": {\"x\": [-0.16203830587070456, -0.054643157122815374, -0.1853495328626868, 0.12889051744714558, 0.27314047840906097], \"y\": [0.11990370102067807, -0.1574722072603586, 0.07528374993295367, -0.24318607347418805, 0.20547082978091508], \"topics\": [1, 2, 3, 4, 5], \"cluster\": [1, 1, 1, 1, 1], \"Freq\": [34.284491544144075, 27.762013704315557, 15.397434469801437, 11.310547146112416, 11.245513135626512]}, \"tinfo\": {\"Term\": [\"login\", \"money\", \"account\", \"issue\", \"time\", \"stock\", \"price\", \"share\", \"market\", \"trading\", \"charge\", \"application\", \"session\", \"groww\", \"loss\", \"problem\", \"customer\", \"order\", \"amount\", \"investment\", \"service\", \"profit\", \"option\", \"day\", \"today\", \"bank\", \"fund\", \"sell\", \"support\", \"download\", \"stock\", \"application\", \"market\", \"trading\", \"investment\", \"feature\", \"platform\", \"interface\", \"user\", \"chart\", \"data\", \"beginner\", \"portfolio\", \"thanks\", \"thank\", \"version\", \"investor\", \"simple\", \"start\", \"trader\", \"section\", \"view\", \"performance\", \"crash\", \"analysis\", \"hang\", \"love\", \"understand\", \"future\", \"value\", \"bug\", \"option\", \"invest\", \"groww\", \"fund\", \"year\", \"need\", \"thing\", \"experience\", \"grow\", \"work\", \"please\", \"dashboard\", \"team\", \"trade\", \"show\", \"time\", \"issue\", \"customer\", \"service\", \"order\", \"session\", \"today\", \"support\", \"morning\", \"glitch\", \"care\", \"call\", \"asap\", \"response\", \"minute\", \"face\", \"waste\", \"place\", \"solve\", \"class\", \"contact\", \"auto\", \"solution\", \"reply\", \"server\", \"expire\", \"resolve\", \"facing\", \"cant\", \"book\", \"respond\", \"min\", \"time\", \"problem\", \"hell\", \"position\", \"loss\", \"day\", \"exit\", \"hour\", \"please\", \"experience\", \"trade\", \"team\", \"money\", \"error\", \"sell\", \"dashboard\", \"help\", \"week\", \"show\", \"work\", \"account\", \"amount\", \"bank\", \"balance\", \"process\", \"withdrawal\", \"payment\", \"wallet\", \"date\", \"fraud\", \"rating\", \"refund\", \"document\", \"withdraw\", \"deposit\", \"verification\", \"transfer\", \"card\", \"credit\", \"quality\", \"status\", \"unit\", \"business\", \"link\", \"setup\", \"deduction\", \"debit\", \"logging\", \"activate\", \"withdrawn\", \"transaction\", \"zero\", \"money\", \"name\", \"day\", \"month\", \"till\", \"grow\", \"groww\", \"reason\", \"trust\", \"fund\", \"people\", \"experience\", \"help\", \"week\", \"star\", \"please\", \"login\", \"update\", \"change\", \"something\", \"detail\", \"page\", \"everything\", \"phone\", \"opening\", \"connection\", \"screen\", \"line\", \"sign\", \"log\", \"refresh\", \"list\", \"look\", \"internet\", \"access\", \"life\", \"trouble\", \"website\", \"click\", \"password\", \"watch\", \"enter\", \"home\", \"chain\", \"button\", \"period\", \"site\", \"season\", \"hello\", \"number\", \"network\", \"google\", \"error\", \"time\", \"problem\", \"show\", \"email\", \"please\", \"option\", \"price\", \"charge\", \"profit\", \"download\", \"brokerage\", \"hota\", \"bahut\", \"paisa\", \"limit\", \"buying\", \"target\", \"jata\", \"delivery\", \"mera\", \"sale\", \"selling\", \"baar\", \"karo\", \"alert\", \"baad\", \"gaya\", \"play\", \"store\", \"hone\", \"bhut\", \"make\", \"maine\", \"isme\", \"band\", \"maintenance\", \"angel\", \"share\", \"report\", \"sell\", \"loss\", \"rupee\", \"trade\", \"show\", \"install\", \"rate\"], \"Freq\": [2504.0, 3241.0, 2390.0, 3047.0, 5070.0, 3412.0, 1115.0, 1365.0, 2218.0, 2208.0, 1052.0, 1972.0, 1624.0, 2845.0, 1612.0, 1994.0, 1217.0, 1146.0, 774.0, 1343.0, 1103.0, 630.0, 1882.0, 1239.0, 965.0, 649.0, 1358.0, 729.0, 706.0, 386.0, 3409.924009466292, 1969.688505311625, 2215.187602533855, 2204.9907582200653, 1341.5109874887644, 676.2175772187603, 666.4692883282672, 602.5638297859771, 475.91417514008486, 441.13534084837374, 380.7517114038024, 322.4830444532616, 364.10176226692636, 341.29857553280914, 307.4540704541586, 291.7369889683857, 247.6042816609114, 198.66951990784108, 237.255105537466, 226.21261382629078, 201.73204801406854, 167.88197459021373, 164.53202312015972, 399.56868345992774, 147.53380023711367, 215.903682120126, 138.04381669088522, 152.43501445664361, 152.14557372560813, 192.813411680947, 258.81269153233313, 1693.118000678626, 181.34531724482187, 2299.916695943788, 1132.8532149194634, 345.3883758413668, 360.5735517015058, 399.43376688148413, 864.9115250590262, 586.728567635443, 450.2034887941343, 814.6784228239575, 377.2367166521384, 383.0473929460717, 373.9016381189055, 349.30795564532417, 424.1305409365189, 3045.412698144058, 1215.4709794282276, 1100.9563344311878, 1144.413276308232, 1621.0611024463278, 963.2191671283106, 704.714842369681, 666.5384044348828, 646.1879012563791, 457.5138338241089, 226.92571634296195, 225.86934551510458, 211.06776878434604, 240.07408514660267, 194.04431780497075, 194.07082167280552, 169.0558544536719, 165.71510025494592, 157.3150077230504, 136.20311009732094, 210.3006735051709, 111.60344515187883, 122.90519446960495, 116.0840823657906, 122.83772629032114, 81.15599347793078, 76.55368017391841, 86.87984545338543, 69.8644789871547, 59.774919069960475, 65.50275079286517, 4066.367024170481, 1640.9774756035176, 137.55179858447676, 200.6065087898684, 967.3068303269991, 629.8114446959592, 147.968077014582, 283.56878253348725, 703.8831876690442, 587.8143158563349, 402.0040996927574, 346.01722926398287, 692.8791151260309, 254.73494134134788, 304.3643173242254, 279.57138250733027, 262.4623023650196, 226.3876378186182, 270.34260237446745, 225.62120930341374, 2388.021856040225, 772.1595531725401, 647.5520295825148, 443.9503122815004, 389.7048368951044, 317.1944966033655, 202.79845138959874, 188.5822182660251, 158.37333305210876, 246.67848124175086, 178.5232648190594, 129.3939755337579, 117.5699745385605, 102.51963399768437, 96.67333811109815, 90.26848369298787, 86.29722378255167, 94.61157049948588, 56.792294091490945, 71.63844833170269, 53.084125354248485, 49.20501553671604, 55.66317694611633, 50.31936832810347, 52.75682264654127, 45.58327420288575, 41.71968221138179, 77.94878130011666, 36.19620749174181, 32.90540217251727, 296.90150684418086, 44.75334092824149, 2547.0282350378056, 111.82029872931938, 607.8339019348314, 262.55793686983986, 141.90646507358895, 297.0521457821065, 540.0794771677771, 113.08309938042646, 79.80079708752021, 224.60232362512042, 124.27296351357677, 203.56654910904996, 139.61073283683342, 113.96475411930447, 105.46485913404034, 117.37404407265538, 2502.181659364338, 370.3961348500782, 382.3379233052601, 334.5006845809383, 305.2195378355452, 251.7708888261576, 214.09018862610134, 173.42707696650413, 185.18895367110272, 139.86605161026256, 134.09604027495055, 126.16555312757971, 134.33473641754085, 161.0981916600748, 112.33891540077283, 105.84436741869085, 112.70686793581562, 94.2649763191777, 104.50061842455435, 91.58361755114201, 83.13581960470233, 66.59843091385626, 62.02856922321362, 60.4182259485057, 56.42611309952272, 56.84989586639192, 48.438040202149196, 49.70477050523312, 49.675062519693086, 62.29325518422011, 54.513786742631986, 59.578300484199836, 52.127141106265775, 331.9411458711075, 79.02276615439584, 70.43955222174783, 185.24124570188528, 578.3845769305213, 351.0868203103502, 220.6606483380648, 95.20448075067378, 218.96588399392078, 176.83927458969504, 1113.807781466719, 1050.385453525988, 628.5987596428341, 384.097144803993, 285.1370618496746, 208.0733626288333, 185.74493745279932, 162.4099460590346, 171.1350009120227, 148.1460829108252, 139.7766354502933, 131.59649055412737, 128.34331693765054, 119.80534995217046, 117.68620916100396, 114.97525815577154, 95.88288996043653, 92.76706130978111, 88.75541478854618, 73.07516522199987, 67.94329397019453, 69.20453007022633, 67.34930957201797, 61.37809521951317, 58.907418567004555, 74.79401981244906, 57.73184667135682, 54.578128473692566, 54.51106974855342, 57.26819178157635, 59.90536907378754, 1045.0226461097352, 104.06067836512848, 379.83952513689957, 643.3132595846585, 118.14505653809258, 123.1356328312047, 124.81283356519883, 75.58748897883896, 73.19551509028564], \"Total\": [2504.0, 3241.0, 2390.0, 3047.0, 5070.0, 3412.0, 1115.0, 1365.0, 2218.0, 2208.0, 1052.0, 1972.0, 1624.0, 2845.0, 1612.0, 1994.0, 1217.0, 1146.0, 774.0, 1343.0, 1103.0, 630.0, 1882.0, 1239.0, 965.0, 649.0, 1358.0, 729.0, 706.0, 386.0, 3412.366025242969, 1972.1229159077993, 2218.4370909994045, 2208.415621002492, 1343.66374333254, 678.3830994802623, 668.6241606808949, 604.580925349493, 478.0665688429902, 443.21831788225103, 383.00039372132045, 324.5090781347059, 366.4415500358089, 343.5344221902399, 309.5963567941757, 294.12580981624575, 249.92087275297573, 200.65017558932968, 239.82700201646938, 228.67865918686482, 204.14291436288926, 169.97039876942318, 166.6334505323646, 404.78000841266856, 149.48828713002504, 218.85737601641247, 139.9764352082405, 154.68306391028483, 154.41827837186577, 195.86624591221948, 264.2606380897318, 1882.9225748211722, 185.2225371842358, 2845.9220519674136, 1358.977149789736, 373.7840557904715, 409.76652713878116, 523.315082896408, 1657.5332535957134, 954.4178661461048, 677.8949600599624, 1898.3339181298827, 658.8841719359906, 743.905425019539, 900.3069500741051, 1046.0769466095292, 5070.700300433847, 3047.8021776380533, 1217.678745023638, 1103.2254985204308, 1146.8776412946647, 1624.7391832788674, 965.6107556626249, 706.9165049430422, 669.023627121088, 648.6294247131481, 459.70180769048017, 229.2896235278633, 228.29704375899092, 213.39712338699593, 242.76595878897223, 196.33185844975506, 196.60799431454433, 171.31922320858277, 167.96668410663958, 159.7828224383044, 138.5751820964386, 214.4829798627734, 113.96534238431784, 125.5962440973584, 118.7344658288654, 125.64990970237221, 83.41834134185312, 78.91343619730218, 89.5711604431815, 72.56031496661704, 62.15961856998082, 68.21887592343703, 5070.700300433847, 1994.1081197372953, 149.30847327514013, 227.29780364595706, 1612.3563675610553, 1239.520018954115, 170.82826272970115, 458.8324247455611, 1898.3339181298827, 1657.5332535957134, 900.3069500741051, 743.905425019539, 3241.683347838357, 441.85604385858545, 729.4379531473006, 658.8841719359906, 562.8880311734193, 374.40644904327286, 1046.0769466095292, 677.8949600599624, 2390.191791214329, 774.331826889321, 649.5744397052922, 446.00403251081724, 391.8134587083821, 319.21106098643355, 204.8003966421901, 190.59250989784303, 160.48503935970908, 250.37216394245476, 181.2347159301535, 131.4068054238533, 119.60882552711347, 104.49341726013343, 98.7351210193197, 92.31714058616214, 88.33989242577718, 96.85538757542476, 58.77821700477846, 74.34182161787646, 55.194922257290486, 51.191840587561266, 58.03406904634681, 52.529180515072404, 55.154237840685745, 47.7544197138582, 43.78635772709441, 81.96921997136138, 38.21474787434923, 34.806815817116025, 314.52169971285696, 47.49682614944657, 3241.683347838357, 148.93411463714585, 1239.520018954115, 516.5300070374337, 229.79474079827887, 954.4178661461048, 2845.9220519674136, 213.00502577255338, 114.64255854053825, 1358.977149789736, 355.35543256769887, 1657.5332535957134, 562.8880311734193, 374.40644904327286, 410.0379772230416, 1898.3339181298827, 2504.690993959721, 372.476955555204, 384.55071163368586, 336.8045745633005, 307.559656944291, 253.8921366301872, 216.31291236167726, 175.54456488444592, 187.48198479922735, 141.94923094423999, 136.2273911533425, 128.23184895107, 136.5616388814053, 164.12223590944515, 114.5504311545011, 107.9532915258434, 114.97931790477237, 96.30247651982253, 106.76025189852542, 93.79578618413244, 85.52187392521084, 68.93143303982954, 64.2233112543396, 62.582872311021745, 58.45434543953515, 59.02065054951643, 50.44426610928488, 51.775356147548685, 51.781540362539, 64.98971147613715, 56.877570735694746, 62.3015273619468, 54.44607191566713, 471.29229106547643, 89.66584692506032, 84.32430523814777, 441.85604385858545, 5070.700300433847, 1994.1081197372953, 1046.0769466095292, 190.3980313578286, 1898.3339181298827, 1882.9225748211722, 1115.9265896546249, 1052.4186876166116, 630.7224060550103, 386.3699123417668, 287.1706268461954, 210.06187254916128, 187.6693609855836, 164.3425805058068, 173.2868762017579, 150.28705927373974, 141.83403472256387, 133.56664947228705, 130.4279293399873, 121.8245932717938, 119.76800514455735, 117.051320604569, 97.84203430777126, 94.73789870192707, 90.83646064278469, 75.09087808158024, 69.92218644948491, 71.32830067538853, 69.4882643139266, 63.346288372283986, 60.83051509616387, 77.26001252833056, 59.76001091611533, 56.499104554037345, 56.58982793852184, 59.490858846671514, 62.35397262917102, 1365.663951621904, 116.90922799537515, 729.4379531473006, 1612.3563675610553, 167.56652561280484, 900.3069500741051, 1046.0769466095292, 171.08352218433487, 142.70400032993297], \"Category\": [\"Default\", \"Default\", \"Default\", \"Default\", \"Default\", \"Default\", \"Default\", \"Default\", \"Default\", \"Default\", \"Default\", \"Default\", \"Default\", \"Default\", \"Default\", \"Default\", \"Default\", \"Default\", \"Default\", \"Default\", \"Default\", \"Default\", \"Default\", \"Default\", \"Default\", \"Default\", \"Default\", \"Default\", \"Default\", \"Default\", \"Topic1\", \"Topic1\", \"Topic1\", \"Topic1\", \"Topic1\", \"Topic1\", \"Topic1\", \"Topic1\", \"Topic1\", \"Topic1\", \"Topic1\", \"Topic1\", \"Topic1\", \"Topic1\", \"Topic1\", \"Topic1\", \"Topic1\", \"Topic1\", \"Topic1\", \"Topic1\", \"Topic1\", \"Topic1\", \"Topic1\", \"Topic1\", \"Topic1\", \"Topic1\", \"Topic1\", \"Topic1\", \"Topic1\", \"Topic1\", \"Topic1\", \"Topic1\", \"Topic1\", \"Topic1\", \"Topic1\", \"Topic1\", \"Topic1\", \"Topic1\", \"Topic1\", \"Topic1\", \"Topic1\", \"Topic1\", \"Topic1\", \"Topic1\", \"Topic1\", \"Topic1\", \"Topic1\", \"Topic2\", \"Topic2\", \"Topic2\", \"Topic2\", \"Topic2\", \"Topic2\", \"Topic2\", \"Topic2\", \"Topic2\", \"Topic2\", \"Topic2\", \"Topic2\", \"Topic2\", \"Topic2\", \"Topic2\", \"Topic2\", \"Topic2\", \"Topic2\", \"Topic2\", \"Topic2\", \"Topic2\", \"Topic2\", \"Topic2\", \"Topic2\", \"Topic2\", \"Topic2\", \"Topic2\", \"Topic2\", \"Topic2\", \"Topic2\", \"Topic2\", \"Topic2\", \"Topic2\", \"Topic2\", \"Topic2\", \"Topic2\", \"Topic2\", \"Topic2\", \"Topic2\", \"Topic2\", \"Topic2\", \"Topic2\", \"Topic2\", \"Topic2\", \"Topic2\", \"Topic2\", \"Topic2\", \"Topic2\", \"Topic2\", \"Topic2\", \"Topic2\", \"Topic3\", \"Topic3\", \"Topic3\", \"Topic3\", \"Topic3\", \"Topic3\", \"Topic3\", \"Topic3\", \"Topic3\", \"Topic3\", \"Topic3\", \"Topic3\", \"Topic3\", \"Topic3\", \"Topic3\", \"Topic3\", \"Topic3\", \"Topic3\", \"Topic3\", \"Topic3\", \"Topic3\", \"Topic3\", \"Topic3\", \"Topic3\", \"Topic3\", \"Topic3\", \"Topic3\", \"Topic3\", \"Topic3\", \"Topic3\", \"Topic3\", \"Topic3\", \"Topic3\", \"Topic3\", \"Topic3\", \"Topic3\", \"Topic3\", \"Topic3\", \"Topic3\", \"Topic3\", \"Topic3\", \"Topic3\", \"Topic3\", \"Topic3\", \"Topic3\", \"Topic3\", \"Topic3\", \"Topic3\", \"Topic4\", \"Topic4\", \"Topic4\", \"Topic4\", \"Topic4\", \"Topic4\", \"Topic4\", \"Topic4\", \"Topic4\", \"Topic4\", \"Topic4\", \"Topic4\", \"Topic4\", \"Topic4\", \"Topic4\", \"Topic4\", \"Topic4\", \"Topic4\", \"Topic4\", \"Topic4\", \"Topic4\", \"Topic4\", \"Topic4\", \"Topic4\", \"Topic4\", \"Topic4\", \"Topic4\", \"Topic4\", \"Topic4\", \"Topic4\", \"Topic4\", \"Topic4\", \"Topic4\", \"Topic4\", \"Topic4\", \"Topic4\", \"Topic4\", \"Topic4\", \"Topic4\", \"Topic4\", \"Topic4\", \"Topic4\", \"Topic4\", \"Topic5\", \"Topic5\", \"Topic5\", \"Topic5\", \"Topic5\", \"Topic5\", \"Topic5\", \"Topic5\", \"Topic5\", \"Topic5\", \"Topic5\", \"Topic5\", \"Topic5\", \"Topic5\", \"Topic5\", \"Topic5\", \"Topic5\", \"Topic5\", \"Topic5\", \"Topic5\", \"Topic5\", \"Topic5\", \"Topic5\", \"Topic5\", \"Topic5\", \"Topic5\", \"Topic5\", \"Topic5\", \"Topic5\", \"Topic5\", \"Topic5\", \"Topic5\", \"Topic5\", \"Topic5\", \"Topic5\", \"Topic5\", \"Topic5\", \"Topic5\", \"Topic5\", \"Topic5\"], \"logprob\": [30.0, 29.0, 28.0, 27.0, 26.0, 25.0, 24.0, 23.0, 22.0, 21.0, 20.0, 19.0, 18.0, 17.0, 16.0, 15.0, 14.0, 13.0, 12.0, 11.0, 10.0, 9.0, 8.0, 7.0, 6.0, 5.0, 4.0, 3.0, 2.0, 1.0, -2.5622, -3.111, -2.9935, -2.9982, -3.4951, -4.1801, -4.1946, -4.2954, -4.5314, -4.6073, -4.7545, -4.9206, -4.7992, -4.8639, -4.9683, -5.0208, -5.1848, -5.405, -5.2275, -5.2752, -5.3897, -5.5734, -5.5935, -4.7062, -5.7026, -5.3218, -5.7691, -5.6699, -5.6718, -5.4349, -5.1405, -3.2623, -5.4962, -2.956, -3.6641, -4.852, -4.8089, -4.7066, -3.934, -4.3221, -4.5869, -3.9938, -4.7638, -4.7485, -4.7726, -4.8407, -4.6466, -2.4642, -3.3827, -3.4817, -3.443, -3.0948, -3.6153, -3.9278, -3.9835, -4.0145, -4.3598, -5.061, -5.0657, -5.1334, -5.0047, -5.2175, -5.2174, -5.3554, -5.3753, -5.4274, -5.5715, -5.1371, -5.7707, -5.6742, -5.7313, -5.6747, -6.0892, -6.1476, -6.0211, -6.2391, -6.395, -6.3035, -2.1751, -3.0826, -5.5616, -5.1843, -3.6111, -4.0402, -5.4886, -4.8382, -3.929, -4.1092, -4.4891, -4.6391, -3.9448, -4.9454, -4.7674, -4.8524, -4.9155, -5.0634, -4.8859, -5.0668, -2.1179, -3.2469, -3.4229, -3.8004, -3.9308, -4.1366, -4.5839, -4.6566, -4.8312, -4.3881, -4.7114, -5.0333, -5.1291, -5.2661, -5.3248, -5.3934, -5.4383, -5.3464, -5.8567, -5.6245, -5.9243, -6.0001, -5.8768, -5.9778, -5.9304, -6.0766, -6.1652, -5.5401, -6.3072, -6.4025, -4.2027, -6.095, -2.0535, -5.1792, -3.4862, -4.3257, -4.941, -4.2022, -3.6044, -5.168, -5.5166, -4.4818, -5.0737, -4.5801, -4.9573, -5.1603, -5.2378, -5.1308, -1.7628, -3.6731, -3.6414, -3.775, -3.8666, -4.0592, -4.2213, -4.4319, -4.3663, -4.647, -4.6891, -4.7501, -4.6873, -4.5057, -4.8662, -4.9257, -4.8629, -5.0416, -4.9385, -5.0704, -5.1672, -5.389, -5.4601, -5.4864, -5.5547, -5.5473, -5.7074, -5.6816, -5.6822, -5.4558, -5.5892, -5.5004, -5.634, -3.7827, -5.2179, -5.3329, -4.366, -3.2274, -3.7266, -4.191, -5.0316, -4.1988, -4.4124, -2.5664, -2.625, -3.1384, -3.631, -3.9289, -4.244, -4.3575, -4.4918, -4.4395, -4.5837, -4.6419, -4.7022, -4.7272, -4.796, -4.8139, -4.8372, -5.0188, -5.0518, -5.096, -5.2904, -5.3632, -5.3448, -5.372, -5.4649, -5.5059, -5.2672, -5.5261, -5.5823, -5.5835, -5.5342, -5.4891, -2.6301, -4.9369, -3.6422, -3.1153, -4.81, -4.7686, -4.7551, -5.2566, -5.2888], \"loglift\": [30.0, 29.0, 28.0, 27.0, 26.0, 25.0, 24.0, 23.0, 22.0, 21.0, 20.0, 19.0, 18.0, 17.0, 16.0, 15.0, 14.0, 13.0, 12.0, 11.0, 10.0, 9.0, 8.0, 7.0, 6.0, 5.0, 4.0, 3.0, 2.0, 1.0, 1.0698, 1.0692, 1.069, 1.0689, 1.0689, 1.0673, 1.0672, 1.0671, 1.066, 1.0658, 1.0646, 1.0642, 1.0641, 1.0639, 1.0635, 1.0623, 1.0612, 1.0606, 1.0597, 1.0596, 1.0586, 1.0581, 1.0578, 1.0575, 1.0573, 1.0569, 1.0566, 1.0558, 1.0556, 1.0548, 1.0496, 0.9642, 1.0493, 0.8575, 0.8885, 0.9915, 0.9426, 0.8003, 0.42, 0.5839, 0.6612, 0.2245, 0.5128, 0.4067, 0.1917, -0.0264, -1.4107, 1.2807, 1.2797, 1.2794, 1.2794, 1.2792, 1.279, 1.2784, 1.2778, 1.2777, 1.2767, 1.2711, 1.2708, 1.2705, 1.2704, 1.2698, 1.2685, 1.2682, 1.268, 1.2659, 1.2642, 1.2618, 1.2606, 1.2598, 1.2589, 1.2589, 1.254, 1.2511, 1.251, 1.2436, 1.2424, 1.2409, 1.0608, 1.0866, 1.1995, 1.1566, 0.7706, 0.6044, 1.1378, 0.8003, 0.2894, 0.2448, 0.4752, 0.5161, -0.2615, 0.7307, 0.4075, 0.4242, 0.5185, 0.7784, -0.0716, 0.1814, 1.8701, 1.8682, 1.8679, 1.8664, 1.8656, 1.8646, 1.8611, 1.8604, 1.8577, 1.8561, 1.8559, 1.8555, 1.8538, 1.8519, 1.8499, 1.8485, 1.8476, 1.8475, 1.8366, 1.8339, 1.832, 1.8314, 1.8293, 1.828, 1.8265, 1.8244, 1.8226, 1.8207, 1.8167, 1.8148, 1.8133, 1.8115, 1.6298, 1.5844, 1.1584, 1.1943, 1.389, 0.7038, 0.209, 1.2378, 1.5087, 0.0708, 0.8203, -0.2261, 0.4767, 0.6815, 0.5131, -0.9124, 2.1784, 2.1738, 2.1737, 2.1726, 2.1718, 2.171, 2.1691, 2.1673, 2.1671, 2.1647, 2.1637, 2.1632, 2.163, 2.1608, 2.1599, 2.1597, 2.1595, 2.1581, 2.158, 2.1556, 2.1511, 2.145, 2.1447, 2.1442, 2.1441, 2.142, 2.1389, 2.1386, 2.1379, 2.1371, 2.137, 2.1347, 2.1359, 1.8289, 2.0531, 1.9995, 1.3101, 0.0084, 0.4425, 0.6233, 1.4863, 0.0196, -0.1859, 2.1833, 2.1833, 2.1818, 2.1793, 2.1781, 2.1757, 2.1749, 2.1734, 2.1727, 2.1709, 2.1706, 2.1703, 2.1691, 2.1685, 2.1677, 2.1673, 2.165, 2.1642, 2.162, 2.158, 2.1565, 2.155, 2.1539, 2.1536, 2.1531, 2.1528, 2.1507, 2.1506, 2.1478, 2.1471, 2.1451, 1.9176, 2.0688, 1.5327, 1.2664, 1.8357, 0.1958, 0.0592, 1.3683, 1.5176]}, \"token.table\": {\"Topic\": [1, 3, 4, 5, 1, 3, 4, 5, 1, 3, 5, 1, 3, 5, 1, 3, 5, 1, 3, 5, 1, 3, 4, 5, 1, 2, 3, 4, 5, 1, 2, 3, 4, 5, 1, 2, 3, 4, 5, 1, 3, 5, 1, 3, 5, 1, 3, 5, 1, 3, 5, 1, 3, 4, 5, 1, 3, 5, 1, 3, 5, 1, 3, 5, 1, 2, 3, 4, 5, 1, 3, 5, 1, 2, 3, 4, 5, 1, 2, 3, 4, 5, 1, 3, 4, 5, 1, 3, 5, 1, 2, 3, 5, 1, 2, 3, 4, 5, 1, 3, 4, 5, 1, 2, 3, 5, 1, 3, 4, 5, 1, 3, 4, 5, 1, 3, 5, 1, 3, 4, 5, 1, 2, 3, 4, 5, 1, 3, 4, 5, 1, 3, 4, 5, 1, 2, 3, 4, 5, 1, 2, 3, 4, 5, 1, 3, 5, 1, 2, 3, 5, 1, 2, 3, 4, 5, 1, 2, 3, 4, 5, 1, 3, 4, 5, 1, 2, 3, 4, 5, 1, 3, 5, 1, 3, 5, 1, 3, 5, 1, 3, 5, 1, 3, 4, 5, 1, 3, 4, 5, 1, 2, 3, 5, 1, 2, 3, 4, 5, 1, 3, 4, 5, 1, 2, 3, 4, 5, 1, 3, 4, 5, 1, 2, 3, 4, 5, 1, 2, 3, 4, 5, 1, 2, 3, 4, 5, 1, 2, 3, 4, 5, 1, 2, 3, 4, 5, 1, 3, 4, 5, 1, 3, 5, 1, 3, 4, 5, 1, 2, 3, 4, 5, 1, 3, 5, 1, 2, 3, 4, 5, 1, 2, 3, 4, 5, 1, 2, 3, 4, 5, 1, 2, 3, 4, 5, 1, 2, 3, 4, 5, 1, 2, 3, 4, 5, 1, 3, 4, 5, 1, 2, 3, 4, 5, 1, 3, 4, 5, 1, 3, 5, 1, 3, 5, 1, 2, 3, 4, 5, 1, 2, 3, 4, 5, 1, 3, 5, 1, 3, 4, 5, 1, 3, 5, 1, 3, 4, 5, 1, 2, 3, 5, 1, 3, 5, 1, 2, 3, 4, 5, 1, 3, 5, 1, 3, 5, 1, 3, 4, 5, 1, 2, 3, 5, 1, 3, 4, 5, 1, 3, 4, 5, 1, 3, 4, 5, 1, 2, 3, 4, 5, 1, 2, 3, 4, 5, 1, 2, 3, 4, 5, 1, 2, 3, 4, 5, 1, 2, 3, 4, 5, 1, 3, 5, 1, 3, 5, 1, 2, 3, 5, 1, 3, 4, 5, 1, 2, 3, 4, 5, 1, 3, 4, 5, 1, 2, 3, 4, 5, 1, 2, 3, 4, 5, 1, 2, 3, 4, 5, 1, 2, 3, 4, 5, 1, 2, 3, 4, 5, 1, 2, 3, 4, 5, 1, 2, 3, 4, 5, 1, 2, 3, 4, 5, 1, 2, 3, 4, 5, 1, 2, 3, 4, 5, 1, 2, 3, 4, 5, 1, 2, 3, 5, 1, 3, 4, 5, 1, 3, 5, 1, 2, 3, 4, 5, 1, 3, 5, 1, 2, 3, 4, 5, 1, 2, 3, 4, 5, 1, 2, 3, 4, 5, 1, 3, 4, 5, 1, 2, 3, 5, 1, 2, 3, 4, 5, 1, 3, 5, 1, 2, 3, 4, 5, 1, 2, 3, 4, 5, 1, 2, 3, 4, 5, 1, 3, 5, 1, 2, 3, 4, 5, 1, 3, 4, 5, 1, 2, 3, 5, 1, 2, 3, 4, 5, 1, 2, 3, 5, 1, 2, 3, 4, 5, 1, 2, 3, 4, 5, 1, 2, 3, 4, 5, 1, 3, 5, 1, 2, 3, 4, 5, 1, 2, 3, 4, 5, 1, 2, 3, 4, 5, 1, 2, 3, 4, 5, 1, 2, 3, 5, 1, 2, 3, 5, 1, 3, 5, 1, 3, 4, 5, 1, 2, 3, 4, 5, 1, 2, 3, 4, 5, 1, 2, 3, 4, 5, 1, 3, 5, 1, 2, 3, 5, 1, 2, 3, 5, 1, 2, 3, 4, 5, 1, 3, 4, 5, 1, 2, 3, 4, 5, 1, 2, 3, 4, 5, 1, 2, 3, 4, 5, 1, 3, 4, 5, 1, 2, 3, 4, 5, 1, 2, 3, 4, 5, 1, 2, 3, 4, 5, 1, 2, 3, 4, 5, 1, 2, 3, 4, 5, 1, 2, 3, 4, 5, 1, 3, 4, 5, 1, 2, 3, 4, 5, 1, 3, 4, 5, 1, 2, 3, 5, 1, 3, 5, 1, 2, 3, 4, 5, 1, 3, 4, 5, 1, 2, 3, 4, 5, 1, 2, 3, 4, 5, 1, 2, 3, 4, 5, 1, 2, 3, 4, 5, 1, 2, 3, 4, 5, 1, 2, 3, 4, 5, 1, 2, 3, 4, 5, 1, 2, 3, 4, 5, 1, 3, 5, 1, 3, 5, 1, 2, 3, 4, 5, 1, 2, 3, 4, 5, 1, 3, 4, 5, 1, 3, 5, 1, 3, 4, 5, 1, 3, 4, 5, 1, 2, 3, 5, 1, 3, 4, 5, 1, 2, 3, 4, 5, 1, 3, 4, 5, 1, 3, 5, 1, 2, 3, 4, 5, 1, 3, 4, 5, 1, 2, 3, 4, 5, 1, 2, 3, 4, 5, 1, 3, 5, 1, 3, 5, 1, 3, 1, 2, 3, 4, 5, 1, 2, 3, 4, 5, 1, 2, 3, 4, 5], \"Freq\": [0.009366781945686024, 0.009366781945686024, 0.9835121042970325, 0.009366781945686024, 0.0004183764682297538, 0.999083006132652, 0.0004183764682297538, 0.0004183764682297538, 0.02616790782679027, 0.9420446817644497, 0.02616790782679027, 0.011008795289069114, 0.011008795289069114, 0.9797827807271511, 0.0012914360036281123, 0.9969885948009027, 0.0012914360036281123, 0.9900441221275715, 0.0066894873116727805, 0.0066894873116727805, 0.016037470554557266, 0.016037470554557266, 0.016037470554557266, 0.962248233273436, 0.99892353773151, 0.0005070677856505127, 0.0005070677856505127, 0.0005070677856505127, 0.0005070677856505127, 0.0043802582089310016, 0.9899383552184062, 0.0043802582089310016, 0.0043802582089310016, 0.0043802582089310016, 0.0046623746119146695, 0.9790986685020806, 0.0046623746119146695, 0.0046623746119146695, 0.009324749223829339, 0.013317196782724791, 0.013317196782724791, 0.9721553651389098, 0.010220556094064914, 0.010220556094064914, 0.9811733850302319, 0.0053285203016001, 0.0053285203016001, 0.9911047760976186, 0.0022421321941203443, 0.9955066941894328, 0.0022421321941203443, 0.01767102033048027, 0.01767102033048027, 0.01767102033048027, 0.9719061181764149, 0.0015394694416450464, 0.99757619818599, 0.0015394694416450464, 0.9922680802980053, 0.0030815778891242402, 0.0030815778891242402, 0.0164391177424546, 0.0164391177424546, 0.9699079468048215, 0.013781638082195093, 0.9647146657536565, 0.013781638082195093, 0.013781638082195093, 0.013781638082195093, 0.003482250294824151, 0.003482250294824151, 0.9924413340248829, 0.9800929940691905, 0.015136571336975914, 0.0037841428342439785, 0.0037841428342439785, 0.0037841428342439785, 0.017231257715211837, 0.017231257715211837, 0.9649504320518629, 0.017231257715211837, 0.017231257715211837, 0.019311901364823886, 0.019311901364823886, 0.9655950682411943, 0.019311901364823886, 0.00665393284579848, 0.00665393284579848, 0.9847820611781751, 0.004361296357915995, 0.9900142732469309, 0.004361296357915995, 0.004361296357915995, 0.011164307742047613, 0.9712947735581422, 0.011164307742047613, 0.011164307742047613, 0.011164307742047613, 0.010324670883395766, 0.9808437339225977, 0.010324670883395766, 0.010324670883395766, 0.0021753231840091125, 0.9962980182761735, 0.0021753231840091125, 0.0021753231840091125, 0.01931420804040853, 0.01931420804040853, 0.9657104020204265, 0.01931420804040853, 0.002600437262881929, 0.002600437262881929, 0.9933670344208968, 0.002600437262881929, 0.0009501921732924346, 0.0009501921732924346, 0.9977017819570564, 0.9949949769836897, 0.0022562244376047383, 0.0022562244376047383, 0.0022562244376047383, 0.006258495029314691, 0.9825837196024064, 0.006258495029314691, 0.006258495029314691, 0.006258495029314691, 0.015570670220346658, 0.015570670220346658, 0.9653815536614927, 0.015570670220346658, 0.007044772228409019, 0.007044772228409019, 0.9862681119772626, 0.007044772228409019, 0.00721629937533887, 0.9814167150460863, 0.00721629937533887, 0.00721629937533887, 0.00721629937533887, 0.988191095623983, 0.007411433217179872, 0.0024704777390599573, 0.0024704777390599573, 0.0024704777390599573, 0.017013105380836977, 0.9697470067077077, 0.017013105380836977, 0.0008212346680820053, 0.9978001217196364, 0.0008212346680820053, 0.0008212346680820053, 0.5721794756311507, 0.42496088375788377, 0.001517717441992442, 0.001517717441992442, 0.001517717441992442, 0.9947770452612746, 0.0026109633733891724, 0.0026109633733891724, 0.0026109633733891724, 0.0026109633733891724, 0.006231110413716589, 0.9845154453672211, 0.006231110413716589, 0.006231110413716589, 0.0008067638962731576, 0.5082612546520894, 0.49051244893407986, 0.0008067638962731576, 0.0008067638962731576, 0.022838163572148715, 0.9592028700302461, 0.022838163572148715, 0.020940470138511656, 0.9632616263715362, 0.020940470138511656, 0.0076670695077378235, 0.0076670695077378235, 0.9813848969904414, 0.010128108313194125, 0.9824265063798302, 0.010128108313194125, 0.003251401727831724, 0.003251401727831724, 0.9916775269886757, 0.003251401727831724, 0.008360587068663387, 0.9865492741022795, 0.008360587068663387, 0.008360587068663387, 0.002588193252261945, 0.002588193252261945, 0.002588193252261945, 0.9938662088685869, 0.005252155145032087, 0.24685129181650808, 0.24685129181650808, 0.49895473877804825, 0.005252155145032087, 0.016943222256776583, 0.016943222256776583, 0.9657636686362654, 0.016943222256776583, 0.0022631805401309543, 0.5771110377333933, 0.0022631805401309543, 0.4186883999242265, 0.0022631805401309543, 0.0046229325336251325, 0.0046229325336251325, 0.9893075621957784, 0.0046229325336251325, 0.005853832287589813, 0.8663671785632923, 0.005853832287589813, 0.005853832287589813, 0.12293047803938606, 0.521859816762977, 0.35474401416951495, 0.12307445389554601, 0.0006033061465467942, 0.0006033061465467942, 0.007958620920370788, 0.978910373205607, 0.007958620920370788, 0.007958620920370788, 0.007958620920370788, 0.005093416870272831, 0.9881228728329293, 0.005093416870272831, 0.005093416870272831, 0.005093416870272831, 0.012672113244438685, 0.9757527198217787, 0.012672113244438685, 0.012672113244438685, 0.012672113244438685, 0.9964870889588964, 0.0014740933268622726, 0.0014740933268622726, 0.0014740933268622726, 0.0039940542281283265, 0.9865313943476967, 0.007988108456256653, 0.8337152689986733, 0.16556569772700927, 0.0007358475454533745, 0.0007358475454533745, 0.984339429260815, 0.006475917297768519, 0.006475917297768519, 0.006475917297768519, 0.006475917297768519, 0.014301612274702639, 0.014301612274702639, 0.9725096346797795, 0.0015417123582425253, 0.9959461834246713, 0.0015417123582425253, 0.0015417123582425253, 0.0015417123582425253, 0.011858977043164614, 0.011858977043164614, 0.09487181634531691, 0.830128393021523, 0.059294885215823066, 0.6150345889586905, 0.0722953775777677, 0.3111844513130001, 0.0010477590953299667, 0.0010477590953299667, 0.8081739267630283, 0.001756899840789192, 0.18974518280523275, 0.00035137996815783843, 0.00035137996815783843, 0.986944118272723, 0.0045691857327440875, 0.0045691857327440875, 0.0045691857327440875, 0.0045691857327440875, 0.006697543535638711, 0.9242610079181421, 0.006697543535638711, 0.06697543535638711, 0.006697543535638711, 0.01836679791241735, 0.01836679791241735, 0.9550734914457022, 0.01836679791241735, 0.2735890469707898, 0.46545669030095405, 0.2487173154279907, 0.01065931351834246, 0.0017765522530570764, 0.019823858629116578, 0.019823858629116578, 0.9515452141975956, 0.019823858629116578, 0.015786244556635014, 0.015786244556635014, 0.9629609179547359, 0.0047605021695023095, 0.0047605021695023095, 0.9901844512564805, 0.2702511708250837, 0.618962358986482, 0.10897224630043698, 0.0021794449260087393, 0.0021794449260087393, 0.005845098272658571, 0.5435941393572471, 0.005845098272658571, 0.005845098272658571, 0.4442274687220514, 0.9973850889381284, 0.0016540382901129823, 0.0016540382901129823, 0.01038394895061877, 0.01038394895061877, 0.9760912013581644, 0.01038394895061877, 0.9772028973988421, 0.010797822070705438, 0.005398911035352719, 0.9987617859447382, 0.0007442338196309525, 0.0007442338196309525, 0.0007442338196309525, 0.9923140763241719, 0.0040012664367910155, 0.0040012664367910155, 0.0040012664367910155, 0.017699395554907807, 0.017699395554907807, 0.9734667555199293, 0.0003281052843052193, 0.9990805907093928, 0.0003281052843052193, 0.0003281052843052193, 0.0003281052843052193, 0.007486898892432606, 0.007486898892432606, 0.9882706538011039, 0.010555437831129128, 0.010555437831129128, 0.9816557182950089, 0.010661459759363596, 0.010661459759363596, 0.980854297861451, 0.010661459759363596, 0.005770777464045806, 0.005770777464045806, 0.005770777464045806, 0.9868029463518329, 0.007798374648575601, 0.007798374648575601, 0.9825952057205257, 0.007798374648575601, 0.019037037893881975, 0.9518518946940987, 0.019037037893881975, 0.019037037893881975, 0.009263265490710913, 0.009263265490710913, 0.9819061420153568, 0.009263265490710913, 0.006093019598829695, 0.006093019598829695, 0.006093019598829695, 0.9809761554115808, 0.006093019598829695, 0.012199701306775673, 0.024399402613551346, 0.9515767019285024, 0.012199701306775673, 0.012199701306775673, 0.0003992508466759319, 0.0003992508466759319, 0.0003992508466759319, 0.9989256183831816, 0.0003992508466759319, 0.008697216318748867, 0.008697216318748867, 0.008697216318748867, 0.9827854440186219, 0.008697216318748867, 0.0006202102836066313, 0.5997433442476124, 0.0006202102836066313, 0.0006202102836066313, 0.39879521235906396, 0.9858802290164042, 0.007144059630553653, 0.007144059630553653, 0.016733598014292406, 0.016733598014292406, 0.9705486848289596, 0.01680930515018022, 0.01680930515018022, 0.01680930515018022, 0.9581303935602725, 0.012943306210742703, 0.012943306210742703, 0.012943306210742703, 0.9707479658057027, 0.9984506700625637, 0.0004507677968679746, 0.0004507677968679746, 0.0004507677968679746, 0.0004507677968679746, 0.008208523198341195, 0.008208523198341195, 0.008208523198341195, 0.9850227838009433, 0.014658699464973795, 0.9674741646882704, 0.014658699464973795, 0.014658699464973795, 0.014658699464973795, 0.00411919366697233, 0.9886064800733592, 0.00411919366697233, 0.00411919366697233, 0.00411919366697233, 0.0003084817030839324, 0.21377782023716516, 0.7857028977547759, 0.0003084817030839324, 0.0003084817030839324, 0.16455965547387824, 0.32524731905425347, 0.5091669339956468, 0.0019359959467515088, 0.0019359959467515088, 0.0014947155219362798, 0.9969752531314986, 0.0014947155219362798, 0.0014947155219362798, 0.0014947155219362798, 0.2081457299123612, 0.006714378384269716, 0.7520103790382081, 0.026857513537078864, 0.006714378384269716, 0.8809894808165608, 0.004880828148568204, 0.002440414074284102, 0.1122590474170687, 0.002440414074284102, 0.011152518314311648, 0.011152518314311648, 0.10037266482880483, 0.8810489468306202, 0.011152518314311648, 0.002121825497589288, 0.2928119186673217, 0.002121825497589288, 0.7044460651996436, 0.002121825497589288, 0.005333845814950649, 0.005333845814950649, 0.005333845814950649, 0.98676147576587, 0.005333845814950649, 0.8991341559335174, 0.0021243571315617657, 0.0005310892828904414, 0.09400280307160815, 0.004779803546013974, 0.0008719325968122803, 0.9974908907532487, 0.0008719325968122803, 0.0008719325968122803, 0.003938680469874395, 0.003938680469874395, 0.9925474784083478, 0.003938680469874395, 0.006084850298213897, 0.006084850298213897, 0.9857457483106514, 0.015978812781718324, 0.015978812781718324, 0.015978812781718324, 0.9587287669030994, 0.015978812781718324, 0.004882803043331578, 0.9912090177963102, 0.004882803043331578, 0.3179914802019309, 0.3292478157843001, 0.34894640305344626, 0.002814083895592309, 0.002814083895592309, 0.9901973431676172, 0.00600119601919768, 0.00600119601919768, 0.00600119601919768, 0.00600119601919768, 0.015387050923701653, 0.015387050923701653, 0.015387050923701653, 0.9539971572695025, 0.015387050923701653, 0.00569655916523682, 0.00569655916523682, 0.9855047355859698, 0.00569655916523682, 0.005837056585194123, 0.9864625628978069, 0.005837056585194123, 0.005837056585194123, 0.9960752828940215, 0.001495608532873906, 0.001495608532873906, 0.001495608532873906, 0.001495608532873906, 0.014019680695197677, 0.014019680695197677, 0.9673579679686397, 0.4293238361367351, 0.3708515099880509, 0.06163299242699141, 0.1153643191582147, 0.022651441661201973, 0.9933371364803737, 0.002728948177143884, 0.002728948177143884, 0.002728948177143884, 0.002728948177143884, 0.10998786437435369, 0.8843024295698036, 0.0043995145749741475, 0.0043995145749741475, 0.0043995145749741475, 0.0008961162940919763, 0.0008961162940919763, 0.9982735516184617, 0.0005014773221683388, 0.822924285678244, 0.0005014773221683388, 0.17601854008108692, 0.0005014773221683388, 0.002552234941843275, 0.9953716273188773, 0.002552234941843275, 0.002552234941843275, 0.001585483550924909, 0.001585483550924909, 0.001585483550924909, 0.9972691535317677, 0.013451378756093554, 0.013451378756093554, 0.968499270438736, 0.013451378756093554, 0.013451378756093554, 0.3363605777625263, 0.14715775277110527, 0.007007512036719298, 0.5115483786805087, 0.0055177066649051525, 0.0055177066649051525, 0.9876694930180223, 0.0055177066649051525, 0.0055177066649051525, 0.009389449815778519, 0.4506935911573689, 0.5305039145914863, 0.004694724907889259, 0.004694724907889259, 0.008729779451037067, 0.008729779451037067, 0.008729779451037067, 0.9777352985161516, 0.008729779451037067, 0.0076099559438683176, 0.981684316759013, 0.0076099559438683176, 0.007962021533262018, 0.979328648591228, 0.007962021533262018, 0.007962021533262018, 0.007962021533262018, 0.008553644713482834, 0.09409009184831117, 0.008553644713482834, 0.008553644713482834, 0.8895790502022147, 0.011987771321200729, 0.971009477017259, 0.011987771321200729, 0.011987771321200729, 0.011987771321200729, 0.016087614805328568, 0.965256888319714, 0.016087614805328568, 0.016087614805328568, 0.016087614805328568, 0.004686098782065112, 0.9887668430157386, 0.004686098782065112, 0.004686098782065112, 0.005967779043832986, 0.005967779043832986, 0.28645339410398335, 0.7041979271722923, 0.00834947529428266, 0.00834947529428266, 0.9852380847253538, 0.007340667625898845, 0.007340667625898845, 0.9836494618704452, 0.007340667625898845, 0.01605097085646717, 0.01605097085646717, 0.01605097085646717, 0.9630582513880301, 0.01605097085646717, 0.989502871703497, 0.004898529067839094, 0.004898529067839094, 0.004898529067839094, 0.004898529067839094, 0.060320414930637375, 0.41675923042985824, 0.0013709185211508495, 0.0013709185211508495, 0.5209490380373228, 0.008543261151049036, 0.008543261151049036, 0.9824750323706393, 0.008422154367892825, 0.9769699066755676, 0.008422154367892825, 0.008422154367892825, 0.000906433001540601, 0.9979827346962017, 0.000906433001540601, 0.000906433001540601, 0.0006154834020694396, 0.9976985947545616, 0.0006154834020694396, 0.0012309668041388792, 0.0006154834020694396, 0.018130973052125614, 0.9609415717626575, 0.018130973052125614, 0.018130973052125614, 0.23358601478873767, 0.0007322445604662622, 0.0007322445604662622, 0.0007322445604662622, 0.7651955656872441, 0.3336274651029775, 0.2581072079593236, 0.07743216238779708, 0.21126552947781674, 0.11949407775894612, 0.007322700636804993, 0.007322700636804993, 0.007322700636804993, 0.9812418853318691, 0.007322700636804993, 0.9917758577360676, 0.004983798280080741, 0.004983798280080741, 0.004983798280080741, 0.01758162289748476, 0.01758162289748476, 0.01758162289748476, 0.9669892593616619, 0.01758162289748476, 0.008774597426538374, 0.9827549117722979, 0.008774597426538374, 0.008774597426538374, 0.008774597426538374, 0.005953561596567059, 0.9882912250301318, 0.005953561596567059, 0.005953561596567059, 0.005953561596567059, 0.002969080812802487, 0.002969080812802487, 0.002969080812802487, 0.9946420722888331, 0.002969080812802487, 0.46337171324169524, 0.2731454309635256, 0.25607384152830526, 0.0024387984907457646, 0.004877596981491529, 0.9882123280835773, 0.004169672270394841, 0.004169672270394841, 0.004169672270394841, 0.004169672270394841, 0.018117608633245495, 0.9602332575620112, 0.018117608633245495, 0.018117608633245495, 0.9993066320478324, 0.0002930517982544963, 0.0002930517982544963, 0.0002930517982544963, 0.0002930517982544963, 0.014390919241878132, 0.014390919241878132, 0.014390919241878132, 0.9641915892058349, 0.001414594217291011, 0.9972889231901628, 0.001414594217291011, 0.001414594217291011, 0.007050493923803703, 0.007050493923803703, 0.9870691493325184, 0.514850392427156, 0.46511288715351434, 0.01881959659002659, 0.0013442568992876138, 0.0013442568992876138, 0.9916137359591031, 0.003230012169247893, 0.003230012169247893, 0.003230012169247893, 0.9926225087603116, 0.0029109164479774532, 0.0029109164479774532, 0.0029109164479774532, 0.0029109164479774532, 0.7624469713191574, 0.10892099590273677, 0.007643578659841176, 0.11847546922753824, 0.001910894664960294, 0.004351709688942933, 0.3742470332490922, 0.6179427758298964, 0.004351709688942933, 0.004351709688942933, 0.08361764152452922, 0.8018616283932448, 0.0001972114186899274, 0.11398820000277804, 0.0001972114186899274, 0.0010356139822756804, 0.9972962649314803, 0.0010356139822756804, 0.0010356139822756804, 0.0010356139822756804, 0.4154138763109801, 0.4465143804198235, 0.001110732289601551, 0.001110732289601551, 0.13662007162099077, 0.9882863613229604, 0.004372948501429028, 0.004372948501429028, 0.004372948501429028, 0.004372948501429028, 0.9984533613283619, 0.000905626631590351, 0.0004528133157951755, 0.0004528133157951755, 0.0004528133157951755, 0.0031794308657016397, 0.944290967113387, 0.050870893851226236, 0.01131991416946988, 0.9735126185744096, 0.01131991416946988, 0.011692914971373328, 0.011692914971373328, 0.011692914971373328, 0.9705119426239861, 0.011692914971373328, 0.008722764152602145, 0.2878512170358708, 0.6978211322081717, 0.008722764152602145, 0.008722764152602145, 0.9826544429463785, 0.006464831861489332, 0.006464831861489332, 0.006464831861489332, 0.019534363064940913, 0.9571837901821048, 0.019534363064940913, 0.002684729847271833, 0.002684729847271833, 0.9933500434905781, 0.002684729847271833, 0.9956772362309465, 0.0020917588996448456, 0.0020917588996448456, 0.0020917588996448456, 0.9853663100608767, 0.0051055249225952165, 0.0051055249225952165, 0.0051055249225952165, 0.01083222458636132, 0.9749002127725188, 0.01083222458636132, 0.01083222458636132, 0.992772447213749, 0.003399905641142976, 0.003399905641142976, 0.003399905641142976, 0.003399905641142976, 0.9884074004433198, 0.005883377383591189, 0.005883377383591189, 0.005883377383591189, 0.005246795902609167, 0.9916444255931326, 0.005246795902609167, 0.0050862631679164825, 0.9867350545757976, 0.0050862631679164825, 0.0050862631679164825, 0.0050862631679164825, 0.017107368023381503, 0.017107368023381503, 0.958012609309364, 0.017107368023381503, 0.014507169746814723, 0.014507169746814723, 0.014507169746814723, 0.9719803730365865, 0.014507169746814723, 0.002670894164764835, 0.6036220812368527, 0.3044819347831912, 0.08546861327247472, 0.002670894164764835, 0.009569980829610808, 0.9857080254499132, 0.009569980829610808, 0.0031327235243972323, 0.9930733572339226, 0.0031327235243972323, 0.02873000521662934, 0.9480901721487682, 0.6638196571931967, 0.333384983390361, 0.0014751547937626593, 0.0014751547937626593, 0.0014751547937626593, 0.9229928207354926, 0.010701366037512957, 0.061532854715699505, 0.002675341509378239, 0.002675341509378239, 0.02105403836571198, 0.02105403836571198, 0.947431726457039, 0.02105403836571198, 0.02105403836571198], \"Term\": [\"access\", \"access\", \"access\", \"access\", \"account\", \"account\", \"account\", \"account\", \"activate\", \"activate\", \"activate\", \"alert\", \"alert\", \"alert\", \"amount\", \"amount\", \"amount\", \"analysis\", \"analysis\", \"analysis\", \"angel\", \"angel\", \"angel\", \"angel\", \"application\", \"application\", \"application\", \"application\", \"application\", \"asap\", \"asap\", \"asap\", \"asap\", \"asap\", \"auto\", \"auto\", \"auto\", \"auto\", \"auto\", \"baad\", \"baad\", \"baad\", \"baar\", \"baar\", \"baar\", \"bahut\", \"bahut\", \"bahut\", \"balance\", \"balance\", \"balance\", \"band\", \"band\", \"band\", \"band\", \"bank\", \"bank\", \"bank\", \"beginner\", \"beginner\", \"beginner\", \"bhut\", \"bhut\", \"bhut\", \"book\", \"book\", \"book\", \"book\", \"book\", \"brokerage\", \"brokerage\", \"brokerage\", \"bug\", \"bug\", \"bug\", \"bug\", \"bug\", \"business\", \"business\", \"business\", \"business\", \"business\", \"button\", \"button\", \"button\", \"button\", \"buying\", \"buying\", \"buying\", \"call\", \"call\", \"call\", \"call\", \"cant\", \"cant\", \"cant\", \"cant\", \"cant\", \"card\", \"card\", \"card\", \"card\", \"care\", \"care\", \"care\", \"care\", \"chain\", \"chain\", \"chain\", \"chain\", \"change\", \"change\", \"change\", \"change\", \"charge\", \"charge\", \"charge\", \"chart\", \"chart\", \"chart\", \"chart\", \"class\", \"class\", \"class\", \"class\", \"class\", \"click\", \"click\", \"click\", \"click\", \"connection\", \"connection\", \"connection\", \"connection\", \"contact\", \"contact\", \"contact\", \"contact\", \"contact\", \"crash\", \"crash\", \"crash\", \"crash\", \"crash\", \"credit\", \"credit\", \"credit\", \"customer\", \"customer\", \"customer\", \"customer\", \"dashboard\", \"dashboard\", \"dashboard\", \"dashboard\", \"dashboard\", \"data\", \"data\", \"data\", \"data\", \"data\", \"date\", \"date\", \"date\", \"date\", \"day\", \"day\", \"day\", \"day\", \"day\", \"debit\", \"debit\", \"debit\", \"deduction\", \"deduction\", \"deduction\", \"delivery\", \"delivery\", \"delivery\", \"deposit\", \"deposit\", \"deposit\", \"detail\", \"detail\", \"detail\", \"detail\", \"document\", \"document\", \"document\", \"document\", \"download\", \"download\", \"download\", \"download\", \"email\", \"email\", \"email\", \"email\", \"email\", \"enter\", \"enter\", \"enter\", \"enter\", \"error\", \"error\", \"error\", \"error\", \"error\", \"everything\", \"everything\", \"everything\", \"everything\", \"exit\", \"exit\", \"exit\", \"exit\", \"exit\", \"experience\", \"experience\", \"experience\", \"experience\", \"experience\", \"expire\", \"expire\", \"expire\", \"expire\", \"expire\", \"face\", \"face\", \"face\", \"face\", \"face\", \"facing\", \"facing\", \"facing\", \"facing\", \"facing\", \"feature\", \"feature\", \"feature\", \"feature\", \"fraud\", \"fraud\", \"fraud\", \"fund\", \"fund\", \"fund\", \"fund\", \"future\", \"future\", \"future\", \"future\", \"future\", \"gaya\", \"gaya\", \"gaya\", \"glitch\", \"glitch\", \"glitch\", \"glitch\", \"glitch\", \"google\", \"google\", \"google\", \"google\", \"google\", \"grow\", \"grow\", \"grow\", \"grow\", \"grow\", \"groww\", \"groww\", \"groww\", \"groww\", \"groww\", \"hang\", \"hang\", \"hang\", \"hang\", \"hang\", \"hell\", \"hell\", \"hell\", \"hell\", \"hell\", \"hello\", \"hello\", \"hello\", \"hello\", \"help\", \"help\", \"help\", \"help\", \"help\", \"home\", \"home\", \"home\", \"home\", \"hone\", \"hone\", \"hone\", \"hota\", \"hota\", \"hota\", \"hour\", \"hour\", \"hour\", \"hour\", \"hour\", \"install\", \"install\", \"install\", \"install\", \"install\", \"interface\", \"interface\", \"interface\", \"internet\", \"internet\", \"internet\", \"internet\", \"invest\", \"invest\", \"invest\", \"investment\", \"investment\", \"investment\", \"investment\", \"investor\", \"investor\", \"investor\", \"investor\", \"isme\", \"isme\", \"isme\", \"issue\", \"issue\", \"issue\", \"issue\", \"issue\", \"jata\", \"jata\", \"jata\", \"karo\", \"karo\", \"karo\", \"life\", \"life\", \"life\", \"life\", \"limit\", \"limit\", \"limit\", \"limit\", \"line\", \"line\", \"line\", \"line\", \"link\", \"link\", \"link\", \"link\", \"list\", \"list\", \"list\", \"list\", \"log\", \"log\", \"log\", \"log\", \"log\", \"logging\", \"logging\", \"logging\", \"logging\", \"logging\", \"login\", \"login\", \"login\", \"login\", \"login\", \"look\", \"look\", \"look\", \"look\", \"look\", \"loss\", \"loss\", \"loss\", \"loss\", \"loss\", \"love\", \"love\", \"love\", \"maine\", \"maine\", \"maine\", \"maintenance\", \"maintenance\", \"maintenance\", \"maintenance\", \"make\", \"make\", \"make\", \"make\", \"market\", \"market\", \"market\", \"market\", \"market\", \"mera\", \"mera\", \"mera\", \"mera\", \"min\", \"min\", \"min\", \"min\", \"min\", \"minute\", \"minute\", \"minute\", \"minute\", \"minute\", \"money\", \"money\", \"money\", \"money\", \"money\", \"month\", \"month\", \"month\", \"month\", \"month\", \"morning\", \"morning\", \"morning\", \"morning\", \"morning\", \"name\", \"name\", \"name\", \"name\", \"name\", \"need\", \"need\", \"need\", \"need\", \"need\", \"network\", \"network\", \"network\", \"network\", \"network\", \"number\", \"number\", \"number\", \"number\", \"number\", \"opening\", \"opening\", \"opening\", \"opening\", \"opening\", \"option\", \"option\", \"option\", \"option\", \"option\", \"order\", \"order\", \"order\", \"order\", \"page\", \"page\", \"page\", \"page\", \"paisa\", \"paisa\", \"paisa\", \"password\", \"password\", \"password\", \"password\", \"password\", \"payment\", \"payment\", \"payment\", \"people\", \"people\", \"people\", \"people\", \"people\", \"performance\", \"performance\", \"performance\", \"performance\", \"performance\", \"period\", \"period\", \"period\", \"period\", \"period\", \"phone\", \"phone\", \"phone\", \"phone\", \"place\", \"place\", \"place\", \"place\", \"platform\", \"platform\", \"platform\", \"platform\", \"platform\", \"play\", \"play\", \"play\", \"please\", \"please\", \"please\", \"please\", \"please\", \"portfolio\", \"portfolio\", \"portfolio\", \"portfolio\", \"portfolio\", \"position\", \"position\", \"position\", \"position\", \"position\", \"price\", \"price\", \"price\", \"problem\", \"problem\", \"problem\", \"problem\", \"problem\", \"process\", \"process\", \"process\", \"process\", \"profit\", \"profit\", \"profit\", \"profit\", \"quality\", \"quality\", \"quality\", \"quality\", \"quality\", \"rate\", \"rate\", \"rate\", \"rate\", \"rating\", \"rating\", \"rating\", \"rating\", \"rating\", \"reason\", \"reason\", \"reason\", \"reason\", \"reason\", \"refresh\", \"refresh\", \"refresh\", \"refresh\", \"refresh\", \"refund\", \"refund\", \"refund\", \"reply\", \"reply\", \"reply\", \"reply\", \"reply\", \"report\", \"report\", \"report\", \"report\", \"report\", \"resolve\", \"resolve\", \"resolve\", \"resolve\", \"resolve\", \"respond\", \"respond\", \"respond\", \"respond\", \"respond\", \"response\", \"response\", \"response\", \"response\", \"rupee\", \"rupee\", \"rupee\", \"rupee\", \"sale\", \"sale\", \"sale\", \"screen\", \"screen\", \"screen\", \"screen\", \"season\", \"season\", \"season\", \"season\", \"season\", \"section\", \"section\", \"section\", \"section\", \"section\", \"sell\", \"sell\", \"sell\", \"sell\", \"sell\", \"selling\", \"selling\", \"selling\", \"server\", \"server\", \"server\", \"server\", \"service\", \"service\", \"service\", \"service\", \"session\", \"session\", \"session\", \"session\", \"session\", \"setup\", \"setup\", \"setup\", \"setup\", \"share\", \"share\", \"share\", \"share\", \"share\", \"show\", \"show\", \"show\", \"show\", \"show\", \"sign\", \"sign\", \"sign\", \"sign\", \"sign\", \"simple\", \"simple\", \"simple\", \"simple\", \"site\", \"site\", \"site\", \"site\", \"site\", \"solution\", \"solution\", \"solution\", \"solution\", \"solution\", \"solve\", \"solve\", \"solve\", \"solve\", \"solve\", \"something\", \"something\", \"something\", \"something\", \"something\", \"star\", \"star\", \"star\", \"star\", \"star\", \"start\", \"start\", \"start\", \"start\", \"start\", \"status\", \"status\", \"status\", \"status\", \"stock\", \"stock\", \"stock\", \"stock\", \"stock\", \"store\", \"store\", \"store\", \"store\", \"support\", \"support\", \"support\", \"support\", \"target\", \"target\", \"target\", \"team\", \"team\", \"team\", \"team\", \"team\", \"thank\", \"thank\", \"thank\", \"thank\", \"thanks\", \"thanks\", \"thanks\", \"thanks\", \"thanks\", \"thing\", \"thing\", \"thing\", \"thing\", \"thing\", \"till\", \"till\", \"till\", \"till\", \"till\", \"time\", \"time\", \"time\", \"time\", \"time\", \"today\", \"today\", \"today\", \"today\", \"today\", \"trade\", \"trade\", \"trade\", \"trade\", \"trade\", \"trader\", \"trader\", \"trader\", \"trader\", \"trader\", \"trading\", \"trading\", \"trading\", \"trading\", \"trading\", \"transaction\", \"transaction\", \"transaction\", \"transfer\", \"transfer\", \"transfer\", \"trouble\", \"trouble\", \"trouble\", \"trouble\", \"trouble\", \"trust\", \"trust\", \"trust\", \"trust\", \"trust\", \"understand\", \"understand\", \"understand\", \"understand\", \"unit\", \"unit\", \"unit\", \"update\", \"update\", \"update\", \"update\", \"user\", \"user\", \"user\", \"user\", \"value\", \"value\", \"value\", \"value\", \"verification\", \"verification\", \"verification\", \"verification\", \"version\", \"version\", \"version\", \"version\", \"version\", \"view\", \"view\", \"view\", \"view\", \"wallet\", \"wallet\", \"wallet\", \"waste\", \"waste\", \"waste\", \"waste\", \"waste\", \"watch\", \"watch\", \"watch\", \"watch\", \"website\", \"website\", \"website\", \"website\", \"website\", \"week\", \"week\", \"week\", \"week\", \"week\", \"withdraw\", \"withdraw\", \"withdraw\", \"withdrawal\", \"withdrawal\", \"withdrawal\", \"withdrawn\", \"withdrawn\", \"work\", \"work\", \"work\", \"work\", \"work\", \"year\", \"year\", \"year\", \"year\", \"year\", \"zero\", \"zero\", \"zero\", \"zero\", \"zero\"]}, \"R\": 30, \"lambda.step\": 0.01, \"plot.opts\": {\"xlab\": \"PC1\", \"ylab\": \"PC2\"}, \"topic.order\": [1, 2, 4, 3, 5]};\n",
       "\n",
       "function LDAvis_load_lib(url, callback){\n",
       "  var s = document.createElement('script');\n",
       "  s.src = url;\n",
       "  s.async = true;\n",
       "  s.onreadystatechange = s.onload = callback;\n",
       "  s.onerror = function(){console.warn(\"failed to load library \" + url);};\n",
       "  document.getElementsByTagName(\"head\")[0].appendChild(s);\n",
       "}\n",
       "\n",
       "if(typeof(LDAvis) !== \"undefined\"){\n",
       "   // already loaded: just create the visualization\n",
       "   !function(LDAvis){\n",
       "       new LDAvis(\"#\" + \"ldavis_el2132017033423162247506826344\", ldavis_el2132017033423162247506826344_data);\n",
       "   }(LDAvis);\n",
       "}else if(typeof define === \"function\" && define.amd){\n",
       "   // require.js is available: use it to load d3/LDAvis\n",
       "   require.config({paths: {d3: \"https://d3js.org/d3.v5\"}});\n",
       "   require([\"d3\"], function(d3){\n",
       "      window.d3 = d3;\n",
       "      LDAvis_load_lib(\"https://cdn.jsdelivr.net/gh/bmabey/pyLDAvis@3.4.0/pyLDAvis/js/ldavis.v3.0.0.js\", function(){\n",
       "        new LDAvis(\"#\" + \"ldavis_el2132017033423162247506826344\", ldavis_el2132017033423162247506826344_data);\n",
       "      });\n",
       "    });\n",
       "}else{\n",
       "    // require.js not available: dynamically load d3 & LDAvis\n",
       "    LDAvis_load_lib(\"https://d3js.org/d3.v5.js\", function(){\n",
       "         LDAvis_load_lib(\"https://cdn.jsdelivr.net/gh/bmabey/pyLDAvis@3.4.0/pyLDAvis/js/ldavis.v3.0.0.js\", function(){\n",
       "                 new LDAvis(\"#\" + \"ldavis_el2132017033423162247506826344\", ldavis_el2132017033423162247506826344_data);\n",
       "            })\n",
       "         });\n",
       "}\n",
       "</script>"
      ],
      "text/plain": [
       "PreparedData(topic_coordinates=              x         y  topics  cluster       Freq\n",
       "topic                                                \n",
       "0     -0.162038  0.119904       1        1  34.284492\n",
       "1     -0.054643 -0.157472       2        1  27.762014\n",
       "3     -0.185350  0.075284       3        1  15.397434\n",
       "2      0.128891 -0.243186       4        1  11.310547\n",
       "4      0.273140  0.205471       5        1  11.245513, topic_info=        Term         Freq        Total Category  logprob  loglift\n",
       "226    login  2504.000000  2504.000000  Default  30.0000  30.0000\n",
       "127    money  3241.000000  3241.000000  Default  29.0000  29.0000\n",
       "31   account  2390.000000  2390.000000  Default  28.0000  28.0000\n",
       "147    issue  3047.000000  3047.000000  Default  27.0000  27.0000\n",
       "6       time  5070.000000  5070.000000  Default  26.0000  26.0000\n",
       "..       ...          ...          ...      ...      ...      ...\n",
       "110    rupee   118.145057   167.566526   Topic5  -4.8100   1.8357\n",
       "40     trade   123.135633   900.306950   Topic5  -4.7686   0.1958\n",
       "61      show   124.812834  1046.076947   Topic5  -4.7551   0.0592\n",
       "488  install    75.587489   171.083522   Topic5  -5.2566   1.3683\n",
       "166     rate    73.195515   142.704000   Topic5  -5.2888   1.5176\n",
       "\n",
       "[259 rows x 6 columns], token_table=      Topic      Freq     Term\n",
       "term                          \n",
       "763       1  0.009367   access\n",
       "763       3  0.009367   access\n",
       "763       4  0.983512   access\n",
       "763       5  0.009367   access\n",
       "31        1  0.000418  account\n",
       "...     ...       ...      ...\n",
       "558       1  0.021054     zero\n",
       "558       2  0.021054     zero\n",
       "558       3  0.947432     zero\n",
       "558       4  0.021054     zero\n",
       "558       5  0.021054     zero\n",
       "\n",
       "[859 rows x 3 columns], R=30, lambda_step=0.01, plot_opts={'xlab': 'PC1', 'ylab': 'PC2'}, topic_order=[1, 2, 4, 3, 5])"
      ]
     },
     "execution_count": 32,
     "metadata": {},
     "output_type": "execute_result"
    }
   ],
   "source": [
    "import pyLDAvis\n",
    "import pyLDAvis.gensim\n",
    "pyLDAvis.enable_notebook()\n",
    "vis = pyLDAvis.gensim.prepare(ldamodel,doc_term_matrix,dictionary)\n",
    "vis"
   ]
  },
  {
   "cell_type": "markdown",
   "id": "122d332f",
   "metadata": {},
   "source": [
    "There is only one overlapping of clusters."
   ]
  },
  {
   "cell_type": "markdown",
   "id": "45c7b946",
   "metadata": {},
   "source": [
    "## Coherence Score for Each Topic"
   ]
  },
  {
   "cell_type": "code",
   "execution_count": 90,
   "id": "af120c06",
   "metadata": {},
   "outputs": [
    {
     "name": "stdout",
     "output_type": "stream",
     "text": [
      "Topic 1 Coherence Score: 0.479594191565063\n",
      "Topic 2 Coherence Score: 0.40544980081273013\n",
      "Topic 3 Coherence Score: 0.7074160402326329\n",
      "Topic 4 Coherence Score: 0.36810179230705\n",
      "Topic 5 Coherence Score: 0.7261255592465031\n"
     ]
    }
   ],
   "source": [
    "from gensim.models import CoherenceModel\n",
    "# Create a list to store coherence scores for each topic\n",
    "topic_coherence_scores = []\n",
    "\n",
    "# Calculate coherence scores for each topic\n",
    "for topic_id in range(5):\n",
    "    # Get the top words for the topic\n",
    "    top_words = [word for word, _ in lda_model.show_topic(topic_id)]\n",
    "    \n",
    "    # Compute coherence score for the topic\n",
    "    coherence_model = CoherenceModel(topics=[top_words], texts=d1[\"english_nouns\"], dictionary=dictionary, coherence='c_v')\n",
    "    coherence_score = coherence_model.get_coherence()\n",
    "    \n",
    "    # Append the coherence score to the list\n",
    "    topic_coherence_scores.append(coherence_score)\n",
    "\n",
    "# Print coherence scores for each topic\n",
    "for topic_id, score in enumerate(topic_coherence_scores):\n",
    "    print(f\"Topic {topic_id + 1} Coherence Score: {score}\")\n"
   ]
  },
  {
   "cell_type": "markdown",
   "id": "85f54821",
   "metadata": {},
   "source": [
    "Topics 3 and 5 appear to be the most coherent and interpretable based on their high coherence scores, while Topics 1, 2, and 4 have lower coherence scores, indicating that they may contain less interpretable or less cohesive terms"
   ]
  },
  {
   "cell_type": "markdown",
   "id": "37b30cdf",
   "metadata": {},
   "source": [
    "## Labeling Topics\n",
    "Labeling topics is an important step in topic modeling as it provides a human-readable summary or name for each topic. These labels help you understand and interpret the themes or subjects that each topic represents.Ofcourse, there will always be a little bit of ambiguity due to the inherent complexity and overlap of natural language.This is also why labeling topics can sometime become difficult.\n",
    "After Reviewing the Top terms and Manually inspecting the data i labeled the Topics as following\n",
    "  * Topic_Number 0-\"Application, Investment Options\" (It is a combination of two different themes-users talking about user-interface, their experience with     the grow app and about investment features that Groww lack or already have)\n",
    "  * Topic_Number 1-\"Time delay, Customer Service\" (It is also a combination of two different themes users experiencing time delay while order execution and     customer Service support)\n",
    "  * Topic_Number 2-\"Log in issues, Troubleshooting\"-\n",
    "  * Topic_Number 3-\"Financial Transactions\" \n",
    "  * Topic_Number 3-\"Charges, Brokerage\" "
   ]
  },
  {
   "cell_type": "code",
   "execution_count": 149,
   "id": "125a3dc4",
   "metadata": {},
   "outputs": [
    {
     "data": {
      "text/html": [
       "<style type=\"text/css\">\n",
       "#T_f3c29_row0_col2, #T_f3c29_row1_col2, #T_f3c29_row2_col2, #T_f3c29_row3_col2, #T_f3c29_row4_col2 {\n",
       "  width: 300px;\n",
       "}\n",
       "</style>\n",
       "<table id=\"T_f3c29\">\n",
       "  <thead>\n",
       "    <tr>\n",
       "      <th class=\"blank level0\" >&nbsp;</th>\n",
       "      <th id=\"T_f3c29_level0_col0\" class=\"col_heading level0 col0\" >Topic_Number</th>\n",
       "      <th id=\"T_f3c29_level0_col1\" class=\"col_heading level0 col1\" >Topic_Name</th>\n",
       "      <th id=\"T_f3c29_level0_col2\" class=\"col_heading level0 col2\" >Top_Keywords</th>\n",
       "    </tr>\n",
       "  </thead>\n",
       "  <tbody>\n",
       "    <tr>\n",
       "      <th id=\"T_f3c29_level0_row0\" class=\"row_heading level0 row0\" >0</th>\n",
       "      <td id=\"T_f3c29_row0_col0\" class=\"data row0 col0\" >0</td>\n",
       "      <td id=\"T_f3c29_row0_col1\" class=\"data row0 col1\" >Application, Investment Options</td>\n",
       "      <td id=\"T_f3c29_row0_col2\" class=\"data row0 col2\" >['stock', 'groww', 'market', 'trading', 'application', 'option', 'investment', 'fund', 'experience', 'please']</td>\n",
       "    </tr>\n",
       "    <tr>\n",
       "      <th id=\"T_f3c29_level0_row1\" class=\"row_heading level0 row1\" >1</th>\n",
       "      <td id=\"T_f3c29_row1_col0\" class=\"data row1 col0\" >1</td>\n",
       "      <td id=\"T_f3c29_row1_col1\" class=\"data row1 col1\" >Time delay, Customer Service</td>\n",
       "      <td id=\"T_f3c29_row1_col2\" class=\"data row1 col2\" >['time', 'issue', 'problem', 'session', 'customer', 'order', 'service', 'loss', 'today', 'support']</td>\n",
       "    </tr>\n",
       "    <tr>\n",
       "      <th id=\"T_f3c29_level0_row2\" class=\"row_heading level0 row2\" >2</th>\n",
       "      <td id=\"T_f3c29_row2_col0\" class=\"data row2 col0\" >2</td>\n",
       "      <td id=\"T_f3c29_row2_col1\" class=\"data row2 col1\" >Log in issues, Troubleshooting</td>\n",
       "      <td id=\"T_f3c29_row2_col2\" class=\"data row2 col2\" >['login', 'time', 'change', 'update', 'problem', 'something', 'number', 'detail', 'page', 'show']</td>\n",
       "    </tr>\n",
       "    <tr>\n",
       "      <th id=\"T_f3c29_level0_row3\" class=\"row_heading level0 row3\" >3</th>\n",
       "      <td id=\"T_f3c29_row3_col0\" class=\"data row3 col0\" >3</td>\n",
       "      <td id=\"T_f3c29_row3_col1\" class=\"data row3 col1\" >Financial Transactions</td>\n",
       "      <td id=\"T_f3c29_row3_col2\" class=\"data row3 col2\" >['money', 'account', 'amount', 'bank', 'day', 'groww', 'balance', 'process', 'withdrawal', 'grow']</td>\n",
       "    </tr>\n",
       "    <tr>\n",
       "      <th id=\"T_f3c29_level0_row4\" class=\"row_heading level0 row4\" >4</th>\n",
       "      <td id=\"T_f3c29_row4_col0\" class=\"data row4 col0\" >4</td>\n",
       "      <td id=\"T_f3c29_row4_col1\" class=\"data row4 col1\" >Charges, Brokerage</td>\n",
       "      <td id=\"T_f3c29_row4_col2\" class=\"data row4 col2\" >['price', 'charge', 'share', 'loss', 'profit', 'download', 'sell', 'brokerage', 'hota', 'bahut']</td>\n",
       "    </tr>\n",
       "  </tbody>\n",
       "</table>\n"
      ],
      "text/plain": [
       "<pandas.io.formats.style.Styler at 0x1d6de29e130>"
      ]
     },
     "execution_count": 149,
     "metadata": {},
     "output_type": "execute_result"
    }
   ],
   "source": [
    "topic_lookup_data = pd.DataFrame((ldamodel.print_topics()),columns=['Topic_Number','Top_Keywords'])\n",
    "topic_lookup_data['Topic_Name'] = [\"Application, Investment Options\",\"Time delay, Customer Service\",\"Log in issues, Troubleshooting\",\"Financial Transactions\",\"Charges, Brokerage\"]\n",
    "topic_lookup_data = topic_lookup_data[['Topic_Number','Topic_Name','Top_Keywords']]\n",
    "topic_lookup_data['Top_Keywords'] = topic_lookup_data.Top_Keywords.str\\\n",
    ".replace(r'[^a-z]',' ',regex=True).apply(lambda x: x.split())\n",
    "topic_lookup_data.style.set_properties(subset=['Top_Keywords'], **{'width': '300px'})"
   ]
  },
  {
   "cell_type": "code",
   "execution_count": 150,
   "id": "dd85486f",
   "metadata": {},
   "outputs": [],
   "source": [
    "for index,sent in enumerate(ldamodel[doc_term_matrix]):\n",
    "    topic_num =[]\n",
    "    topic_details = sorted(sent,key=lambda x: x[1], reverse=True)[:2] # Getting top 2 topics in descending order\n",
    "    topic_num.append(topic_details[0][0]) # Appending top topic\n",
    "    if len(topic_details) > 1:\n",
    "         if topic_details[1][1] > 0.35: # Appending second topic only if it has more than 35% influence on current row\n",
    "            topic_num.append(topic_details[1][0])\n",
    "    d1.loc[index,'Topic_Number'] = ','.join(str(x) for x in sorted(topic_num))"
   ]
  },
  {
   "cell_type": "code",
   "execution_count": 151,
   "id": "90a10ff2",
   "metadata": {},
   "outputs": [],
   "source": [
    "for index,topic_num in enumerate(d1.Topic_Number):\n",
    "  topic_name_list=[]\n",
    "  for single_topic_num in topic_num.split(','):\n",
    "    single_topic_num=int(single_topic_num)\n",
    "    topic_name_list.append(topic_lookup_data.loc\\\n",
    "                           [topic_lookup_data.Topic_Number == single_topic_num,'Topic_Name'][single_topic_num]) \n",
    "  # Extracting topic names from lookup table\n",
    "  d1.loc[index,'Topic_Name'] =' & '.join(topic_name_list)"
   ]
  },
  {
   "cell_type": "code",
   "execution_count": 171,
   "id": "f5b86696",
   "metadata": {},
   "outputs": [
    {
     "data": {
      "text/html": [
       "<style type=\"text/css\">\n",
       "#T_495f6_row0_col0, #T_495f6_row1_col0, #T_495f6_row2_col0, #T_495f6_row3_col0, #T_495f6_row4_col0 {\n",
       "  width: 300px;\n",
       "}\n",
       "</style>\n",
       "<table id=\"T_495f6\">\n",
       "  <thead>\n",
       "    <tr>\n",
       "      <th class=\"blank level0\" >&nbsp;</th>\n",
       "      <th id=\"T_495f6_level0_col0\" class=\"col_heading level0 col0\" >Reviews</th>\n",
       "      <th id=\"T_495f6_level0_col1\" class=\"col_heading level0 col1\" >Topic_Name</th>\n",
       "    </tr>\n",
       "  </thead>\n",
       "  <tbody>\n",
       "    <tr>\n",
       "      <th id=\"T_495f6_level0_row0\" class=\"row_heading level0 row0\" >14482</th>\n",
       "      <td id=\"T_495f6_row0_col0\" class=\"data row0 col0\" >Superb App for Share Market</td>\n",
       "      <td id=\"T_495f6_row0_col1\" class=\"data row0 col1\" >Application, Investment Options</td>\n",
       "    </tr>\n",
       "    <tr>\n",
       "      <th id=\"T_495f6_level0_row1\" class=\"row_heading level0 row1\" >11175</th>\n",
       "      <td id=\"T_495f6_row1_col0\" class=\"data row1 col0\" >which is the worst thing is that couldnot set the stop loss , limit price (high &low) and sell order together in groww app.</td>\n",
       "      <td id=\"T_495f6_row1_col1\" class=\"data row1 col1\" >Charges, Brokerage</td>\n",
       "    </tr>\n",
       "    <tr>\n",
       "      <th id=\"T_495f6_level0_row2\" class=\"row_heading level0 row2\" >16038</th>\n",
       "      <td id=\"T_495f6_row2_col0\" class=\"data row2 col0\" >Please come with insta trade feture for future and options trading. Where we can see everything like chart , profits and loss , most tradable buy call and put option</td>\n",
       "      <td id=\"T_495f6_row2_col1\" class=\"data row2 col1\" >Application, Investment Options</td>\n",
       "    </tr>\n",
       "    <tr>\n",
       "      <th id=\"T_495f6_level0_row3\" class=\"row_heading level0 row3\" >6092</th>\n",
       "      <td id=\"T_495f6_row3_col0\" class=\"data row3 col0\" >What nonsense update Very bad Very bad Very bad Very bad No realtime update Example Nifty is in up trend grow chart showing down trend so I am reducing my four star to one</td>\n",
       "      <td id=\"T_495f6_row3_col1\" class=\"data row3 col1\" >Application, Investment Options & Log in issues, Troubleshooting</td>\n",
       "    </tr>\n",
       "    <tr>\n",
       "      <th id=\"T_495f6_level0_row4\" class=\"row_heading level0 row4\" >9373</th>\n",
       "      <td id=\"T_495f6_row4_col0\" class=\"data row4 col0\" >Customer support services worst. No solution even after sending repeatedly messages in past one month and always got reply \"appreciate your patience and understanding ,wait for 2-3working days\". Please refer ticket id 5655143</td>\n",
       "      <td id=\"T_495f6_row4_col1\" class=\"data row4 col1\" >Time delay, Customer Service</td>\n",
       "    </tr>\n",
       "  </tbody>\n",
       "</table>\n"
      ],
      "text/plain": [
       "<pandas.io.formats.style.Styler at 0x1d6dea131f0>"
      ]
     },
     "execution_count": 171,
     "metadata": {},
     "output_type": "execute_result"
    }
   ],
   "source": [
    "d1.loc[d1.Topic_Number.str.contains(''),['Reviews','Topic_Name']].sample(5)\\\n",
    ".style.set_properties(subset=['Reviews'], **{'width':'300px'})"
   ]
  },
  {
   "cell_type": "markdown",
   "id": "cef8f2da",
   "metadata": {},
   "source": [
    "## Most Talked Topic in Reviews"
   ]
  },
  {
   "cell_type": "code",
   "execution_count": 172,
   "id": "5bf3cfc1",
   "metadata": {},
   "outputs": [
    {
     "data": {
      "image/png": "[encoded data removed]",
      "text/plain": [
       "<Figure size 864x432 with 1 Axes>"
      ]
     },
     "metadata": {
      "needs_background": "light"
     },
     "output_type": "display_data"
    }
   ],
   "source": [
    "import seaborn as sns\n",
    "plt.figure(figsize=(12,6))\n",
    "Y=d1.Topic_Name.value_counts()[:5].index\n",
    "X=d1.Topic_Name.value_counts()[:5].values\n",
    "ax=sns.barplot(x=X, y=Y)\n",
    "plt.ylabel('Topic Names',size=15)\n",
    "plt.xlabel('Count of topics',size=15)\n",
    "plt.title('Most Talked Topics in Reviews',size=15)\n",
    "for c in ax.containers:\n",
    "    total=X.sum()\n",
    "    ax.bar_label(c, label_type='edge', labels=[f'{val / total * 100.0:.1f} %' for val in X])"
   ]
  },
  {
   "cell_type": "markdown",
   "id": "b0984b7c",
   "metadata": {},
   "source": [
    "## Most Talked Combined Topics in Reviews"
   ]
  },
  {
   "cell_type": "code",
   "execution_count": 173,
   "id": "dde91777",
   "metadata": {},
   "outputs": [
    {
     "data": {
      "text/plain": [
       "Text(0.5, 1.0, 'Most Talked Combined Topics in Reviews')"
      ]
     },
     "execution_count": 173,
     "metadata": {},
     "output_type": "execute_result"
    },
    {
     "data": {
      "image/png": "[encoded data removed]",
      "text/plain": [
       "<Figure size 864x432 with 1 Axes>"
      ]
     },
     "metadata": {
      "needs_background": "light"
     },
     "output_type": "display_data"
    }
   ],
   "source": [
    "plt.figure(figsize=(12,6))\n",
    "Y=d1.Topic_Name.value_counts()[6:].index\n",
    "X=d1.Topic_Name.value_counts()[6:].values\n",
    "total=d1['Topic_Name'].count()\n",
    "ax=sns.barplot(x=X, y=Y)\n",
    "for c in ax.containers:\n",
    "    total=X.sum()\n",
    "    ax.bar_label(c, label_type='edge', labels=[f'{val / total * 100.0:.1f} %' for val in X])\n",
    "plt.ylabel('Topic Names combined',size=15)\n",
    "plt.xlabel('Count of combined topics',size=15)\n",
    "plt.title('Most Talked Combined Topics in Reviews',size=15)\n"
   ]
  },
  {
   "cell_type": "code",
   "execution_count": null,
   "id": "b9313ab4",
   "metadata": {},
   "outputs": [],
   "source": []
  },
  {
   "cell_type": "code",
   "execution_count": null,
   "id": "2de9ed8a",
   "metadata": {},
   "outputs": [],
   "source": []
  },
  {
   "cell_type": "markdown",
   "id": "27448477",
   "metadata": {},
   "source": []
  },
  {
   "cell_type": "markdown",
   "id": "3a7c874e",
   "metadata": {},
   "source": []
  },
  {
   "cell_type": "markdown",
   "id": "edd59c64",
   "metadata": {},
   "source": []
  }
 ],
 "metadata": {
  "kernelspec": {
   "display_name": "Python 3 (ipykernel)",
   "language": "python",
   "name": "python3"
  },
  "language_info": {
   "codemirror_mode": {
    "name": "ipython",
    "version": 3
   },
   "file_extension": ".py",
   "mimetype": "text/x-python",
   "name": "python",
   "nbconvert_exporter": "python",
   "pygments_lexer": "ipython3",
   "version": "3.9.7"
  }
 },
 "nbformat": 4,
 "nbformat_minor": 5
}
